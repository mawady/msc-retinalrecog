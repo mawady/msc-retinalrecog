{
  "nbformat": 4,
  "nbformat_minor": 0,
  "metadata": {
    "colab": {
      "name": "ConvNEXT.ipynb",
      "provenance": [],
      "collapsed_sections": [],
      "machine_shape": "hm",
      "authorship_tag": "ABX9TyP4nYCkLoiIzbrsKb7C7H7O"
    },
    "kernelspec": {
      "name": "python3",
      "display_name": "Python 3"
    },
    "language_info": {
      "name": "python"
    },
    "accelerator": "GPU",
    "gpuClass": "standard"
  },
  "cells": [
    {
      "cell_type": "markdown",
      "source": [
        "# ConvNEXT for DR detection"
      ],
      "metadata": {
        "id": "BqTdYbiDufny"
      }
    },
    {
      "cell_type": "markdown",
      "source": [
        "## Setup"
      ],
      "metadata": {
        "id": "v6T0uIkA2aCq"
      }
    },
    {
      "cell_type": "markdown",
      "source": [
        "### Google Drive Access"
      ],
      "metadata": {
        "id": "FqjI4jX32eZt"
      }
    },
    {
      "cell_type": "code",
      "execution_count": 1,
      "metadata": {
        "colab": {
          "base_uri": "https://localhost:8080/"
        },
        "id": "8wasxZn3ue1t",
        "outputId": "d51d42cf-dbf3-4931-a706-a9218856e2bb"
      },
      "outputs": [
        {
          "output_type": "stream",
          "name": "stdout",
          "text": [
            "Drive already mounted at /content/drive; to attempt to forcibly remount, call drive.mount(\"/content/drive\", force_remount=True).\n",
            "CWD: /content/drive/My Drive/University Of Stirling/Dissertation/ConvNEXT/APTOS2019\n"
          ]
        }
      ],
      "source": [
        "from google.colab import drive\n",
        "import os\n",
        "\n",
        "# Parameters\n",
        "DATASET_PATH = '/content/drive/My Drive/University Of Stirling/Dissertation/ConvNEXT/APTOS2019'\n",
        "PREP_PATH = DATASET_PATH + '/preprocessed/'\n",
        "MODEL_PATH= '/content/drive/My Drive/University Of Stirling/Dissertation/ConvNEXT/checkpoints/checkpoint.pth'\n",
        "\n",
        "# Load Dataset From Drive\n",
        "drive.mount('/content/drive')\n",
        "\n",
        "os.chdir(DATASET_PATH)\n",
        "print(\"CWD:\",os.getcwd())\n",
        "\n",
        "if not os.path.exists(PREP_PATH):\n",
        "  os.mkdir(PREP_PATH)"
      ]
    },
    {
      "cell_type": "markdown",
      "source": [
        "### Dataset Download"
      ],
      "metadata": {
        "id": "QNwZ7LwPlyVt"
      }
    },
    {
      "cell_type": "code",
      "source": [
        "# Dataset with already preprocessed images\n",
        "!gdown --id 1TqlyF-VVLcuebqQcWuAKnG7ay3IKjylC\n",
        "!unzip APTOS2019.zip\n",
        "\n",
        "# Parameters\n",
        "DATASET_PATH = '/content/APTOS2019'\n",
        "PREP_PATH = DATASET_PATH + \"/preprocessed/\"\n",
        "MODEL_PATH= '/content/checkpoints/checkpoint.pth'\n",
        "\n",
        "if not os.path.exists(PREP_PATH):\n",
        "  os.mkdir(PREP_PATH)\n",
        "\n",
        "if not os.path.exists(\"/checkpoints\"):\n",
        "  os.mkdir(\"/checkpoints\")"
      ],
      "metadata": {
        "id": "rkDiqk__l2WY"
      },
      "execution_count": null,
      "outputs": []
    },
    {
      "cell_type": "markdown",
      "source": [
        "### Environment Setup"
      ],
      "metadata": {
        "id": "7En8mOAo3LJU"
      }
    },
    {
      "cell_type": "code",
      "source": [
        "!pip install torchinfo"
      ],
      "metadata": {
        "colab": {
          "base_uri": "https://localhost:8080/"
        },
        "id": "Cm_dWwHWWU7U",
        "outputId": "7ee9edc6-f162-4a5e-805b-2251647e87e9"
      },
      "execution_count": 2,
      "outputs": [
        {
          "output_type": "stream",
          "name": "stdout",
          "text": [
            "Looking in indexes: https://pypi.org/simple, https://us-python.pkg.dev/colab-wheels/public/simple/\n",
            "Requirement already satisfied: torchinfo in /usr/local/lib/python3.7/dist-packages (1.7.0)\n"
          ]
        }
      ]
    },
    {
      "cell_type": "markdown",
      "source": [
        "## Imports and global parameters"
      ],
      "metadata": {
        "id": "ifpMFFxX2lkS"
      }
    },
    {
      "cell_type": "code",
      "source": [
        "import pandas as pd\n",
        "import cv2\n",
        "import numpy as np\n",
        "import os\n",
        "from sklearn.model_selection import train_test_split\n",
        "import shutil\n",
        "import torch\n",
        "import torchvision\n",
        "from torchvision.models import ConvNeXt_Tiny_Weights\n",
        "from torch import nn\n",
        "from torchvision.io import read_image\n",
        "from torch.utils.data import Dataset\n",
        "from torch.utils.data import DataLoader \n",
        "from torch.utils.data import WeightedRandomSampler\n",
        "from torch.utils.data import random_split\n",
        "import torchvision.transforms as transforms\n",
        "from matplotlib import pyplot as plt \n",
        "\n",
        "device = \"cuda\" if torch.cuda.is_available() else \"cpu\"\n",
        "device"
      ],
      "metadata": {
        "colab": {
          "base_uri": "https://localhost:8080/",
          "height": 37
        },
        "id": "M8h_iHOx2sX5",
        "outputId": "cc28c6b0-f0fc-4ac6-ce76-af4a2046986c"
      },
      "execution_count": 22,
      "outputs": [
        {
          "output_type": "execute_result",
          "data": {
            "text/plain": [
              "'cuda'"
            ],
            "application/vnd.google.colaboratory.intrinsic+json": {
              "type": "string"
            }
          },
          "metadata": {},
          "execution_count": 22
        }
      ]
    },
    {
      "cell_type": "code",
      "source": [
        "IMG_SIZE = 224\n",
        "BATCH_SIZE = 10\n",
        "NUM_EPOCHS = 30\n",
        "NUM_INIT_EPOCHS = 4\n",
        "LR_INIT = 0.0001\n",
        "LR = 0.0001\n",
        "DECAY_FACTOR = 0.1\n",
        "PATIENCE = 3\n",
        "LR_TSH = 0.00001\n",
        "TSH_MODE = 'abs'\n",
        "N_CLASSES = 5\n",
        "CLASSES = [ \"No DR\", \"Mild\", \"Moderate\", \"Severe\", \"Proliferative DR\" ]"
      ],
      "metadata": {
        "id": "c4XnQDs22u1c"
      },
      "execution_count": 32,
      "outputs": []
    },
    {
      "cell_type": "markdown",
      "source": [
        "## Dataset Preparation"
      ],
      "metadata": {
        "id": "fIl8zMTjz05Y"
      }
    },
    {
      "cell_type": "code",
      "source": [
        "'''\n",
        "# ref: https://www.kaggle.com/code/ratthachat/aptos-eye-preprocessing-in-diabetic-retinopathy/notebook\n",
        "# ref: https://www.kaggle.com/code/ratthachat/aptos-eye-preprocessing-in-diabetic-retinopathy/notebook\n",
        "# ref for circle crop: https://github.com/debayanmitra1993-data/Blindness-Detection-Diabetic-Retinopathy-/blob/master/research_paper_implementation.ipynb\n",
        "def crop_image_from_gray(img,tol=7):\n",
        "    if img.ndim ==2:\n",
        "        mask = img>tol\n",
        "        return img[np.ix_(mask.any(1),mask.any(0))]\n",
        "    elif img.ndim==3:\n",
        "        gray_img = cv2.cvtColor(img, cv2.COLOR_RGB2GRAY)\n",
        "        mask = gray_img>tol\n",
        "        \n",
        "        check_shape = img[:,:,0][np.ix_(mask.any(1),mask.any(0))].shape[0]\n",
        "        if (check_shape == 0): # image is too dark so that we crop out everything,\n",
        "            return img # return original image\n",
        "        else:\n",
        "            img1=img[:,:,0][np.ix_(mask.any(1),mask.any(0))]\n",
        "            img2=img[:,:,1][np.ix_(mask.any(1),mask.any(0))]\n",
        "            img3=img[:,:,2][np.ix_(mask.any(1),mask.any(0))]\n",
        "            img = np.stack([img1,img2,img3],axis=-1)\n",
        "        return img\n",
        "\n",
        "def circle_crop(img, sigmaX = 30):   \n",
        "    \"\"\"\n",
        "    Create circular crop around image centre    \n",
        "    \"\"\"    \n",
        "    img = crop_image_from_gray(img)    \n",
        "    \n",
        "    height, width, depth = img.shape    \n",
        "    \n",
        "    x = int(width/2)\n",
        "    y = int(height/2)\n",
        "    r = np.amin((x,y))\n",
        "    \n",
        "    circle_img = np.zeros((height, width), np.uint8)\n",
        "    cv2.circle(circle_img, (x,y), int(r), 1, thickness=-1)\n",
        "    img = cv2.bitwise_and(img, img, mask=circle_img)\n",
        "    img = crop_image_from_gray(img)\n",
        "    return img \n",
        "\n",
        "def preprocess(id_code):\n",
        "  path = DATASET_PATH + \"/train_images/\" + id_code + \".png\"\n",
        "\n",
        "  if(os.path.isfile(path) == False):\n",
        "    print(id_code + \" does not exist!\")\n",
        "    return\n",
        "\n",
        "  img = cv2.imread(path)\n",
        "\n",
        "\n",
        "  # Circle crop\n",
        "  img = circle_crop(img)\n",
        "\n",
        "  # Resize the image\n",
        "  img = cv2.resize(img, (224, 224))\n",
        "\n",
        "  # Extract Green Channel\n",
        "  img[:,:,0] = 0\n",
        "  img[:,:,2] = 0\n",
        "\n",
        "  # Convert to Greyscale\n",
        "  img = cv2.cvtColor(img, cv2.COLOR_BGR2GRAY)\n",
        "\n",
        "  # Apply Gaussian Blur\n",
        "  img = cv2.addWeighted(img,4, cv2.GaussianBlur( img , (0,0) , 512/10) ,-4 ,128)\n",
        "  \n",
        "  # Perform histogram equalization\n",
        "\n",
        "  clahe = cv2.createCLAHE(clipLimit=5.0, tileGridSize=(8,8))\n",
        "  img = clahe.apply(img)\n",
        "\n",
        "  cv2.imwrite(PREP_PATH + id_code + \".png\", img)\n",
        "\n",
        "\n",
        "for id_code in dataset[\"id_code\"]:\n",
        "  preprocess(id_code) \n",
        "  '''"
      ],
      "metadata": {
        "id": "IDgCkcf1z0NF",
        "colab": {
          "base_uri": "https://localhost:8080/",
          "height": 140
        },
        "outputId": "0c4a478c-ed86-4f2a-c49f-42919918d4b3"
      },
      "execution_count": 5,
      "outputs": [
        {
          "output_type": "execute_result",
          "data": {
            "text/plain": [
              "'\\n# ref: https://www.kaggle.com/code/ratthachat/aptos-eye-preprocessing-in-diabetic-retinopathy/notebook\\n# ref: https://www.kaggle.com/code/ratthachat/aptos-eye-preprocessing-in-diabetic-retinopathy/notebook\\n# ref for circle crop: https://github.com/debayanmitra1993-data/Blindness-Detection-Diabetic-Retinopathy-/blob/master/research_paper_implementation.ipynb\\ndef crop_image_from_gray(img,tol=7):\\n    if img.ndim ==2:\\n        mask = img>tol\\n        return img[np.ix_(mask.any(1),mask.any(0))]\\n    elif img.ndim==3:\\n        gray_img = cv2.cvtColor(img, cv2.COLOR_RGB2GRAY)\\n        mask = gray_img>tol\\n        \\n        check_shape = img[:,:,0][np.ix_(mask.any(1),mask.any(0))].shape[0]\\n        if (check_shape == 0): # image is too dark so that we crop out everything,\\n            return img # return original image\\n        else:\\n            img1=img[:,:,0][np.ix_(mask.any(1),mask.any(0))]\\n            img2=img[:,:,1][np.ix_(mask.any(1),mask.any(0))]\\n            img3=img[:,:,2][np.ix_(mask.any(1),mask.any(0))]\\n            img = np.stack([img1,img2,img3],axis=-1)\\n        return img\\n\\ndef circle_crop(img, sigmaX = 30):   \\n    \"\"\"\\n    Create circular crop around image centre    \\n    \"\"\"    \\n    img = crop_image_from_gray(img)    \\n    \\n    height, width, depth = img.shape    \\n    \\n    x = int(width/2)\\n    y = int(height/2)\\n    r = np.amin((x,y))\\n    \\n    circle_img = np.zeros((height, width), np.uint8)\\n    cv2.circle(circle_img, (x,y), int(r), 1, thickness=-1)\\n    img = cv2.bitwise_and(img, img, mask=circle_img)\\n    img = crop_image_from_gray(img)\\n    return img \\n\\ndef preprocess(id_code):\\n  path = DATASET_PATH + \"/train_images/\" + id_code + \".png\"\\n\\n  if(os.path.isfile(path) == False):\\n    print(id_code + \" does not exist!\")\\n    return\\n\\n  img = cv2.imread(path)\\n\\n\\n  # Circle crop\\n  img = circle_crop(img)\\n\\n  # Resize the image\\n  img = cv2.resize(img, (224, 224))\\n\\n  # Extract Green Channel\\n  img[:,:,0] = 0\\n  img[:,:,2] = 0\\n\\n  # Convert to Greyscale\\n  img = cv2.cvtColor(img, cv2.COLOR_BGR2GRAY)\\n\\n  # Apply Gaussian Blur\\n  img = cv2.addWeighted(img,4, cv2.GaussianBlur( img , (0,0) , 512/10) ,-4 ,128)\\n  \\n  # Perform histogram equalization\\n\\n  clahe = cv2.createCLAHE(clipLimit=5.0, tileGridSize=(8,8))\\n  img = clahe.apply(img)\\n\\n  cv2.imwrite(PREP_PATH + id_code + \".png\", img)\\n\\n\\nfor id_code in dataset[\"id_code\"]:\\n  preprocess(id_code) \\n  '"
            ],
            "application/vnd.google.colaboratory.intrinsic+json": {
              "type": "string"
            }
          },
          "metadata": {},
          "execution_count": 5
        }
      ]
    },
    {
      "cell_type": "code",
      "source": [
        "# https://pytorch.org/tutorials/beginner/data_loading_tutorial.html\n",
        "\n",
        "class DrDetectionDataset(Dataset):\n",
        "    def __init__(self, csv_file, root_dir, transform=None):\n",
        "        self.labels = pd.read_csv(csv_file)\n",
        "        self.root_dir = root_dir\n",
        "        self.transform = transform\n",
        "\n",
        "    def __len__(self):\n",
        "        return len(self.labels)\n",
        "\n",
        "    def __getitem__(self, idx):\n",
        "        path = os.path.join(self.root_dir, self.labels.iloc[idx, 0])\n",
        "        img = read_image(path + \".png\")\n",
        "        lbl = self.labels.iloc[idx, 1]\n",
        "        if self.transform:\n",
        "            img = self.transform(img)\n",
        "        return img, lbl\n",
        "\n",
        "global_transforms = transforms.Compose([\n",
        "    transforms.ToPILImage(),\n",
        "    transforms.Lambda(lambda image: image.convert('RGB')),\n",
        "    transforms.Resize(IMG_SIZE),\n",
        "    transforms.ToTensor(),\n",
        "    transforms.Normalize([0.5413734, 0.5413734, 0.5413734], [0.17313044, 0.17313044, 0.17313044])\n",
        "    ])\n",
        "\n",
        "train_transforms = transforms.Compose([\n",
        "    transforms.ToPILImage(),\n",
        "    transforms.Lambda(lambda image: image.convert('RGB')),\n",
        "    # Data Augmentation\n",
        "    transforms.RandomHorizontalFlip(),\n",
        "    transforms.RandomRotation(20),\n",
        "    transforms.Resize(IMG_SIZE),\n",
        "    transforms.ToTensor(),\n",
        "    transforms.Normalize([0.5413734, 0.5413734, 0.5413734], [0.17313044, 0.17313044, 0.17313044])\n",
        "    ])\n",
        "\n",
        "dataset = DrDetectionDataset(DATASET_PATH + \"/train.csv\", PREP_PATH, transform = global_transforms)"
      ],
      "metadata": {
        "id": "5-jyUfWeQsM1"
      },
      "execution_count": 33,
      "outputs": []
    },
    {
      "cell_type": "code",
      "source": [
        "#Train-test-validation split\n",
        "\n",
        "# Set manual seed for reproducible results\n",
        "torch.manual_seed(42)\n",
        "torch.cuda.manual_seed(42)\n",
        "\n",
        "# 60% train, 20% test, 20% valid\n",
        "train_size = int(0.8 * len(dataset))\n",
        "test_val_size = (len(dataset) - train_size)\n",
        "\n",
        "train_dataset, test_dataset = random_split(dataset, [train_size, test_val_size])\n",
        "\n",
        "train_size = int(len(train_dataset) - test_val_size)\n",
        "train_dataset, valid_dataset = random_split(train_dataset, [train_size, test_val_size])\n",
        "\n",
        "train_dataset.dataset.dataset.transform = train_transforms\n",
        "\n",
        "labels = torch.zeros(N_CLASSES, dtype=torch.long)\n",
        "\n",
        "for _, target in train_dataset:\n",
        "    labels[target] += 1\n",
        "\n",
        "print(\"Training set samples per class:\\n\" ,labels)\n",
        "\n",
        "# Use a Weighted Sampler to fix class imbalances in the training set\n",
        "class_count = np.zeros(5)\n",
        "for image, label in train_dataset:\n",
        "  class_count[label] +=1\n",
        "\n",
        "class_weights = 1. / class_count\n",
        "weights = np.array([])\n",
        "\n",
        "for image, label in train_dataset:\n",
        "  weights = np.append(weights, class_weights[label])\n",
        "  \n",
        "weights = torch.from_numpy(weights)\n",
        "\n",
        "weighted_sampler = WeightedRandomSampler(weights=weights,num_samples=len(train_dataset),replacement=True)\n",
        "\n",
        "print(\"Train size: \", len(train_dataset))\n",
        "print(\"Val size: \", len(valid_dataset))\n",
        "print(\"Test size: \", len(test_dataset))\n",
        "\n",
        "train_loader = DataLoader(train_dataset, batch_size=BATCH_SIZE, sampler=weighted_sampler)\n",
        "valid_loader = DataLoader(valid_dataset, batch_size=BATCH_SIZE, shuffle=True)\n",
        "test_loader = DataLoader(test_dataset, batch_size=BATCH_SIZE, shuffle=True)\n",
        "\n",
        "label_array = torch.zeros(N_CLASSES, dtype=torch.long)\n",
        "for data, labels in train_loader:\n",
        "    if torch.cuda.is_available():\n",
        "        data, labels = data.cuda(), labels.cuda()\n",
        "\n",
        "    for label in labels:\n",
        "      label_array[label] += 1\n",
        "\n",
        "print(\"Training set samples per class after rebalancing:\\n\" ,label_array)"
      ],
      "metadata": {
        "colab": {
          "base_uri": "https://localhost:8080/"
        },
        "id": "D1yRiT6ycRw-",
        "outputId": "e84d89ce-7006-492f-9317-2b5a011121c9"
      },
      "execution_count": 34,
      "outputs": [
        {
          "output_type": "stream",
          "name": "stdout",
          "text": [
            "Training set samples per class:\n",
            " tensor([1086,  212,  602,  115,  181])\n",
            "Train size:  2196\n",
            "Val size:  733\n",
            "Test size:  733\n",
            "Training set samples per class after rebalancing:\n",
            " tensor([438, 455, 439, 424, 440])\n"
          ]
        }
      ]
    },
    {
      "cell_type": "markdown",
      "source": [
        "# Training"
      ],
      "metadata": {
        "id": "6y1Ocn4xUOWP"
      }
    },
    {
      "cell_type": "markdown",
      "source": [
        "## Get Model"
      ],
      "metadata": {
        "id": "uFKc_uo9ontb"
      }
    },
    {
      "cell_type": "code",
      "source": [
        "#https://www.learnpytorch.io/06_pytorch_transfer_learning/\n",
        "from torchinfo import summary\n",
        "\n",
        "# Download pre-trained weights on IMAGENET\n",
        "weights = ConvNeXt_Tiny_Weights.IMAGENET1K_V1\n",
        "\n",
        "model = torchvision.models.convnext_tiny(weights = weights).to(device)\n",
        "print(\"Base Model: \")\n",
        "print(summary(model=model, \n",
        "        input_size=(BATCH_SIZE, 3, 224, 224),\n",
        "        col_names=[\"input_size\", \"output_size\", \"num_params\", \"trainable\"],\n",
        "        col_width=20,\n",
        "        row_settings=[\"var_names\"]) )"
      ],
      "metadata": {
        "colab": {
          "base_uri": "https://localhost:8080/"
        },
        "id": "WV1jVxLtQl5o",
        "outputId": "61b05ccb-7e08-4e6c-f4f0-3c6b178d0692"
      },
      "execution_count": 35,
      "outputs": [
        {
          "output_type": "stream",
          "name": "stdout",
          "text": [
            "Base Model: \n",
            "=======================================================================================================================================\n",
            "Layer (type (var_name))                                 Input Shape          Output Shape         Param #              Trainable\n",
            "=======================================================================================================================================\n",
            "ConvNeXt (ConvNeXt)                                     [10, 3, 224, 224]    [10, 1000]           --                   True\n",
            "├─Sequential (features)                                 [10, 3, 224, 224]    [10, 768, 7, 7]      --                   True\n",
            "│    └─Conv2dNormActivation (0)                         [10, 3, 224, 224]    [10, 96, 56, 56]     --                   True\n",
            "│    │    └─Conv2d (0)                                  [10, 3, 224, 224]    [10, 96, 56, 56]     4,704                True\n",
            "│    │    └─LayerNorm2d (1)                             [10, 96, 56, 56]     [10, 96, 56, 56]     192                  True\n",
            "│    └─Sequential (1)                                   [10, 96, 56, 56]     [10, 96, 56, 56]     --                   True\n",
            "│    │    └─CNBlock (0)                                 [10, 96, 56, 56]     [10, 96, 56, 56]     79,296               True\n",
            "│    │    └─CNBlock (1)                                 [10, 96, 56, 56]     [10, 96, 56, 56]     79,296               True\n",
            "│    │    └─CNBlock (2)                                 [10, 96, 56, 56]     [10, 96, 56, 56]     79,296               True\n",
            "│    └─Sequential (2)                                   [10, 96, 56, 56]     [10, 192, 28, 28]    --                   True\n",
            "│    │    └─LayerNorm2d (0)                             [10, 96, 56, 56]     [10, 96, 56, 56]     192                  True\n",
            "│    │    └─Conv2d (1)                                  [10, 96, 56, 56]     [10, 192, 28, 28]    73,920               True\n",
            "│    └─Sequential (3)                                   [10, 192, 28, 28]    [10, 192, 28, 28]    --                   True\n",
            "│    │    └─CNBlock (0)                                 [10, 192, 28, 28]    [10, 192, 28, 28]    306,048              True\n",
            "│    │    └─CNBlock (1)                                 [10, 192, 28, 28]    [10, 192, 28, 28]    306,048              True\n",
            "│    │    └─CNBlock (2)                                 [10, 192, 28, 28]    [10, 192, 28, 28]    306,048              True\n",
            "│    └─Sequential (4)                                   [10, 192, 28, 28]    [10, 384, 14, 14]    --                   True\n",
            "│    │    └─LayerNorm2d (0)                             [10, 192, 28, 28]    [10, 192, 28, 28]    384                  True\n",
            "│    │    └─Conv2d (1)                                  [10, 192, 28, 28]    [10, 384, 14, 14]    295,296              True\n",
            "│    └─Sequential (5)                                   [10, 384, 14, 14]    [10, 384, 14, 14]    --                   True\n",
            "│    │    └─CNBlock (0)                                 [10, 384, 14, 14]    [10, 384, 14, 14]    1,201,920            True\n",
            "│    │    └─CNBlock (1)                                 [10, 384, 14, 14]    [10, 384, 14, 14]    1,201,920            True\n",
            "│    │    └─CNBlock (2)                                 [10, 384, 14, 14]    [10, 384, 14, 14]    1,201,920            True\n",
            "│    │    └─CNBlock (3)                                 [10, 384, 14, 14]    [10, 384, 14, 14]    1,201,920            True\n",
            "│    │    └─CNBlock (4)                                 [10, 384, 14, 14]    [10, 384, 14, 14]    1,201,920            True\n",
            "│    │    └─CNBlock (5)                                 [10, 384, 14, 14]    [10, 384, 14, 14]    1,201,920            True\n",
            "│    │    └─CNBlock (6)                                 [10, 384, 14, 14]    [10, 384, 14, 14]    1,201,920            True\n",
            "│    │    └─CNBlock (7)                                 [10, 384, 14, 14]    [10, 384, 14, 14]    1,201,920            True\n",
            "│    │    └─CNBlock (8)                                 [10, 384, 14, 14]    [10, 384, 14, 14]    1,201,920            True\n",
            "│    └─Sequential (6)                                   [10, 384, 14, 14]    [10, 768, 7, 7]      --                   True\n",
            "│    │    └─LayerNorm2d (0)                             [10, 384, 14, 14]    [10, 384, 14, 14]    768                  True\n",
            "│    │    └─Conv2d (1)                                  [10, 384, 14, 14]    [10, 768, 7, 7]      1,180,416            True\n",
            "│    └─Sequential (7)                                   [10, 768, 7, 7]      [10, 768, 7, 7]      --                   True\n",
            "│    │    └─CNBlock (0)                                 [10, 768, 7, 7]      [10, 768, 7, 7]      4,763,136            True\n",
            "│    │    └─CNBlock (1)                                 [10, 768, 7, 7]      [10, 768, 7, 7]      4,763,136            True\n",
            "│    │    └─CNBlock (2)                                 [10, 768, 7, 7]      [10, 768, 7, 7]      4,763,136            True\n",
            "├─AdaptiveAvgPool2d (avgpool)                           [10, 768, 7, 7]      [10, 768, 1, 1]      --                   --\n",
            "├─Sequential (classifier)                               [10, 768, 1, 1]      [10, 1000]           --                   True\n",
            "│    └─LayerNorm2d (0)                                  [10, 768, 1, 1]      [10, 768, 1, 1]      1,536                True\n",
            "│    └─Flatten (1)                                      [10, 768, 1, 1]      [10, 768]            --                   --\n",
            "│    └─Linear (2)                                       [10, 768]            [10, 1000]           769,000              True\n",
            "=======================================================================================================================================\n",
            "Total params: 28,589,128\n",
            "Trainable params: 28,589,128\n",
            "Non-trainable params: 0\n",
            "Total mult-adds (G): 3.22\n",
            "=======================================================================================================================================\n",
            "Input size (MB): 6.02\n",
            "Forward/backward pass size (MB): 1312.75\n",
            "Params size (MB): 114.33\n",
            "Estimated Total Size (MB): 1433.10\n",
            "=======================================================================================================================================\n"
          ]
        }
      ]
    },
    {
      "cell_type": "code",
      "source": [
        "from torchinfo import summary\n",
        "\n",
        "# Tune the model parameters to fit our domain\n",
        "# Sets Feature extraction layers as not trainable\n",
        "for param in model.features.parameters():\n",
        "    param.requires_grad = False\n",
        "    \n",
        "model.classifier[2] = torch.nn.Linear(in_features=768, out_features=5, bias=True)\n",
        "\n",
        "print(summary(model=model, \n",
        "        input_size=(32, 3, 224, 224),\n",
        "        col_names=[\"input_size\", \"output_size\", \"num_params\", \"trainable\"],\n",
        "        col_width=20,\n",
        "        row_settings=[\"var_names\"]))"
      ],
      "metadata": {
        "colab": {
          "base_uri": "https://localhost:8080/"
        },
        "id": "mdFYOdA_ZMVv",
        "outputId": "2e5a83a9-b823-4d99-8900-c027680d7bb8"
      },
      "execution_count": 36,
      "outputs": [
        {
          "output_type": "stream",
          "name": "stdout",
          "text": [
            "=======================================================================================================================================\n",
            "Layer (type (var_name))                                 Input Shape          Output Shape         Param #              Trainable\n",
            "=======================================================================================================================================\n",
            "ConvNeXt (ConvNeXt)                                     [32, 3, 224, 224]    [32, 5]              --                   Partial\n",
            "├─Sequential (features)                                 [32, 3, 224, 224]    [32, 768, 7, 7]      --                   False\n",
            "│    └─Conv2dNormActivation (0)                         [32, 3, 224, 224]    [32, 96, 56, 56]     --                   False\n",
            "│    │    └─Conv2d (0)                                  [32, 3, 224, 224]    [32, 96, 56, 56]     (4,704)              False\n",
            "│    │    └─LayerNorm2d (1)                             [32, 96, 56, 56]     [32, 96, 56, 56]     (192)                False\n",
            "│    └─Sequential (1)                                   [32, 96, 56, 56]     [32, 96, 56, 56]     --                   False\n",
            "│    │    └─CNBlock (0)                                 [32, 96, 56, 56]     [32, 96, 56, 56]     (79,296)             False\n",
            "│    │    └─CNBlock (1)                                 [32, 96, 56, 56]     [32, 96, 56, 56]     (79,296)             False\n",
            "│    │    └─CNBlock (2)                                 [32, 96, 56, 56]     [32, 96, 56, 56]     (79,296)             False\n",
            "│    └─Sequential (2)                                   [32, 96, 56, 56]     [32, 192, 28, 28]    --                   False\n",
            "│    │    └─LayerNorm2d (0)                             [32, 96, 56, 56]     [32, 96, 56, 56]     (192)                False\n",
            "│    │    └─Conv2d (1)                                  [32, 96, 56, 56]     [32, 192, 28, 28]    (73,920)             False\n",
            "│    └─Sequential (3)                                   [32, 192, 28, 28]    [32, 192, 28, 28]    --                   False\n",
            "│    │    └─CNBlock (0)                                 [32, 192, 28, 28]    [32, 192, 28, 28]    (306,048)            False\n",
            "│    │    └─CNBlock (1)                                 [32, 192, 28, 28]    [32, 192, 28, 28]    (306,048)            False\n",
            "│    │    └─CNBlock (2)                                 [32, 192, 28, 28]    [32, 192, 28, 28]    (306,048)            False\n",
            "│    └─Sequential (4)                                   [32, 192, 28, 28]    [32, 384, 14, 14]    --                   False\n",
            "│    │    └─LayerNorm2d (0)                             [32, 192, 28, 28]    [32, 192, 28, 28]    (384)                False\n",
            "│    │    └─Conv2d (1)                                  [32, 192, 28, 28]    [32, 384, 14, 14]    (295,296)            False\n",
            "│    └─Sequential (5)                                   [32, 384, 14, 14]    [32, 384, 14, 14]    --                   False\n",
            "│    │    └─CNBlock (0)                                 [32, 384, 14, 14]    [32, 384, 14, 14]    (1,201,920)          False\n",
            "│    │    └─CNBlock (1)                                 [32, 384, 14, 14]    [32, 384, 14, 14]    (1,201,920)          False\n",
            "│    │    └─CNBlock (2)                                 [32, 384, 14, 14]    [32, 384, 14, 14]    (1,201,920)          False\n",
            "│    │    └─CNBlock (3)                                 [32, 384, 14, 14]    [32, 384, 14, 14]    (1,201,920)          False\n",
            "│    │    └─CNBlock (4)                                 [32, 384, 14, 14]    [32, 384, 14, 14]    (1,201,920)          False\n",
            "│    │    └─CNBlock (5)                                 [32, 384, 14, 14]    [32, 384, 14, 14]    (1,201,920)          False\n",
            "│    │    └─CNBlock (6)                                 [32, 384, 14, 14]    [32, 384, 14, 14]    (1,201,920)          False\n",
            "│    │    └─CNBlock (7)                                 [32, 384, 14, 14]    [32, 384, 14, 14]    (1,201,920)          False\n",
            "│    │    └─CNBlock (8)                                 [32, 384, 14, 14]    [32, 384, 14, 14]    (1,201,920)          False\n",
            "│    └─Sequential (6)                                   [32, 384, 14, 14]    [32, 768, 7, 7]      --                   False\n",
            "│    │    └─LayerNorm2d (0)                             [32, 384, 14, 14]    [32, 384, 14, 14]    (768)                False\n",
            "│    │    └─Conv2d (1)                                  [32, 384, 14, 14]    [32, 768, 7, 7]      (1,180,416)          False\n",
            "│    └─Sequential (7)                                   [32, 768, 7, 7]      [32, 768, 7, 7]      --                   False\n",
            "│    │    └─CNBlock (0)                                 [32, 768, 7, 7]      [32, 768, 7, 7]      (4,763,136)          False\n",
            "│    │    └─CNBlock (1)                                 [32, 768, 7, 7]      [32, 768, 7, 7]      (4,763,136)          False\n",
            "│    │    └─CNBlock (2)                                 [32, 768, 7, 7]      [32, 768, 7, 7]      (4,763,136)          False\n",
            "├─AdaptiveAvgPool2d (avgpool)                           [32, 768, 7, 7]      [32, 768, 1, 1]      --                   --\n",
            "├─Sequential (classifier)                               [32, 768, 1, 1]      [32, 5]              --                   True\n",
            "│    └─LayerNorm2d (0)                                  [32, 768, 1, 1]      [32, 768, 1, 1]      1,536                True\n",
            "│    └─Flatten (1)                                      [32, 768, 1, 1]      [32, 768]            --                   --\n",
            "│    └─Linear (2)                                       [32, 768]            [32, 5]              3,845                True\n",
            "=======================================================================================================================================\n",
            "Total params: 27,823,973\n",
            "Trainable params: 5,381\n",
            "Non-trainable params: 27,818,592\n",
            "Total mult-adds (G): 10.29\n",
            "=======================================================================================================================================\n",
            "Input size (MB): 19.27\n",
            "Forward/backward pass size (MB): 4200.53\n",
            "Params size (MB): 111.27\n",
            "Estimated Total Size (MB): 4331.07\n",
            "=======================================================================================================================================\n"
          ]
        }
      ]
    },
    {
      "cell_type": "markdown",
      "source": [
        "## Train"
      ],
      "metadata": {
        "id": "adpyl8PApNTH"
      }
    },
    {
      "cell_type": "markdown",
      "source": [
        "### Warmup Training"
      ],
      "metadata": {
        "id": "pzXFwn_6G0wd"
      }
    },
    {
      "cell_type": "code",
      "source": [
        "#https://pytorch.org/tutorials/beginner/blitz/cifar10_tutorial.html\n",
        "#https://www.geeksforgeeks.org/training-neural-networks-with-validation-using-pytorch/\n",
        "\n",
        "loss_fn = torch.nn.CrossEntropyLoss()\n",
        "optimizer = torch.optim.Adam(model.parameters(), lr=LR_INIT)\n",
        "\n",
        "top_accuracy = 0.0\n",
        "\n",
        "# Loop through each epoch\n",
        "for epoch in range(NUM_INIT_EPOCHS):\n",
        "  train_loss = 0.0\n",
        "  \n",
        "  train_correct = 0\n",
        "  train_total = 0\n",
        "\n",
        "  for data, labels in train_loader:\n",
        "    if torch.cuda.is_available():\n",
        "        data, labels = data.cuda(), labels.cuda()\n",
        "\n",
        "    # zero the parameter gradients\n",
        "    optimizer.zero_grad()\n",
        "\n",
        "    # forward + backward + optimize\n",
        "    outputs = model(data)\n",
        "    loss = loss_fn(outputs, labels)\n",
        "    loss.backward()\n",
        "    optimizer.step()\n",
        "\n",
        "    _, predicted = torch.max(outputs.data, 1)\n",
        "    train_total += labels.size(0)\n",
        "    train_correct += (predicted == labels).sum().item()\n",
        "\n",
        "    # print statistics\n",
        "    train_loss += loss.item()\n",
        "    \n",
        "  valid_loss = 0.0\n",
        "  val_correct = 0\n",
        "  val_total = 0\n",
        "\n",
        "  for data, labels in valid_loader:\n",
        "    if torch.cuda.is_available():\n",
        "      data, labels = data.cuda(), labels.cuda()\n",
        "\n",
        "      outputs = model(data)\n",
        "      loss = loss_fn(outputs,labels)\n",
        "      valid_loss = loss.item() * data.size(0)\n",
        "\n",
        "      _, predicted = torch.max(outputs.data, 1)\n",
        "      val_total += labels.size(0)\n",
        "      val_correct += (predicted == labels).sum().item()\n",
        "\n",
        "  val_accuracy = (100 * val_correct) // val_total\n",
        "\n",
        "  print(f'Epoch {epoch+1} \\t\\t Training Loss: {train_loss / len(train_loader)} \\t\\t Training Accuracy: {100 * train_correct // train_total}' )\n",
        "  print(f'\\t\\t Validation Loss: {valid_loss / len(valid_loader)} \\t\\t Validation Accuracy: {val_accuracy}')\n",
        "  if val_accuracy > top_accuracy:\n",
        "      print(f'Validation Accuracy Increased({top_accuracy:.6f}--->{val_accuracy:.6f}) \\t Saving The Model')\n",
        "      top_accuracy = val_accuracy\n",
        "      # Save Model\n",
        "      torch.save(model, MODEL_PATH)\n"
      ],
      "metadata": {
        "colab": {
          "base_uri": "https://localhost:8080/"
        },
        "id": "sETdkp7jHn1s",
        "outputId": "591a2874-47a4-44c4-fef5-8c5603d09482"
      },
      "execution_count": 37,
      "outputs": [
        {
          "output_type": "stream",
          "name": "stdout",
          "text": [
            "Epoch 1 \t\t Training Loss: 1.498922718113119 \t\t Training Accuracy: 34\n",
            "\t\t Validation Loss: 0.05054718578183973 \t\t Validation Accuracy: 59\n",
            "Validation Accuracy Increased(0.000000--->59.000000) \t Saving The Model\n",
            "Epoch 2 \t\t Training Loss: 1.2812989939342845 \t\t Training Accuracy: 48\n",
            "\t\t Validation Loss: 0.05077479175619177 \t\t Validation Accuracy: 57\n",
            "Epoch 3 \t\t Training Loss: 1.1861152751879258 \t\t Training Accuracy: 53\n",
            "\t\t Validation Loss: 0.03007514331791852 \t\t Validation Accuracy: 60\n",
            "Validation Accuracy Increased(59.000000--->60.000000) \t Saving The Model\n",
            "Epoch 4 \t\t Training Loss: 1.1370961102572354 \t\t Training Accuracy: 54\n",
            "\t\t Validation Loss: 0.07316714364129144 \t\t Validation Accuracy: 63\n",
            "Validation Accuracy Increased(60.000000--->63.000000) \t Saving The Model\n"
          ]
        }
      ]
    },
    {
      "cell_type": "markdown",
      "source": [
        "### Training"
      ],
      "metadata": {
        "id": "I-6pjfvpIH8Z"
      }
    },
    {
      "cell_type": "code",
      "source": [
        "#https://pytorch.org/tutorials/beginner/blitz/cifar10_tutorial.html\n",
        "#https://www.geeksforgeeks.org/training-neural-networks-with-validation-using-pytorch/\n",
        "#https://stackoverflow.com/questions/71998978/early-stopping-in-pytorch\n",
        "\n",
        "model = torch.load(MODEL_PATH).to(device)\n",
        "\n",
        "loss_fn = torch.nn.CrossEntropyLoss()\n",
        "optimizer = torch.optim.Adam(model.parameters(), lr=LR)\n",
        "scheduler = torch.optim.lr_scheduler.ReduceLROnPlateau(optimizer, mode='min', factor=DECAY_FACTOR, patience=0, \n",
        "                                                       threshold=LR_TSH, threshold_mode=TSH_MODE, verbose=True)\n",
        "\n",
        "# Loop through each epoch\n",
        "for epoch in range(NUM_EPOCHS):\n",
        "  train_loss = 0.0\n",
        "\n",
        "  train_correct = 0\n",
        "  train_total = 0\n",
        "\n",
        "  for data, labels in train_loader:\n",
        "\n",
        "    if torch.cuda.is_available():\n",
        "        data, labels = data.cuda(), labels.cuda()\n",
        "\n",
        "    # zero the parameter gradients\n",
        "    optimizer.zero_grad()\n",
        "\n",
        "    # forward + backward + optimize\n",
        "    outputs = model(data)\n",
        "    loss = loss_fn(outputs, labels)\n",
        "    loss.backward()\n",
        "    optimizer.step()\n",
        "\n",
        "    _, predicted = torch.max(outputs.data, 1)\n",
        "    train_total += labels.size(0)\n",
        "    train_correct += (predicted == labels).sum().item()\n",
        "\n",
        "    # print statistics\n",
        "    train_loss += loss.item()\n",
        "    \n",
        "  valid_loss = 0.0\n",
        "  val_correct = 0\n",
        "  val_total = 0\n",
        "\n",
        "  with torch.no_grad():\n",
        "    for data, labels in valid_loader:\n",
        "      if torch.cuda.is_available():\n",
        "        data, labels = data.cuda(), labels.cuda()\n",
        "\n",
        "        outputs = model(data)\n",
        "        loss = loss_fn(outputs,labels)\n",
        "        valid_loss = loss.item() * data.size(0)\n",
        "\n",
        "        _, predicted = torch.max(outputs.data, 1)\n",
        "        val_total += labels.size(0)\n",
        "        val_correct += (predicted == labels).sum().item()\n",
        "  \n",
        "  scheduler.step(valid_loss)\n",
        "\n",
        "  val_accuracy = (100 * val_correct) // val_total\n",
        "\n",
        "  print(f'Epoch {epoch+1} \\t\\t Training Loss: {train_loss / len(train_loader)} \\t\\t Training Accuracy: {100 * train_correct // train_total}' )\n",
        "  print(f'\\t\\t Validation Loss: {valid_loss / len(valid_loader)} \\t\\t Validation Accuracy: {val_accuracy}')\n",
        "  if val_accuracy > top_accuracy:\n",
        "      print(f'Validation Accuracy Increased({top_accuracy:.6f}--->{val_accuracy:.6f}) \\t Saving The Model')\n",
        "      top_accuracy = val_accuracy\n",
        "      # Save Model\n",
        "      torch.save(model, MODEL_PATH)\n"
      ],
      "metadata": {
        "colab": {
          "base_uri": "https://localhost:8080/"
        },
        "id": "TtjR-IZkaq2i",
        "outputId": "845d2b0d-f08c-41b6-cb5e-6e08f70b5d98"
      },
      "execution_count": 38,
      "outputs": [
        {
          "output_type": "stream",
          "name": "stdout",
          "text": [
            "Epoch 1 \t\t Training Loss: 1.1035186130892147 \t\t Training Accuracy: 55\n",
            "\t\t Validation Loss: 0.03939242217991803 \t\t Validation Accuracy: 66\n",
            "Validation Accuracy Increased(63.000000--->66.000000) \t Saving The Model\n",
            "Epoch 2 \t\t Training Loss: 1.0536133828488263 \t\t Training Accuracy: 57\n",
            "\t\t Validation Loss: 0.021665103532172537 \t\t Validation Accuracy: 64\n",
            "Epoch 3 \t\t Training Loss: 1.0222776965661482 \t\t Training Accuracy: 59\n",
            "\t\t Validation Loss: 0.013969238142709475 \t\t Validation Accuracy: 68\n",
            "Validation Accuracy Increased(66.000000--->68.000000) \t Saving The Model\n",
            "Epoch 00004: reducing learning rate of group 0 to 1.0000e-05.\n",
            "Epoch 4 \t\t Training Loss: 1.020451982319355 \t\t Training Accuracy: 58\n",
            "\t\t Validation Loss: 0.014395013451576233 \t\t Validation Accuracy: 63\n",
            "Epoch 00005: reducing learning rate of group 0 to 1.0000e-06.\n",
            "Epoch 5 \t\t Training Loss: 0.9911011877385053 \t\t Training Accuracy: 60\n",
            "\t\t Validation Loss: 0.03886379986195951 \t\t Validation Accuracy: 66\n",
            "Epoch 00006: reducing learning rate of group 0 to 1.0000e-07.\n",
            "Epoch 6 \t\t Training Loss: 1.0193605949932878 \t\t Training Accuracy: 59\n",
            "\t\t Validation Loss: 0.029222672050063674 \t\t Validation Accuracy: 66\n",
            "Epoch 7 \t\t Training Loss: 0.9976512461900711 \t\t Training Accuracy: 59\n",
            "\t\t Validation Loss: 0.0046246705224385135 \t\t Validation Accuracy: 66\n",
            "Epoch 00008: reducing learning rate of group 0 to 1.0000e-08.\n",
            "Epoch 8 \t\t Training Loss: 1.0138542706316167 \t\t Training Accuracy: 58\n",
            "\t\t Validation Loss: 0.03234932309872395 \t\t Validation Accuracy: 64\n",
            "Epoch 9 \t\t Training Loss: 1.0044397126544606 \t\t Training Accuracy: 59\n",
            "\t\t Validation Loss: 0.03260833749899993 \t\t Validation Accuracy: 65\n",
            "Epoch 10 \t\t Training Loss: 1.0262032278559425 \t\t Training Accuracy: 59\n",
            "\t\t Validation Loss: 0.03167997904725977 \t\t Validation Accuracy: 65\n",
            "Epoch 11 \t\t Training Loss: 1.0158979176120324 \t\t Training Accuracy: 59\n",
            "\t\t Validation Loss: 0.04295811943105749 \t\t Validation Accuracy: 66\n",
            "Epoch 12 \t\t Training Loss: 1.00198348286477 \t\t Training Accuracy: 59\n",
            "\t\t Validation Loss: 0.03354000400852512 \t\t Validation Accuracy: 66\n",
            "Epoch 13 \t\t Training Loss: 0.9899354054169222 \t\t Training Accuracy: 59\n",
            "\t\t Validation Loss: 0.057416709693702495 \t\t Validation Accuracy: 65\n",
            "Epoch 14 \t\t Training Loss: 1.0088415611873973 \t\t Training Accuracy: 59\n",
            "\t\t Validation Loss: 0.026265338465974137 \t\t Validation Accuracy: 65\n",
            "Epoch 15 \t\t Training Loss: 1.0279092115434734 \t\t Training Accuracy: 58\n",
            "\t\t Validation Loss: 0.07420849316828959 \t\t Validation Accuracy: 66\n",
            "Epoch 16 \t\t Training Loss: 1.0035949208519674 \t\t Training Accuracy: 60\n",
            "\t\t Validation Loss: 0.04328820512101457 \t\t Validation Accuracy: 64\n",
            "Epoch 17 \t\t Training Loss: 0.9970070616765456 \t\t Training Accuracy: 58\n",
            "\t\t Validation Loss: 0.006947002902224257 \t\t Validation Accuracy: 66\n",
            "Epoch 18 \t\t Training Loss: 0.999073459614407 \t\t Training Accuracy: 60\n",
            "\t\t Validation Loss: 0.0054322996655026 \t\t Validation Accuracy: 67\n",
            "Epoch 19 \t\t Training Loss: 1.0002642779187723 \t\t Training Accuracy: 59\n",
            "\t\t Validation Loss: 0.031601634379979725 \t\t Validation Accuracy: 65\n",
            "Epoch 20 \t\t Training Loss: 0.9870973138646646 \t\t Training Accuracy: 61\n",
            "\t\t Validation Loss: 0.030046276949547434 \t\t Validation Accuracy: 64\n",
            "Epoch 21 \t\t Training Loss: 1.0300650390711699 \t\t Training Accuracy: 57\n",
            "\t\t Validation Loss: 0.0025185892811498125 \t\t Validation Accuracy: 64\n",
            "Epoch 22 \t\t Training Loss: 1.0154167532920837 \t\t Training Accuracy: 58\n",
            "\t\t Validation Loss: 0.03000783920288086 \t\t Validation Accuracy: 67\n",
            "Epoch 23 \t\t Training Loss: 1.0111913892355833 \t\t Training Accuracy: 58\n",
            "\t\t Validation Loss: 0.029771507591814607 \t\t Validation Accuracy: 65\n",
            "Epoch 24 \t\t Training Loss: 1.0137689742175016 \t\t Training Accuracy: 58\n",
            "\t\t Validation Loss: 0.02551574562046979 \t\t Validation Accuracy: 65\n",
            "Epoch 25 \t\t Training Loss: 1.022257379645651 \t\t Training Accuracy: 59\n",
            "\t\t Validation Loss: 0.04484557300000577 \t\t Validation Accuracy: 66\n",
            "Epoch 26 \t\t Training Loss: 0.9947451344945214 \t\t Training Accuracy: 60\n",
            "\t\t Validation Loss: 0.0059111567365156634 \t\t Validation Accuracy: 65\n",
            "Epoch 27 \t\t Training Loss: 1.0065063609318299 \t\t Training Accuracy: 59\n",
            "\t\t Validation Loss: 0.03467030380223248 \t\t Validation Accuracy: 65\n",
            "Epoch 28 \t\t Training Loss: 1.0075988027182492 \t\t Training Accuracy: 59\n",
            "\t\t Validation Loss: 0.01952929553147909 \t\t Validation Accuracy: 64\n",
            "Epoch 29 \t\t Training Loss: 1.0072857574983076 \t\t Training Accuracy: 60\n",
            "\t\t Validation Loss: 0.029490110036489124 \t\t Validation Accuracy: 65\n",
            "Epoch 30 \t\t Training Loss: 1.0025098331949927 \t\t Training Accuracy: 59\n",
            "\t\t Validation Loss: 0.024030227113414456 \t\t Validation Accuracy: 66\n"
          ]
        }
      ]
    },
    {
      "cell_type": "markdown",
      "source": [
        "# Test on whole test-set"
      ],
      "metadata": {
        "id": "hdh8Dx7-CJSY"
      }
    },
    {
      "cell_type": "code",
      "source": [
        "#https://pytorch.org/tutorials/beginner/blitz/cifar10_tutorial.html\n",
        "model = torch.load(MODEL_PATH).to(device)\n",
        "\n",
        "correct = 0\n",
        "total = 0\n",
        "\n",
        "with torch.no_grad():\n",
        "    for data in test_loader:\n",
        "        images, labels = data\n",
        "        images, labels = images.to(device), labels.to(device)\n",
        "\n",
        "        outputs = model(images)\n",
        "\n",
        "        # the class with the highest value is what we choose as prediction\n",
        "        _, predicted = torch.max(outputs.data, 1)\n",
        "        total += labels.size(0)\n",
        "        correct += (predicted == labels).sum().item()\n",
        "\n",
        "print(f'Accuracy on the 733 test images: {100 * correct // total} %')"
      ],
      "metadata": {
        "colab": {
          "base_uri": "https://localhost:8080/"
        },
        "id": "ayWihINZBcz7",
        "outputId": "aa684cb3-a0a8-4931-970d-04752727508d"
      },
      "execution_count": 39,
      "outputs": [
        {
          "output_type": "stream",
          "name": "stdout",
          "text": [
            "Accuracy on the 733 test images: 68 %\n"
          ]
        }
      ]
    },
    {
      "cell_type": "code",
      "source": [
        "# prepare to count predictions for each class\n",
        "correct_pred = {classname: 0 for classname in CLASSES}\n",
        "total_pred = {classname: 0 for classname in CLASSES}\n",
        "\n",
        "# again no gradients needed\n",
        "with torch.no_grad():\n",
        "    for data in test_loader:\n",
        "        images, labels = data\n",
        "        images, labels = images.to(device), labels.to(device)\n",
        "        \n",
        "        outputs = model(images)\n",
        "        _, predictions = torch.max(outputs, 1)\n",
        "        # collect the correct predictions for each class\n",
        "        for label, prediction in zip(labels, predictions):\n",
        "            if label == prediction:\n",
        "                correct_pred[CLASSES[label]] += 1\n",
        "            total_pred[CLASSES[label]] += 1\n",
        "\n",
        "\n",
        "# print accuracy for each class\n",
        "for classname, correct_count in correct_pred.items():\n",
        "    accuracy = 100 * float(correct_count) / total_pred[classname]\n",
        "    print(f'Accuracy for class: {classname:5s} is {accuracy:.1f} %')"
      ],
      "metadata": {
        "colab": {
          "base_uri": "https://localhost:8080/"
        },
        "id": "bu3rBoIaB7Ah",
        "outputId": "d8775d8b-7d92-4020-de76-4fbbb444ea22"
      },
      "execution_count": 40,
      "outputs": [
        {
          "output_type": "stream",
          "name": "stdout",
          "text": [
            "Accuracy for class: No DR is 89.7 %\n",
            "Accuracy for class: Mild  is 54.4 %\n",
            "Accuracy for class: Moderate is 44.2 %\n",
            "Accuracy for class: Severe is 55.3 %\n",
            "Accuracy for class: Proliferative DR is 44.0 %\n"
          ]
        }
      ]
    },
    {
      "cell_type": "code",
      "source": [
        ""
      ],
      "metadata": {
        "id": "PN_D0V55CsRb"
      },
      "execution_count": 40,
      "outputs": []
    }
  ]
}