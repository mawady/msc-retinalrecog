{
  "nbformat": 4,
  "nbformat_minor": 0,
  "metadata": {
    "colab": {
      "name": "ConvNEXT.ipynb",
      "provenance": [],
      "collapsed_sections": [
        "QNwZ7LwPlyVt"
      ],
      "machine_shape": "hm",
      "authorship_tag": "ABX9TyNvsbalWqlqaionxriBSSFM",
      "include_colab_link": true
    },
    "kernelspec": {
      "name": "python3",
      "display_name": "Python 3"
    },
    "language_info": {
      "name": "python"
    },
    "accelerator": "GPU",
    "gpuClass": "standard"
  },
  "cells": [
    {
      "cell_type": "markdown",
      "metadata": {
        "id": "view-in-github",
        "colab_type": "text"
      },
      "source": [
        "<a href=\"https://colab.research.google.com/github/mawady/msc-retinalrecog/blob/main/ConvNEXT.ipynb\" target=\"_parent\"><img src=\"https://colab.research.google.com/assets/colab-badge.svg\" alt=\"Open In Colab\"/></a>"
      ]
    },
    {
      "cell_type": "markdown",
      "source": [
        "# ConvNEXT for DR detection"
      ],
      "metadata": {
        "id": "BqTdYbiDufny"
      }
    },
    {
      "cell_type": "markdown",
      "source": [
        "## Setup"
      ],
      "metadata": {
        "id": "v6T0uIkA2aCq"
      }
    },
    {
      "cell_type": "markdown",
      "source": [
        "### Google Drive Access"
      ],
      "metadata": {
        "id": "FqjI4jX32eZt"
      }
    },
    {
      "cell_type": "code",
      "execution_count": 1,
      "metadata": {
        "id": "8wasxZn3ue1t",
        "colab": {
          "base_uri": "https://localhost:8080/"
        },
        "outputId": "d8b18ac0-1f92-4bb7-8171-e16002f20fb5"
      },
      "outputs": [
        {
          "output_type": "stream",
          "name": "stdout",
          "text": [
            "Mounted at /content/drive\n",
            "CWD: /content/drive/MyDrive/University Of Stirling/Dissertation/ConvNEXT/APTOS2019\n"
          ]
        }
      ],
      "source": [
        "from google.colab import drive\n",
        "import os\n",
        "\n",
        "# Parameters\n",
        "DATASET_PATH = '/content/drive/My Drive/University Of Stirling/Dissertation/ConvNEXT/APTOS2019'\n",
        "PREP_PATH = DATASET_PATH + '/preprocessed/'\n",
        "MODEL_PATH= '/content/drive/My Drive/University Of Stirling/Dissertation/ConvNEXT/checkpoints/checkpoint.pth'\n",
        "\n",
        "# Load Dataset From Drive\n",
        "drive.mount('/content/drive')\n",
        "\n",
        "os.chdir(DATASET_PATH)\n",
        "print(\"CWD:\",os.getcwd())\n",
        "\n",
        "if not os.path.exists(PREP_PATH):\n",
        "  os.mkdir(PREP_PATH)"
      ]
    },
    {
      "cell_type": "markdown",
      "source": [
        "### Dataset Download"
      ],
      "metadata": {
        "id": "QNwZ7LwPlyVt"
      }
    },
    {
      "cell_type": "code",
      "source": [
        "'''\n",
        "# Dataset with already preprocessed images\n",
        "!gdown --id 1TqlyF-VVLcuebqQcWuAKnG7ay3IKjylC\n",
        "!unzip APTOS2019.zip\n",
        "\n",
        "# Parameters\n",
        "DATASET_PATH = '/content/APTOS2019'\n",
        "PREP_PATH = DATASET_PATH + \"/preprocessed/\"\n",
        "MODEL_PATH= '/content/checkpoints/checkpoint.pth'\n",
        "\n",
        "if not os.path.exists(PREP_PATH):\n",
        "  os.mkdir(PREP_PATH)\n",
        "\n",
        "if not os.path.exists(\"/checkpoints\"):\n",
        "  os.mkdir(\"/checkpoints\")\n",
        "'''"
      ],
      "metadata": {
        "id": "rkDiqk__l2WY",
        "colab": {
          "base_uri": "https://localhost:8080/",
          "height": 1000
        },
        "outputId": "0b955f3e-2943-4c3f-a799-34264046417d"
      },
      "execution_count": 2,
      "outputs": [
        {
          "output_type": "execute_result",
          "data": {
            "text/plain": [
              "'\\n# Dataset with already preprocessed images\\n!gdown --id 1TqlyF-VVLcuebqQcWuAKnG7ay3IKjylC\\n!unzip APTOS2019.zip\\n\\n# Parameters\\nDATASET_PATH = \\'/content/APTOS2019\\'\\nPREP_PATH = DATASET_PATH + \"/preprocessed/\"\\nMODEL_PATH= \\'/content/checkpoints/checkpoint.pth\\'\\n\\nif not os.path.exists(PREP_PATH):\\n  os.mkdir(PREP_PATH)\\n\\nif not os.path.exists(\"/checkpoints\"):\\n  os.mkdir(\"/checkpoints\")\\n'"
            ],
            "application/vnd.google.colaboratory.intrinsic+json": {
              "type": "string"
            }
          },
          "metadata": {},
          "execution_count": 2
        }
      ]
    },
    {
      "cell_type": "markdown",
      "source": [
        "### Environment Setup"
      ],
      "metadata": {
        "id": "7En8mOAo3LJU"
      }
    },
    {
      "cell_type": "code",
      "source": [
        "!pip install torchinfo"
      ],
      "metadata": {
        "colab": {
          "base_uri": "https://localhost:8080/"
        },
        "id": "Cm_dWwHWWU7U",
        "outputId": "95bdea4d-267e-4629-fba1-9b20750d34aa"
      },
      "execution_count": 3,
      "outputs": [
        {
          "output_type": "stream",
          "name": "stdout",
          "text": [
            "Looking in indexes: https://pypi.org/simple, https://us-python.pkg.dev/colab-wheels/public/simple/\n",
            "Collecting torchinfo\n",
            "  Downloading torchinfo-1.7.0-py3-none-any.whl (22 kB)\n",
            "Installing collected packages: torchinfo\n",
            "Successfully installed torchinfo-1.7.0\n"
          ]
        }
      ]
    },
    {
      "cell_type": "markdown",
      "source": [
        "## Imports and global parameters"
      ],
      "metadata": {
        "id": "ifpMFFxX2lkS"
      }
    },
    {
      "cell_type": "code",
      "source": [
        "import pandas as pd\n",
        "import cv2\n",
        "import numpy as np\n",
        "import os\n",
        "from sklearn.model_selection import train_test_split\n",
        "import shutil\n",
        "import torch\n",
        "import torchvision\n",
        "from torchvision.models import ConvNeXt_Tiny_Weights\n",
        "from torch import nn\n",
        "from torchvision.io import read_image\n",
        "from torch.utils.data import Dataset\n",
        "from torch.utils.data import DataLoader \n",
        "from torch.utils.data import WeightedRandomSampler\n",
        "from torch.utils.data import random_split\n",
        "import torchvision.transforms as transforms\n",
        "from matplotlib import pyplot as plt \n",
        "\n",
        "device = \"cuda\" if torch.cuda.is_available() else \"cpu\"\n",
        "device"
      ],
      "metadata": {
        "colab": {
          "base_uri": "https://localhost:8080/",
          "height": 37
        },
        "id": "M8h_iHOx2sX5",
        "outputId": "99700dcb-5b0c-4c9a-970e-9505bc6c29b2"
      },
      "execution_count": 17,
      "outputs": [
        {
          "output_type": "execute_result",
          "data": {
            "text/plain": [
              "'cuda'"
            ],
            "application/vnd.google.colaboratory.intrinsic+json": {
              "type": "string"
            }
          },
          "metadata": {},
          "execution_count": 17
        }
      ]
    },
    {
      "cell_type": "code",
      "source": [
        "IMG_SIZE = 224\n",
        "BATCH_SIZE = 10\n",
        "NUM_EPOCHS = 30\n",
        "NUM_INIT_EPOCHS = 4\n",
        "LR_INIT = 0.0001\n",
        "LR = 0.0001\n",
        "DECAY_FACTOR = 0.1\n",
        "PATIENCE = 3\n",
        "ES_PATIENCE = 3\n",
        "LR_TSH = 0.000001\n",
        "TSH_MODE = 'abs'\n",
        "N_CLASSES = 5\n",
        "CLASSES = [ \"No DR\", \"Mild\", \"Moderate\", \"Severe\", \"Proliferative DR\" ]"
      ],
      "metadata": {
        "id": "c4XnQDs22u1c"
      },
      "execution_count": 48,
      "outputs": []
    },
    {
      "cell_type": "markdown",
      "source": [
        "## Dataset Preparation"
      ],
      "metadata": {
        "id": "fIl8zMTjz05Y"
      }
    },
    {
      "cell_type": "code",
      "source": [
        "'''\n",
        "# ref: https://www.kaggle.com/code/ratthachat/aptos-eye-preprocessing-in-diabetic-retinopathy/notebook\n",
        "# ref: https://www.kaggle.com/code/ratthachat/aptos-eye-preprocessing-in-diabetic-retinopathy/notebook\n",
        "# ref for circle crop: https://github.com/debayanmitra1993-data/Blindness-Detection-Diabetic-Retinopathy-/blob/master/research_paper_implementation.ipynb\n",
        "def crop_image_from_gray(img,tol=7):\n",
        "    if img.ndim ==2:\n",
        "        mask = img>tol\n",
        "        return img[np.ix_(mask.any(1),mask.any(0))]\n",
        "    elif img.ndim==3:\n",
        "        gray_img = cv2.cvtColor(img, cv2.COLOR_RGB2GRAY)\n",
        "        mask = gray_img>tol\n",
        "        \n",
        "        check_shape = img[:,:,0][np.ix_(mask.any(1),mask.any(0))].shape[0]\n",
        "        if (check_shape == 0): # image is too dark so that we crop out everything,\n",
        "            return img # return original image\n",
        "        else:\n",
        "            img1=img[:,:,0][np.ix_(mask.any(1),mask.any(0))]\n",
        "            img2=img[:,:,1][np.ix_(mask.any(1),mask.any(0))]\n",
        "            img3=img[:,:,2][np.ix_(mask.any(1),mask.any(0))]\n",
        "            img = np.stack([img1,img2,img3],axis=-1)\n",
        "        return img\n",
        "\n",
        "def circle_crop(img, sigmaX = 30):   \n",
        "    \"\"\"\n",
        "    Create circular crop around image centre    \n",
        "    \"\"\"    \n",
        "    img = crop_image_from_gray(img)    \n",
        "    \n",
        "    height, width, depth = img.shape    \n",
        "    \n",
        "    x = int(width/2)\n",
        "    y = int(height/2)\n",
        "    r = np.amin((x,y))\n",
        "    \n",
        "    circle_img = np.zeros((height, width), np.uint8)\n",
        "    cv2.circle(circle_img, (x,y), int(r), 1, thickness=-1)\n",
        "    img = cv2.bitwise_and(img, img, mask=circle_img)\n",
        "    img = crop_image_from_gray(img)\n",
        "    return img \n",
        "\n",
        "def preprocess(id_code):\n",
        "  path = DATASET_PATH + \"/train_images/\" + id_code + \".png\"\n",
        "\n",
        "  if(os.path.isfile(path) == False):\n",
        "    print(id_code + \" does not exist!\")\n",
        "    return\n",
        "\n",
        "  img = cv2.imread(path)\n",
        "\n",
        "\n",
        "  # Circle crop\n",
        "  img = circle_crop(img)\n",
        "\n",
        "  # Resize the image\n",
        "  img = cv2.resize(img, (224, 224))\n",
        "\n",
        "  # Extract Green Channel\n",
        "  img[:,:,0] = 0\n",
        "  img[:,:,2] = 0\n",
        "\n",
        "  # Convert to Greyscale\n",
        "  img = cv2.cvtColor(img, cv2.COLOR_BGR2GRAY)\n",
        "\n",
        "  # Apply Gaussian Blur\n",
        "  img = cv2.addWeighted(img,4, cv2.GaussianBlur( img , (0,0) , 512/10) ,-4 ,128)\n",
        "  \n",
        "  # Perform histogram equalization\n",
        "\n",
        "  clahe = cv2.createCLAHE(clipLimit=5.0, tileGridSize=(8,8))\n",
        "  img = clahe.apply(img)\n",
        "\n",
        "  cv2.imwrite(PREP_PATH + id_code + \".png\", img)\n",
        "\n",
        "\n",
        "for id_code in dataset[\"id_code\"]:\n",
        "  preprocess(id_code) \n",
        "  '''"
      ],
      "metadata": {
        "id": "IDgCkcf1z0NF",
        "colab": {
          "base_uri": "https://localhost:8080/",
          "height": 140
        },
        "outputId": "75093f2e-7916-4904-ba15-6523bbd8731b"
      },
      "execution_count": 6,
      "outputs": [
        {
          "output_type": "execute_result",
          "data": {
            "text/plain": [
              "'\\n# ref: https://www.kaggle.com/code/ratthachat/aptos-eye-preprocessing-in-diabetic-retinopathy/notebook\\n# ref: https://www.kaggle.com/code/ratthachat/aptos-eye-preprocessing-in-diabetic-retinopathy/notebook\\n# ref for circle crop: https://github.com/debayanmitra1993-data/Blindness-Detection-Diabetic-Retinopathy-/blob/master/research_paper_implementation.ipynb\\ndef crop_image_from_gray(img,tol=7):\\n    if img.ndim ==2:\\n        mask = img>tol\\n        return img[np.ix_(mask.any(1),mask.any(0))]\\n    elif img.ndim==3:\\n        gray_img = cv2.cvtColor(img, cv2.COLOR_RGB2GRAY)\\n        mask = gray_img>tol\\n        \\n        check_shape = img[:,:,0][np.ix_(mask.any(1),mask.any(0))].shape[0]\\n        if (check_shape == 0): # image is too dark so that we crop out everything,\\n            return img # return original image\\n        else:\\n            img1=img[:,:,0][np.ix_(mask.any(1),mask.any(0))]\\n            img2=img[:,:,1][np.ix_(mask.any(1),mask.any(0))]\\n            img3=img[:,:,2][np.ix_(mask.any(1),mask.any(0))]\\n            img = np.stack([img1,img2,img3],axis=-1)\\n        return img\\n\\ndef circle_crop(img, sigmaX = 30):   \\n    \"\"\"\\n    Create circular crop around image centre    \\n    \"\"\"    \\n    img = crop_image_from_gray(img)    \\n    \\n    height, width, depth = img.shape    \\n    \\n    x = int(width/2)\\n    y = int(height/2)\\n    r = np.amin((x,y))\\n    \\n    circle_img = np.zeros((height, width), np.uint8)\\n    cv2.circle(circle_img, (x,y), int(r), 1, thickness=-1)\\n    img = cv2.bitwise_and(img, img, mask=circle_img)\\n    img = crop_image_from_gray(img)\\n    return img \\n\\ndef preprocess(id_code):\\n  path = DATASET_PATH + \"/train_images/\" + id_code + \".png\"\\n\\n  if(os.path.isfile(path) == False):\\n    print(id_code + \" does not exist!\")\\n    return\\n\\n  img = cv2.imread(path)\\n\\n\\n  # Circle crop\\n  img = circle_crop(img)\\n\\n  # Resize the image\\n  img = cv2.resize(img, (224, 224))\\n\\n  # Extract Green Channel\\n  img[:,:,0] = 0\\n  img[:,:,2] = 0\\n\\n  # Convert to Greyscale\\n  img = cv2.cvtColor(img, cv2.COLOR_BGR2GRAY)\\n\\n  # Apply Gaussian Blur\\n  img = cv2.addWeighted(img,4, cv2.GaussianBlur( img , (0,0) , 512/10) ,-4 ,128)\\n  \\n  # Perform histogram equalization\\n\\n  clahe = cv2.createCLAHE(clipLimit=5.0, tileGridSize=(8,8))\\n  img = clahe.apply(img)\\n\\n  cv2.imwrite(PREP_PATH + id_code + \".png\", img)\\n\\n\\nfor id_code in dataset[\"id_code\"]:\\n  preprocess(id_code) \\n  '"
            ],
            "application/vnd.google.colaboratory.intrinsic+json": {
              "type": "string"
            }
          },
          "metadata": {},
          "execution_count": 6
        }
      ]
    },
    {
      "cell_type": "code",
      "source": [
        "# https://pytorch.org/tutorials/beginner/data_loading_tutorial.html\n",
        "\n",
        "class DrDetectionDataset(Dataset):\n",
        "    def __init__(self, csv_file, root_dir, transform=None):\n",
        "        self.labels = pd.read_csv(csv_file)\n",
        "        self.root_dir = root_dir\n",
        "        self.transform = transform\n",
        "\n",
        "    def __len__(self):\n",
        "        return len(self.labels)\n",
        "\n",
        "    def __getitem__(self, idx):\n",
        "        path = os.path.join(self.root_dir, self.labels.iloc[idx, 0])\n",
        "        img = read_image(path + \".png\")\n",
        "        lbl = self.labels.iloc[idx, 1]\n",
        "        if self.transform:\n",
        "            img = self.transform(img)\n",
        "        return img, lbl\n",
        "\n",
        "global_transforms = transforms.Compose([\n",
        "    transforms.ToPILImage(),\n",
        "    transforms.Lambda(lambda image: image.convert('RGB')),\n",
        "    transforms.Resize(IMG_SIZE),\n",
        "    transforms.ToTensor(),\n",
        "    transforms.Normalize([0.5413734, 0.5413734, 0.5413734], [0.17313044, 0.17313044, 0.17313044])\n",
        "    ])\n",
        "\n",
        "train_transforms = transforms.Compose([\n",
        "    transforms.ToPILImage(),\n",
        "    transforms.Lambda(lambda image: image.convert('RGB')),\n",
        "    # Data Augmentation\n",
        "    transforms.RandomHorizontalFlip(),\n",
        "    transforms.RandomRotation(20),\n",
        "    transforms.Resize(IMG_SIZE),\n",
        "    transforms.ToTensor(),\n",
        "    transforms.Normalize([0.5413734, 0.5413734, 0.5413734], [0.17313044, 0.17313044, 0.17313044])\n",
        "    ])\n",
        "\n",
        "dataset = DrDetectionDataset(DATASET_PATH + \"/train.csv\", PREP_PATH, transform = global_transforms)"
      ],
      "metadata": {
        "id": "5-jyUfWeQsM1"
      },
      "execution_count": 7,
      "outputs": []
    },
    {
      "cell_type": "code",
      "source": [
        "#Train-test-validation split\n",
        "\n",
        "# Set manual seed for reproducible results\n",
        "torch.manual_seed(42)\n",
        "torch.cuda.manual_seed(42)\n",
        "\n",
        "# 60% train, 20% test, 20% valid\n",
        "train_size = int(0.8 * len(dataset))\n",
        "test_val_size = (len(dataset) - train_size)\n",
        "\n",
        "train_dataset, test_dataset = random_split(dataset, [train_size, test_val_size])\n",
        "\n",
        "train_size = int(len(train_dataset) - test_val_size)\n",
        "train_dataset, valid_dataset = random_split(train_dataset, [train_size, test_val_size])\n",
        "\n",
        "train_dataset.dataset.dataset.transform = train_transforms\n",
        "\n",
        "# Use a Weighted Sampler to fix class imbalances in the training set\n",
        "class_count = np.zeros(5)\n",
        "for image, label in train_dataset:\n",
        "  class_count[label] +=1\n",
        "\n",
        "class_weights = 1. / class_count\n",
        "weights = np.array([])\n",
        "\n",
        "for image, label in train_dataset:\n",
        "  weights = np.append(weights, class_weights[label])\n",
        "  \n",
        "weights = torch.from_numpy(weights)\n",
        "\n",
        "weighted_sampler = WeightedRandomSampler(weights=weights,num_samples=len(train_dataset),replacement=True)\n",
        "\n",
        "print(\"Train size: \", len(train_dataset))\n",
        "print(\"Val size: \", len(valid_dataset))\n",
        "print(\"Test size: \", len(test_dataset))\n",
        "\n",
        "train_loader = DataLoader(train_dataset, batch_size=BATCH_SIZE, sampler=weighted_sampler)\n",
        "valid_loader = DataLoader(valid_dataset, batch_size=BATCH_SIZE, shuffle=True)\n",
        "test_loader = DataLoader(test_dataset, batch_size=BATCH_SIZE, shuffle=True)\n"
      ],
      "metadata": {
        "id": "D1yRiT6ycRw-",
        "colab": {
          "base_uri": "https://localhost:8080/"
        },
        "outputId": "5edf0a7c-2568-4d60-cd30-579b9bb71ce2"
      },
      "execution_count": 8,
      "outputs": [
        {
          "output_type": "stream",
          "name": "stdout",
          "text": [
            "Train size:  2196\n",
            "Val size:  733\n",
            "Test size:  733\n"
          ]
        }
      ]
    },
    {
      "cell_type": "markdown",
      "source": [
        "# Training"
      ],
      "metadata": {
        "id": "6y1Ocn4xUOWP"
      }
    },
    {
      "cell_type": "markdown",
      "source": [
        "## Get Model"
      ],
      "metadata": {
        "id": "uFKc_uo9ontb"
      }
    },
    {
      "cell_type": "code",
      "source": [
        "#https://www.learnpytorch.io/06_pytorch_transfer_learning/\n",
        "from torchinfo import summary\n",
        "\n",
        "# Download pre-trained weights on IMAGENET\n",
        "weights = ConvNeXt_Tiny_Weights.IMAGENET1K_V1\n",
        "\n",
        "model = torchvision.models.convnext_tiny(weights = weights).to(device)\n",
        "print(\"Base Model: \")\n",
        "print(summary(model=model, \n",
        "        input_size=(BATCH_SIZE, 3, 224, 224),\n",
        "        col_names=[\"input_size\", \"output_size\", \"num_params\", \"trainable\"],\n",
        "        col_width=20,\n",
        "        row_settings=[\"var_names\"]) )"
      ],
      "metadata": {
        "id": "WV1jVxLtQl5o",
        "colab": {
          "base_uri": "https://localhost:8080/"
        },
        "outputId": "69869695-2074-44e8-cc8f-bf6ebc7b001e"
      },
      "execution_count": 49,
      "outputs": [
        {
          "output_type": "stream",
          "name": "stdout",
          "text": [
            "Base Model: \n",
            "=======================================================================================================================================\n",
            "Layer (type (var_name))                                 Input Shape          Output Shape         Param #              Trainable\n",
            "=======================================================================================================================================\n",
            "ConvNeXt (ConvNeXt)                                     [10, 3, 224, 224]    [10, 1000]           --                   True\n",
            "├─Sequential (features)                                 [10, 3, 224, 224]    [10, 768, 7, 7]      --                   True\n",
            "│    └─Conv2dNormActivation (0)                         [10, 3, 224, 224]    [10, 96, 56, 56]     --                   True\n",
            "│    │    └─Conv2d (0)                                  [10, 3, 224, 224]    [10, 96, 56, 56]     4,704                True\n",
            "│    │    └─LayerNorm2d (1)                             [10, 96, 56, 56]     [10, 96, 56, 56]     192                  True\n",
            "│    └─Sequential (1)                                   [10, 96, 56, 56]     [10, 96, 56, 56]     --                   True\n",
            "│    │    └─CNBlock (0)                                 [10, 96, 56, 56]     [10, 96, 56, 56]     79,296               True\n",
            "│    │    └─CNBlock (1)                                 [10, 96, 56, 56]     [10, 96, 56, 56]     79,296               True\n",
            "│    │    └─CNBlock (2)                                 [10, 96, 56, 56]     [10, 96, 56, 56]     79,296               True\n",
            "│    └─Sequential (2)                                   [10, 96, 56, 56]     [10, 192, 28, 28]    --                   True\n",
            "│    │    └─LayerNorm2d (0)                             [10, 96, 56, 56]     [10, 96, 56, 56]     192                  True\n",
            "│    │    └─Conv2d (1)                                  [10, 96, 56, 56]     [10, 192, 28, 28]    73,920               True\n",
            "│    └─Sequential (3)                                   [10, 192, 28, 28]    [10, 192, 28, 28]    --                   True\n",
            "│    │    └─CNBlock (0)                                 [10, 192, 28, 28]    [10, 192, 28, 28]    306,048              True\n",
            "│    │    └─CNBlock (1)                                 [10, 192, 28, 28]    [10, 192, 28, 28]    306,048              True\n",
            "│    │    └─CNBlock (2)                                 [10, 192, 28, 28]    [10, 192, 28, 28]    306,048              True\n",
            "│    └─Sequential (4)                                   [10, 192, 28, 28]    [10, 384, 14, 14]    --                   True\n",
            "│    │    └─LayerNorm2d (0)                             [10, 192, 28, 28]    [10, 192, 28, 28]    384                  True\n",
            "│    │    └─Conv2d (1)                                  [10, 192, 28, 28]    [10, 384, 14, 14]    295,296              True\n",
            "│    └─Sequential (5)                                   [10, 384, 14, 14]    [10, 384, 14, 14]    --                   True\n",
            "│    │    └─CNBlock (0)                                 [10, 384, 14, 14]    [10, 384, 14, 14]    1,201,920            True\n",
            "│    │    └─CNBlock (1)                                 [10, 384, 14, 14]    [10, 384, 14, 14]    1,201,920            True\n",
            "│    │    └─CNBlock (2)                                 [10, 384, 14, 14]    [10, 384, 14, 14]    1,201,920            True\n",
            "│    │    └─CNBlock (3)                                 [10, 384, 14, 14]    [10, 384, 14, 14]    1,201,920            True\n",
            "│    │    └─CNBlock (4)                                 [10, 384, 14, 14]    [10, 384, 14, 14]    1,201,920            True\n",
            "│    │    └─CNBlock (5)                                 [10, 384, 14, 14]    [10, 384, 14, 14]    1,201,920            True\n",
            "│    │    └─CNBlock (6)                                 [10, 384, 14, 14]    [10, 384, 14, 14]    1,201,920            True\n",
            "│    │    └─CNBlock (7)                                 [10, 384, 14, 14]    [10, 384, 14, 14]    1,201,920            True\n",
            "│    │    └─CNBlock (8)                                 [10, 384, 14, 14]    [10, 384, 14, 14]    1,201,920            True\n",
            "│    └─Sequential (6)                                   [10, 384, 14, 14]    [10, 768, 7, 7]      --                   True\n",
            "│    │    └─LayerNorm2d (0)                             [10, 384, 14, 14]    [10, 384, 14, 14]    768                  True\n",
            "│    │    └─Conv2d (1)                                  [10, 384, 14, 14]    [10, 768, 7, 7]      1,180,416            True\n",
            "│    └─Sequential (7)                                   [10, 768, 7, 7]      [10, 768, 7, 7]      --                   True\n",
            "│    │    └─CNBlock (0)                                 [10, 768, 7, 7]      [10, 768, 7, 7]      4,763,136            True\n",
            "│    │    └─CNBlock (1)                                 [10, 768, 7, 7]      [10, 768, 7, 7]      4,763,136            True\n",
            "│    │    └─CNBlock (2)                                 [10, 768, 7, 7]      [10, 768, 7, 7]      4,763,136            True\n",
            "├─AdaptiveAvgPool2d (avgpool)                           [10, 768, 7, 7]      [10, 768, 1, 1]      --                   --\n",
            "├─Sequential (classifier)                               [10, 768, 1, 1]      [10, 1000]           --                   True\n",
            "│    └─LayerNorm2d (0)                                  [10, 768, 1, 1]      [10, 768, 1, 1]      1,536                True\n",
            "│    └─Flatten (1)                                      [10, 768, 1, 1]      [10, 768]            --                   --\n",
            "│    └─Linear (2)                                       [10, 768]            [10, 1000]           769,000              True\n",
            "=======================================================================================================================================\n",
            "Total params: 28,589,128\n",
            "Trainable params: 28,589,128\n",
            "Non-trainable params: 0\n",
            "Total mult-adds (G): 3.22\n",
            "=======================================================================================================================================\n",
            "Input size (MB): 6.02\n",
            "Forward/backward pass size (MB): 1312.75\n",
            "Params size (MB): 114.33\n",
            "Estimated Total Size (MB): 1433.10\n",
            "=======================================================================================================================================\n"
          ]
        }
      ]
    },
    {
      "cell_type": "code",
      "source": [
        "from torchinfo import summary\n",
        "\n",
        "# Tune the model parameters to fit our domain\n",
        "# Sets Feature extraction layers as not trainable\n",
        "for param in model.features.parameters():\n",
        "    param.requires_grad = False\n",
        "    \n",
        "model.classifier[2] = torch.nn.Linear(in_features=768, out_features=5, bias=True)\n",
        "\n",
        "print(summary(model=model, \n",
        "        input_size=(32, 3, 224, 224),\n",
        "        col_names=[\"input_size\", \"output_size\", \"num_params\", \"trainable\"],\n",
        "        col_width=20,\n",
        "        row_settings=[\"var_names\"]))"
      ],
      "metadata": {
        "id": "mdFYOdA_ZMVv",
        "colab": {
          "base_uri": "https://localhost:8080/"
        },
        "outputId": "41ffd5ce-fff5-4910-b55b-0fd5a4cad06f"
      },
      "execution_count": 50,
      "outputs": [
        {
          "output_type": "stream",
          "name": "stdout",
          "text": [
            "=======================================================================================================================================\n",
            "Layer (type (var_name))                                 Input Shape          Output Shape         Param #              Trainable\n",
            "=======================================================================================================================================\n",
            "ConvNeXt (ConvNeXt)                                     [32, 3, 224, 224]    [32, 5]              --                   Partial\n",
            "├─Sequential (features)                                 [32, 3, 224, 224]    [32, 768, 7, 7]      --                   False\n",
            "│    └─Conv2dNormActivation (0)                         [32, 3, 224, 224]    [32, 96, 56, 56]     --                   False\n",
            "│    │    └─Conv2d (0)                                  [32, 3, 224, 224]    [32, 96, 56, 56]     (4,704)              False\n",
            "│    │    └─LayerNorm2d (1)                             [32, 96, 56, 56]     [32, 96, 56, 56]     (192)                False\n",
            "│    └─Sequential (1)                                   [32, 96, 56, 56]     [32, 96, 56, 56]     --                   False\n",
            "│    │    └─CNBlock (0)                                 [32, 96, 56, 56]     [32, 96, 56, 56]     (79,296)             False\n",
            "│    │    └─CNBlock (1)                                 [32, 96, 56, 56]     [32, 96, 56, 56]     (79,296)             False\n",
            "│    │    └─CNBlock (2)                                 [32, 96, 56, 56]     [32, 96, 56, 56]     (79,296)             False\n",
            "│    └─Sequential (2)                                   [32, 96, 56, 56]     [32, 192, 28, 28]    --                   False\n",
            "│    │    └─LayerNorm2d (0)                             [32, 96, 56, 56]     [32, 96, 56, 56]     (192)                False\n",
            "│    │    └─Conv2d (1)                                  [32, 96, 56, 56]     [32, 192, 28, 28]    (73,920)             False\n",
            "│    └─Sequential (3)                                   [32, 192, 28, 28]    [32, 192, 28, 28]    --                   False\n",
            "│    │    └─CNBlock (0)                                 [32, 192, 28, 28]    [32, 192, 28, 28]    (306,048)            False\n",
            "│    │    └─CNBlock (1)                                 [32, 192, 28, 28]    [32, 192, 28, 28]    (306,048)            False\n",
            "│    │    └─CNBlock (2)                                 [32, 192, 28, 28]    [32, 192, 28, 28]    (306,048)            False\n",
            "│    └─Sequential (4)                                   [32, 192, 28, 28]    [32, 384, 14, 14]    --                   False\n",
            "│    │    └─LayerNorm2d (0)                             [32, 192, 28, 28]    [32, 192, 28, 28]    (384)                False\n",
            "│    │    └─Conv2d (1)                                  [32, 192, 28, 28]    [32, 384, 14, 14]    (295,296)            False\n",
            "│    └─Sequential (5)                                   [32, 384, 14, 14]    [32, 384, 14, 14]    --                   False\n",
            "│    │    └─CNBlock (0)                                 [32, 384, 14, 14]    [32, 384, 14, 14]    (1,201,920)          False\n",
            "│    │    └─CNBlock (1)                                 [32, 384, 14, 14]    [32, 384, 14, 14]    (1,201,920)          False\n",
            "│    │    └─CNBlock (2)                                 [32, 384, 14, 14]    [32, 384, 14, 14]    (1,201,920)          False\n",
            "│    │    └─CNBlock (3)                                 [32, 384, 14, 14]    [32, 384, 14, 14]    (1,201,920)          False\n",
            "│    │    └─CNBlock (4)                                 [32, 384, 14, 14]    [32, 384, 14, 14]    (1,201,920)          False\n",
            "│    │    └─CNBlock (5)                                 [32, 384, 14, 14]    [32, 384, 14, 14]    (1,201,920)          False\n",
            "│    │    └─CNBlock (6)                                 [32, 384, 14, 14]    [32, 384, 14, 14]    (1,201,920)          False\n",
            "│    │    └─CNBlock (7)                                 [32, 384, 14, 14]    [32, 384, 14, 14]    (1,201,920)          False\n",
            "│    │    └─CNBlock (8)                                 [32, 384, 14, 14]    [32, 384, 14, 14]    (1,201,920)          False\n",
            "│    └─Sequential (6)                                   [32, 384, 14, 14]    [32, 768, 7, 7]      --                   False\n",
            "│    │    └─LayerNorm2d (0)                             [32, 384, 14, 14]    [32, 384, 14, 14]    (768)                False\n",
            "│    │    └─Conv2d (1)                                  [32, 384, 14, 14]    [32, 768, 7, 7]      (1,180,416)          False\n",
            "│    └─Sequential (7)                                   [32, 768, 7, 7]      [32, 768, 7, 7]      --                   False\n",
            "│    │    └─CNBlock (0)                                 [32, 768, 7, 7]      [32, 768, 7, 7]      (4,763,136)          False\n",
            "│    │    └─CNBlock (1)                                 [32, 768, 7, 7]      [32, 768, 7, 7]      (4,763,136)          False\n",
            "│    │    └─CNBlock (2)                                 [32, 768, 7, 7]      [32, 768, 7, 7]      (4,763,136)          False\n",
            "├─AdaptiveAvgPool2d (avgpool)                           [32, 768, 7, 7]      [32, 768, 1, 1]      --                   --\n",
            "├─Sequential (classifier)                               [32, 768, 1, 1]      [32, 5]              --                   True\n",
            "│    └─LayerNorm2d (0)                                  [32, 768, 1, 1]      [32, 768, 1, 1]      1,536                True\n",
            "│    └─Flatten (1)                                      [32, 768, 1, 1]      [32, 768]            --                   --\n",
            "│    └─Linear (2)                                       [32, 768]            [32, 5]              3,845                True\n",
            "=======================================================================================================================================\n",
            "Total params: 27,823,973\n",
            "Trainable params: 5,381\n",
            "Non-trainable params: 27,818,592\n",
            "Total mult-adds (G): 10.29\n",
            "=======================================================================================================================================\n",
            "Input size (MB): 19.27\n",
            "Forward/backward pass size (MB): 4200.53\n",
            "Params size (MB): 111.27\n",
            "Estimated Total Size (MB): 4331.07\n",
            "=======================================================================================================================================\n"
          ]
        }
      ]
    },
    {
      "cell_type": "markdown",
      "source": [
        "## Train"
      ],
      "metadata": {
        "id": "adpyl8PApNTH"
      }
    },
    {
      "cell_type": "markdown",
      "source": [
        "### Warmup Training"
      ],
      "metadata": {
        "id": "pzXFwn_6G0wd"
      }
    },
    {
      "cell_type": "code",
      "source": [
        "#https://pytorch.org/tutorials/beginner/blitz/cifar10_tutorial.html\n",
        "#https://www.geeksforgeeks.org/training-neural-networks-with-validation-using-pytorch/\n",
        "\n",
        "loss_fn = torch.nn.CrossEntropyLoss()\n",
        "optimizer = torch.optim.Adam(model.parameters(), lr=LR_INIT)\n",
        "\n",
        "top_accuracy = 0.0\n",
        "\n",
        "# Loop through each epoch\n",
        "for epoch in range(NUM_INIT_EPOCHS):\n",
        "  train_loss = 0.0\n",
        "  \n",
        "  train_correct = 0\n",
        "  train_total = 0\n",
        "\n",
        "  for data, labels in train_loader:\n",
        "    if torch.cuda.is_available():\n",
        "        data, labels = data.cuda(), labels.cuda()\n",
        "\n",
        "    # zero the parameter gradients\n",
        "    optimizer.zero_grad()\n",
        "\n",
        "    # forward + backward + optimize\n",
        "    outputs = model(data)\n",
        "    loss = loss_fn(outputs, labels)\n",
        "    loss.backward()\n",
        "    optimizer.step()\n",
        "\n",
        "    _, predicted = torch.max(outputs.data, 1)\n",
        "    train_total += labels.size(0)\n",
        "    train_correct += (predicted == labels).sum().item()\n",
        "\n",
        "    # print statistics\n",
        "    train_loss += loss.item()\n",
        "    \n",
        "  valid_loss = 0.0\n",
        "  val_correct = 0\n",
        "  val_total = 0\n",
        "\n",
        "  for data, labels in valid_loader:\n",
        "    if torch.cuda.is_available():\n",
        "      data, labels = data.cuda(), labels.cuda()\n",
        "\n",
        "      outputs = model(data)\n",
        "      loss = loss_fn(outputs,labels)\n",
        "      valid_loss = loss.item() * data.size(0)\n",
        "\n",
        "      _, predicted = torch.max(outputs.data, 1)\n",
        "      val_total += labels.size(0)\n",
        "      val_correct += (predicted == labels).sum().item()\n",
        "\n",
        "  val_accuracy = (100 * val_correct) // val_total\n",
        "\n",
        "  print(f'Epoch {epoch+1} \\t\\t Training Loss: {train_loss / len(train_loader)} \\t\\t Training Accuracy: {100 * train_correct // train_total}' )\n",
        "  print(f'\\t\\t Validation Loss: {valid_loss / len(valid_loader)} \\t\\t Validation Accuracy: {val_accuracy}')\n",
        "  if val_accuracy > top_accuracy:\n",
        "      print(f'Validation Accuracy Increased({top_accuracy:.6f}--->{val_accuracy:.6f}) \\t Saving The Model')\n",
        "      top_accuracy = val_accuracy\n",
        "      # Save Model\n",
        "      torch.save(model, MODEL_PATH)\n"
      ],
      "metadata": {
        "id": "sETdkp7jHn1s",
        "colab": {
          "base_uri": "https://localhost:8080/"
        },
        "outputId": "4a62ce8f-71b1-4520-9c33-8448f5f54b02"
      },
      "execution_count": 51,
      "outputs": [
        {
          "output_type": "stream",
          "name": "stdout",
          "text": [
            "Epoch 1 \t\t Training Loss: 1.4611638903617858 \t\t Training Accuracy: 38\n",
            "\t\t Validation Loss: 0.04845493709718859 \t\t Validation Accuracy: 55\n",
            "Validation Accuracy Increased(0.000000--->55.000000) \t Saving The Model\n",
            "Epoch 2 \t\t Training Loss: 1.2910813049836591 \t\t Training Accuracy: 47\n",
            "\t\t Validation Loss: 0.03823736632192457 \t\t Validation Accuracy: 64\n",
            "Validation Accuracy Increased(55.000000--->64.000000) \t Saving The Model\n",
            "Epoch 3 \t\t Training Loss: 1.1887506021694703 \t\t Training Accuracy: 52\n",
            "\t\t Validation Loss: 0.04281773599418434 \t\t Validation Accuracy: 60\n",
            "Epoch 4 \t\t Training Loss: 1.127248051762581 \t\t Training Accuracy: 54\n",
            "\t\t Validation Loss: 0.00834710875878463 \t\t Validation Accuracy: 60\n"
          ]
        }
      ]
    },
    {
      "cell_type": "markdown",
      "source": [
        "### Training"
      ],
      "metadata": {
        "id": "I-6pjfvpIH8Z"
      }
    },
    {
      "cell_type": "code",
      "source": [
        "#https://pytorch.org/tutorials/beginner/blitz/cifar10_tutorial.html\n",
        "#https://www.geeksforgeeks.org/training-neural-networks-with-validation-using-pytorch/\n",
        "#https://stackoverflow.com/questions/71998978/early-stopping-in-pytorch\n",
        "#https://clay-atlas.com/us/blog/2021/08/25/pytorch-en-early-stopping/\n",
        "\n",
        "model = torch.load(MODEL_PATH).to(device)\n",
        "\n",
        "# Tune the model parameters to fit our domain\n",
        "# Sets Feature extraction layers as not trainable\n",
        "for param in model.features.parameters():\n",
        "    param.requires_grad = True\n",
        "\n",
        "loss_fn = torch.nn.CrossEntropyLoss()\n",
        "optimizer = torch.optim.Adam(model.parameters(), lr=LR)\n",
        "scheduler = torch.optim.lr_scheduler.ReduceLROnPlateau(optimizer, mode='min', factor=DECAY_FACTOR, patience=0, \n",
        "                                                       threshold=LR_TSH, threshold_mode=TSH_MODE, verbose=True)\n",
        "\n",
        "prev_valid_loss = 100\n",
        "trigger_times = 0\n",
        "\n",
        "# Loop through each epoch\n",
        "for epoch in range(NUM_EPOCHS):\n",
        "  train_loss = 0.0\n",
        "\n",
        "  train_correct = 0\n",
        "  train_total = 0\n",
        "\n",
        "  for data, labels in train_loader:\n",
        "\n",
        "    if torch.cuda.is_available():\n",
        "        data, labels = data.cuda(), labels.cuda()\n",
        "\n",
        "    # zero the parameter gradients\n",
        "    optimizer.zero_grad()\n",
        "\n",
        "    # forward + backward + optimize\n",
        "    outputs = model(data)\n",
        "    loss = loss_fn(outputs, labels)\n",
        "    loss.backward()\n",
        "    optimizer.step()\n",
        "\n",
        "    _, predicted = torch.max(outputs.data, 1)\n",
        "    train_total += labels.size(0)\n",
        "    train_correct += (predicted == labels).sum().item()\n",
        "\n",
        "    # print statistics\n",
        "    train_loss += loss.item()\n",
        "    \n",
        "  valid_loss = 0.0\n",
        "  val_correct = 0\n",
        "  val_total = 0\n",
        "\n",
        "  with torch.no_grad():\n",
        "    for data, labels in valid_loader:\n",
        "      if torch.cuda.is_available():\n",
        "        data, labels = data.cuda(), labels.cuda()\n",
        "\n",
        "        outputs = model(data)\n",
        "        loss = loss_fn(outputs,labels)\n",
        "        valid_loss = loss.item() * data.size(0)\n",
        "\n",
        "        _, predicted = torch.max(outputs.data, 1)\n",
        "        val_total += labels.size(0)\n",
        "        val_correct += (predicted == labels).sum().item()\n",
        "  \n",
        "\n",
        "  # Early stopping\n",
        "  if valid_loss > prev_valid_loss:\n",
        "    trigger_times += 1\n",
        "    print('trigger times:', trigger_times)\n",
        "\n",
        "    if trigger_times >= ES_PATIENCE:\n",
        "      print('Early stopping!')\n",
        "      break\n",
        "\n",
        "  else:\n",
        "    trigger_times = 0\n",
        "\n",
        "  prev_valid_loss = valid_loss\n",
        "\n",
        "  scheduler.step(valid_loss)\n",
        "\n",
        "  val_accuracy = (100 * val_correct) // val_total\n",
        "\n",
        "  print(f'Epoch {epoch+1} \\t\\t Training Loss: {train_loss / len(train_loader)} \\t\\t Training Accuracy: {100 * train_correct // train_total}' )\n",
        "  print(f'\\t\\t Validation Loss: {valid_loss / len(valid_loader)} \\t\\t Validation Accuracy: {val_accuracy}')\n",
        "  if val_accuracy > top_accuracy:\n",
        "      print(f'Validation Accuracy Increased({top_accuracy:.6f}--->{val_accuracy:.6f}) \\t Saving The Model')\n",
        "      top_accuracy = val_accuracy\n",
        "      # Save Model\n",
        "      torch.save(model, MODEL_PATH)\n"
      ],
      "metadata": {
        "id": "TtjR-IZkaq2i",
        "colab": {
          "base_uri": "https://localhost:8080/"
        },
        "outputId": "ed5e8e77-6380-4adf-cd8c-5ba74f46b601"
      },
      "execution_count": 52,
      "outputs": [
        {
          "output_type": "stream",
          "name": "stdout",
          "text": [
            "Epoch 1 \t\t Training Loss: 0.9383969474922527 \t\t Training Accuracy: 60\n",
            "\t\t Validation Loss: 0.03741201194556984 \t\t Validation Accuracy: 76\n",
            "Validation Accuracy Increased(64.000000--->76.000000) \t Saving The Model\n",
            "Epoch 2 \t\t Training Loss: 0.6238640595566143 \t\t Training Accuracy: 74\n",
            "\t\t Validation Loss: 0.00477613800683537 \t\t Validation Accuracy: 75\n",
            "trigger times: 1\n",
            "Epoch 00003: reducing learning rate of group 0 to 1.0000e-05.\n",
            "Epoch 3 \t\t Training Loss: 0.4399897327646613 \t\t Training Accuracy: 83\n",
            "\t\t Validation Loss: 0.03849848299413114 \t\t Validation Accuracy: 74\n",
            "Epoch 00004: reducing learning rate of group 0 to 1.0000e-06.\n",
            "Epoch 4 \t\t Training Loss: 0.26883025372570213 \t\t Training Accuracy: 91\n",
            "\t\t Validation Loss: 0.011766844907322445 \t\t Validation Accuracy: 80\n",
            "Validation Accuracy Increased(76.000000--->80.000000) \t Saving The Model\n",
            "trigger times: 1\n",
            "Epoch 00005: reducing learning rate of group 0 to 1.0000e-07.\n",
            "Epoch 5 \t\t Training Loss: 0.21960971150547265 \t\t Training Accuracy: 94\n",
            "\t\t Validation Loss: 0.01244725488327645 \t\t Validation Accuracy: 79\n",
            "Epoch 00006: reducing learning rate of group 0 to 1.0000e-08.\n",
            "Epoch 6 \t\t Training Loss: 0.2289703240279447 \t\t Training Accuracy: 92\n",
            "\t\t Validation Loss: 0.005005871927416003 \t\t Validation Accuracy: 80\n",
            "trigger times: 1\n",
            "Epoch 7 \t\t Training Loss: 0.21250903879038313 \t\t Training Accuracy: 93\n",
            "\t\t Validation Loss: 0.011599006282316672 \t\t Validation Accuracy: 81\n",
            "Validation Accuracy Increased(80.000000--->81.000000) \t Saving The Model\n",
            "Epoch 8 \t\t Training Loss: 0.21458924527872691 \t\t Training Accuracy: 94\n",
            "\t\t Validation Loss: 0.0004407504095217666 \t\t Validation Accuracy: 79\n",
            "trigger times: 1\n",
            "Epoch 9 \t\t Training Loss: 0.19085158107971603 \t\t Training Accuracy: 94\n",
            "\t\t Validation Loss: 0.030835747718811035 \t\t Validation Accuracy: 78\n",
            "Epoch 10 \t\t Training Loss: 0.2122080283239484 \t\t Training Accuracy: 93\n",
            "\t\t Validation Loss: 0.0025947113093492146 \t\t Validation Accuracy: 79\n",
            "trigger times: 1\n",
            "Epoch 11 \t\t Training Loss: 0.2292909009297463 \t\t Training Accuracy: 92\n",
            "\t\t Validation Loss: 0.018594391039899877 \t\t Validation Accuracy: 79\n",
            "trigger times: 2\n",
            "Epoch 12 \t\t Training Loss: 0.22712991366332227 \t\t Training Accuracy: 93\n",
            "\t\t Validation Loss: 0.048633175927239494 \t\t Validation Accuracy: 79\n",
            "Epoch 13 \t\t Training Loss: 0.2081162370064042 \t\t Training Accuracy: 95\n",
            "\t\t Validation Loss: 0.01064710842596518 \t\t Validation Accuracy: 79\n",
            "trigger times: 1\n",
            "Epoch 14 \t\t Training Loss: 0.22542769635434856 \t\t Training Accuracy: 93\n",
            "\t\t Validation Loss: 0.11721882626817033 \t\t Validation Accuracy: 81\n",
            "Epoch 15 \t\t Training Loss: 0.22776858293536034 \t\t Training Accuracy: 93\n",
            "\t\t Validation Loss: 0.004113626943246738 \t\t Validation Accuracy: 79\n",
            "Epoch 16 \t\t Training Loss: 0.19481837808747182 \t\t Training Accuracy: 94\n",
            "\t\t Validation Loss: 0.00014614662772195565 \t\t Validation Accuracy: 79\n",
            "trigger times: 1\n",
            "Epoch 17 \t\t Training Loss: 0.20550100410526448 \t\t Training Accuracy: 94\n",
            "\t\t Validation Loss: 0.016307317324586817 \t\t Validation Accuracy: 79\n",
            "Epoch 18 \t\t Training Loss: 0.2110380474562672 \t\t Training Accuracy: 93\n",
            "\t\t Validation Loss: 0.007002188748604542 \t\t Validation Accuracy: 80\n",
            "trigger times: 1\n",
            "Epoch 19 \t\t Training Loss: 0.2203501660969447 \t\t Training Accuracy: 94\n",
            "\t\t Validation Loss: 0.08126391591252508 \t\t Validation Accuracy: 78\n",
            "Epoch 20 \t\t Training Loss: 0.21292572389356793 \t\t Training Accuracy: 93\n",
            "\t\t Validation Loss: 0.002916334750684532 \t\t Validation Accuracy: 80\n",
            "trigger times: 1\n",
            "Epoch 21 \t\t Training Loss: 0.22236763112754984 \t\t Training Accuracy: 93\n",
            "\t\t Validation Loss: 0.08737831824534648 \t\t Validation Accuracy: 79\n",
            "Epoch 22 \t\t Training Loss: 0.22059754819016564 \t\t Training Accuracy: 94\n",
            "\t\t Validation Loss: 0.0004623019816102208 \t\t Validation Accuracy: 79\n",
            "trigger times: 1\n",
            "Epoch 23 \t\t Training Loss: 0.23021489351310515 \t\t Training Accuracy: 93\n",
            "\t\t Validation Loss: 0.0276677350740175 \t\t Validation Accuracy: 80\n",
            "Epoch 24 \t\t Training Loss: 0.2008569104427641 \t\t Training Accuracy: 93\n",
            "\t\t Validation Loss: 0.004433569171138712 \t\t Validation Accuracy: 78\n",
            "trigger times: 1\n",
            "Epoch 25 \t\t Training Loss: 0.22366524962708353 \t\t Training Accuracy: 94\n",
            "\t\t Validation Loss: 0.013166933849051193 \t\t Validation Accuracy: 79\n",
            "Epoch 26 \t\t Training Loss: 0.2374317661943761 \t\t Training Accuracy: 93\n",
            "\t\t Validation Loss: 0.003164713044424315 \t\t Validation Accuracy: 80\n",
            "Epoch 27 \t\t Training Loss: 0.2045111260800199 \t\t Training Accuracy: 94\n",
            "\t\t Validation Loss: 0.001104845161977652 \t\t Validation Accuracy: 79\n",
            "trigger times: 1\n",
            "Epoch 28 \t\t Training Loss: 0.2178261110220443 \t\t Training Accuracy: 93\n",
            "\t\t Validation Loss: 0.02086729375091759 \t\t Validation Accuracy: 79\n",
            "Epoch 29 \t\t Training Loss: 0.22423227739266374 \t\t Training Accuracy: 93\n",
            "\t\t Validation Loss: 0.01846103692376936 \t\t Validation Accuracy: 81\n",
            "trigger times: 1\n",
            "Epoch 30 \t\t Training Loss: 0.2005642297339033 \t\t Training Accuracy: 94\n",
            "\t\t Validation Loss: 0.07763349526637309 \t\t Validation Accuracy: 79\n"
          ]
        }
      ]
    },
    {
      "cell_type": "markdown",
      "source": [
        "# Test on whole test-set"
      ],
      "metadata": {
        "id": "hdh8Dx7-CJSY"
      }
    },
    {
      "cell_type": "code",
      "source": [
        "#https://pytorch.org/tutorials/beginner/blitz/cifar10_tutorial.html\n",
        "model = torch.load(MODEL_PATH).to(device)\n",
        "\n",
        "correct = 0\n",
        "total = 0\n",
        "\n",
        "with torch.no_grad():\n",
        "    for data in test_loader:\n",
        "        images, labels = data\n",
        "        images, labels = images.to(device), labels.to(device)\n",
        "\n",
        "        outputs = model(images)\n",
        "\n",
        "        # the class with the highest value is what we choose as prediction\n",
        "        _, predicted = torch.max(outputs.data, 1)\n",
        "        total += labels.size(0)\n",
        "        correct += (predicted == labels).sum().item()\n",
        "        \n",
        "print(f'Accuracy on the 733 test images: {100 * correct // total} %')"
      ],
      "metadata": {
        "id": "ayWihINZBcz7",
        "colab": {
          "base_uri": "https://localhost:8080/"
        },
        "outputId": "0d42e97f-ffe5-4641-d1af-c61445a69f30"
      },
      "execution_count": 53,
      "outputs": [
        {
          "output_type": "stream",
          "name": "stdout",
          "text": [
            "Accuracy on the 733 test images: 79 %\n"
          ]
        }
      ]
    },
    {
      "cell_type": "code",
      "source": [
        "# prepare to count predictions for each class\n",
        "correct_pred = {classname: 0 for classname in CLASSES}\n",
        "total_pred = {classname: 0 for classname in CLASSES}\n",
        "\n",
        "# again no gradients needed\n",
        "with torch.no_grad():\n",
        "    for data in test_loader:\n",
        "        images, labels = data\n",
        "        images, labels = images.to(device), labels.to(device)\n",
        "        \n",
        "        outputs = model(images)\n",
        "        _, predictions = torch.max(outputs, 1)\n",
        "        # collect the correct predictions for each class\n",
        "        for label, prediction in zip(labels, predictions):\n",
        "            if label == prediction:\n",
        "                correct_pred[CLASSES[label]] += 1\n",
        "            total_pred[CLASSES[label]] += 1\n",
        "\n",
        "\n",
        "# print accuracy for each class\n",
        "for classname, correct_count in correct_pred.items():\n",
        "    accuracy = 100 * float(correct_count) / total_pred[classname]\n",
        "    print(f'Accuracy for class: {classname:5s} is {accuracy:.1f} %')"
      ],
      "metadata": {
        "id": "bu3rBoIaB7Ah",
        "colab": {
          "base_uri": "https://localhost:8080/"
        },
        "outputId": "dfe8beaf-bcb0-475b-afac-a23a165f8ef2"
      },
      "execution_count": 54,
      "outputs": [
        {
          "output_type": "stream",
          "name": "stdout",
          "text": [
            "Accuracy for class: No DR is 97.8 %\n",
            "Accuracy for class: Mild  is 54.4 %\n",
            "Accuracy for class: Moderate is 68.5 %\n",
            "Accuracy for class: Severe is 36.8 %\n",
            "Accuracy for class: Proliferative DR is 50.0 %\n"
          ]
        }
      ]
    },
    {
      "cell_type": "code",
      "source": [
        ""
      ],
      "metadata": {
        "id": "PN_D0V55CsRb"
      },
      "execution_count": 54,
      "outputs": []
    }
  ]
}