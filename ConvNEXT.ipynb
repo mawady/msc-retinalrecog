{
  "nbformat": 4,
  "nbformat_minor": 0,
  "metadata": {
    "colab": {
      "name": "ConvNEXT.ipynb",
      "provenance": [],
      "collapsed_sections": [],
      "machine_shape": "hm",
      "authorship_tag": "ABX9TyOvSXwzd17D7xByhGQMgekC"
    },
    "kernelspec": {
      "name": "python3",
      "display_name": "Python 3"
    },
    "language_info": {
      "name": "python"
    },
    "accelerator": "GPU",
    "gpuClass": "standard",
    "widgets": {
      "application/vnd.jupyter.widget-state+json": {
        "7ad44e80acf4453d8a7f7eec6326fc0b": {
          "model_module": "@jupyter-widgets/controls",
          "model_name": "HBoxModel",
          "model_module_version": "1.5.0",
          "state": {
            "_dom_classes": [],
            "_model_module": "@jupyter-widgets/controls",
            "_model_module_version": "1.5.0",
            "_model_name": "HBoxModel",
            "_view_count": null,
            "_view_module": "@jupyter-widgets/controls",
            "_view_module_version": "1.5.0",
            "_view_name": "HBoxView",
            "box_style": "",
            "children": [
              "IPY_MODEL_85bdcf0d6dc848c3b0590887a3c75558",
              "IPY_MODEL_32541e8733ce4cc59027969339edcd2f",
              "IPY_MODEL_0230cef369e1434fb5706f2762bb8f23"
            ],
            "layout": "IPY_MODEL_ff0a850e1ed94af1b55763eecf2e32db"
          }
        },
        "85bdcf0d6dc848c3b0590887a3c75558": {
          "model_module": "@jupyter-widgets/controls",
          "model_name": "HTMLModel",
          "model_module_version": "1.5.0",
          "state": {
            "_dom_classes": [],
            "_model_module": "@jupyter-widgets/controls",
            "_model_module_version": "1.5.0",
            "_model_name": "HTMLModel",
            "_view_count": null,
            "_view_module": "@jupyter-widgets/controls",
            "_view_module_version": "1.5.0",
            "_view_name": "HTMLView",
            "description": "",
            "description_tooltip": null,
            "layout": "IPY_MODEL_731342da81874d8f98bfe20f02bb40e5",
            "placeholder": "​",
            "style": "IPY_MODEL_09a70d4c33c44b0ebece765020c2b1ec",
            "value": "100%"
          }
        },
        "32541e8733ce4cc59027969339edcd2f": {
          "model_module": "@jupyter-widgets/controls",
          "model_name": "FloatProgressModel",
          "model_module_version": "1.5.0",
          "state": {
            "_dom_classes": [],
            "_model_module": "@jupyter-widgets/controls",
            "_model_module_version": "1.5.0",
            "_model_name": "FloatProgressModel",
            "_view_count": null,
            "_view_module": "@jupyter-widgets/controls",
            "_view_module_version": "1.5.0",
            "_view_name": "ProgressView",
            "bar_style": "success",
            "description": "",
            "description_tooltip": null,
            "layout": "IPY_MODEL_ac77c8b664bb4be58d6136c82d9c3e58",
            "max": 114419221,
            "min": 0,
            "orientation": "horizontal",
            "style": "IPY_MODEL_931a78f390a941608654c088dd2761b0",
            "value": 114419221
          }
        },
        "0230cef369e1434fb5706f2762bb8f23": {
          "model_module": "@jupyter-widgets/controls",
          "model_name": "HTMLModel",
          "model_module_version": "1.5.0",
          "state": {
            "_dom_classes": [],
            "_model_module": "@jupyter-widgets/controls",
            "_model_module_version": "1.5.0",
            "_model_name": "HTMLModel",
            "_view_count": null,
            "_view_module": "@jupyter-widgets/controls",
            "_view_module_version": "1.5.0",
            "_view_name": "HTMLView",
            "description": "",
            "description_tooltip": null,
            "layout": "IPY_MODEL_2f11b878884a4b749056ab2bb51e74a8",
            "placeholder": "​",
            "style": "IPY_MODEL_72d8f8f0b5754b3ca62ac60351440a65",
            "value": " 109M/109M [00:00&lt;00:00, 223MB/s]"
          }
        },
        "ff0a850e1ed94af1b55763eecf2e32db": {
          "model_module": "@jupyter-widgets/base",
          "model_name": "LayoutModel",
          "model_module_version": "1.2.0",
          "state": {
            "_model_module": "@jupyter-widgets/base",
            "_model_module_version": "1.2.0",
            "_model_name": "LayoutModel",
            "_view_count": null,
            "_view_module": "@jupyter-widgets/base",
            "_view_module_version": "1.2.0",
            "_view_name": "LayoutView",
            "align_content": null,
            "align_items": null,
            "align_self": null,
            "border": null,
            "bottom": null,
            "display": null,
            "flex": null,
            "flex_flow": null,
            "grid_area": null,
            "grid_auto_columns": null,
            "grid_auto_flow": null,
            "grid_auto_rows": null,
            "grid_column": null,
            "grid_gap": null,
            "grid_row": null,
            "grid_template_areas": null,
            "grid_template_columns": null,
            "grid_template_rows": null,
            "height": null,
            "justify_content": null,
            "justify_items": null,
            "left": null,
            "margin": null,
            "max_height": null,
            "max_width": null,
            "min_height": null,
            "min_width": null,
            "object_fit": null,
            "object_position": null,
            "order": null,
            "overflow": null,
            "overflow_x": null,
            "overflow_y": null,
            "padding": null,
            "right": null,
            "top": null,
            "visibility": null,
            "width": null
          }
        },
        "731342da81874d8f98bfe20f02bb40e5": {
          "model_module": "@jupyter-widgets/base",
          "model_name": "LayoutModel",
          "model_module_version": "1.2.0",
          "state": {
            "_model_module": "@jupyter-widgets/base",
            "_model_module_version": "1.2.0",
            "_model_name": "LayoutModel",
            "_view_count": null,
            "_view_module": "@jupyter-widgets/base",
            "_view_module_version": "1.2.0",
            "_view_name": "LayoutView",
            "align_content": null,
            "align_items": null,
            "align_self": null,
            "border": null,
            "bottom": null,
            "display": null,
            "flex": null,
            "flex_flow": null,
            "grid_area": null,
            "grid_auto_columns": null,
            "grid_auto_flow": null,
            "grid_auto_rows": null,
            "grid_column": null,
            "grid_gap": null,
            "grid_row": null,
            "grid_template_areas": null,
            "grid_template_columns": null,
            "grid_template_rows": null,
            "height": null,
            "justify_content": null,
            "justify_items": null,
            "left": null,
            "margin": null,
            "max_height": null,
            "max_width": null,
            "min_height": null,
            "min_width": null,
            "object_fit": null,
            "object_position": null,
            "order": null,
            "overflow": null,
            "overflow_x": null,
            "overflow_y": null,
            "padding": null,
            "right": null,
            "top": null,
            "visibility": null,
            "width": null
          }
        },
        "09a70d4c33c44b0ebece765020c2b1ec": {
          "model_module": "@jupyter-widgets/controls",
          "model_name": "DescriptionStyleModel",
          "model_module_version": "1.5.0",
          "state": {
            "_model_module": "@jupyter-widgets/controls",
            "_model_module_version": "1.5.0",
            "_model_name": "DescriptionStyleModel",
            "_view_count": null,
            "_view_module": "@jupyter-widgets/base",
            "_view_module_version": "1.2.0",
            "_view_name": "StyleView",
            "description_width": ""
          }
        },
        "ac77c8b664bb4be58d6136c82d9c3e58": {
          "model_module": "@jupyter-widgets/base",
          "model_name": "LayoutModel",
          "model_module_version": "1.2.0",
          "state": {
            "_model_module": "@jupyter-widgets/base",
            "_model_module_version": "1.2.0",
            "_model_name": "LayoutModel",
            "_view_count": null,
            "_view_module": "@jupyter-widgets/base",
            "_view_module_version": "1.2.0",
            "_view_name": "LayoutView",
            "align_content": null,
            "align_items": null,
            "align_self": null,
            "border": null,
            "bottom": null,
            "display": null,
            "flex": null,
            "flex_flow": null,
            "grid_area": null,
            "grid_auto_columns": null,
            "grid_auto_flow": null,
            "grid_auto_rows": null,
            "grid_column": null,
            "grid_gap": null,
            "grid_row": null,
            "grid_template_areas": null,
            "grid_template_columns": null,
            "grid_template_rows": null,
            "height": null,
            "justify_content": null,
            "justify_items": null,
            "left": null,
            "margin": null,
            "max_height": null,
            "max_width": null,
            "min_height": null,
            "min_width": null,
            "object_fit": null,
            "object_position": null,
            "order": null,
            "overflow": null,
            "overflow_x": null,
            "overflow_y": null,
            "padding": null,
            "right": null,
            "top": null,
            "visibility": null,
            "width": null
          }
        },
        "931a78f390a941608654c088dd2761b0": {
          "model_module": "@jupyter-widgets/controls",
          "model_name": "ProgressStyleModel",
          "model_module_version": "1.5.0",
          "state": {
            "_model_module": "@jupyter-widgets/controls",
            "_model_module_version": "1.5.0",
            "_model_name": "ProgressStyleModel",
            "_view_count": null,
            "_view_module": "@jupyter-widgets/base",
            "_view_module_version": "1.2.0",
            "_view_name": "StyleView",
            "bar_color": null,
            "description_width": ""
          }
        },
        "2f11b878884a4b749056ab2bb51e74a8": {
          "model_module": "@jupyter-widgets/base",
          "model_name": "LayoutModel",
          "model_module_version": "1.2.0",
          "state": {
            "_model_module": "@jupyter-widgets/base",
            "_model_module_version": "1.2.0",
            "_model_name": "LayoutModel",
            "_view_count": null,
            "_view_module": "@jupyter-widgets/base",
            "_view_module_version": "1.2.0",
            "_view_name": "LayoutView",
            "align_content": null,
            "align_items": null,
            "align_self": null,
            "border": null,
            "bottom": null,
            "display": null,
            "flex": null,
            "flex_flow": null,
            "grid_area": null,
            "grid_auto_columns": null,
            "grid_auto_flow": null,
            "grid_auto_rows": null,
            "grid_column": null,
            "grid_gap": null,
            "grid_row": null,
            "grid_template_areas": null,
            "grid_template_columns": null,
            "grid_template_rows": null,
            "height": null,
            "justify_content": null,
            "justify_items": null,
            "left": null,
            "margin": null,
            "max_height": null,
            "max_width": null,
            "min_height": null,
            "min_width": null,
            "object_fit": null,
            "object_position": null,
            "order": null,
            "overflow": null,
            "overflow_x": null,
            "overflow_y": null,
            "padding": null,
            "right": null,
            "top": null,
            "visibility": null,
            "width": null
          }
        },
        "72d8f8f0b5754b3ca62ac60351440a65": {
          "model_module": "@jupyter-widgets/controls",
          "model_name": "DescriptionStyleModel",
          "model_module_version": "1.5.0",
          "state": {
            "_model_module": "@jupyter-widgets/controls",
            "_model_module_version": "1.5.0",
            "_model_name": "DescriptionStyleModel",
            "_view_count": null,
            "_view_module": "@jupyter-widgets/base",
            "_view_module_version": "1.2.0",
            "_view_name": "StyleView",
            "description_width": ""
          }
        }
      }
    }
  },
  "cells": [
    {
      "cell_type": "markdown",
      "source": [
        "# ConvNEXT for DR detection"
      ],
      "metadata": {
        "id": "BqTdYbiDufny"
      }
    },
    {
      "cell_type": "markdown",
      "source": [
        "## Setup"
      ],
      "metadata": {
        "id": "v6T0uIkA2aCq"
      }
    },
    {
      "cell_type": "markdown",
      "source": [
        "### Google Drive Access"
      ],
      "metadata": {
        "id": "FqjI4jX32eZt"
      }
    },
    {
      "cell_type": "code",
      "execution_count": 1,
      "metadata": {
        "id": "8wasxZn3ue1t",
        "colab": {
          "base_uri": "https://localhost:8080/"
        },
        "outputId": "475a8607-ee83-4379-a84e-130ba71bbed8"
      },
      "outputs": [
        {
          "output_type": "stream",
          "name": "stdout",
          "text": [
            "Mounted at /content/drive\n",
            "CWD: /content/drive/MyDrive/University Of Stirling/Dissertation/ConvNEXT/APTOS2019\n"
          ]
        }
      ],
      "source": [
        "from google.colab import drive\n",
        "import os\n",
        "\n",
        "# Parameters\n",
        "DATASET_PATH = '/content/drive/My Drive/University Of Stirling/Dissertation/ConvNEXT/APTOS2019'\n",
        "PREP_PATH = DATASET_PATH + '/preprocessed/'\n",
        "MODEL_PATH= '/content/drive/My Drive/University Of Stirling/Dissertation/ConvNEXT/checkpoints/checkpoint.pth'\n",
        "\n",
        "# Load Dataset From Drive\n",
        "drive.mount('/content/drive')\n",
        "\n",
        "os.chdir(DATASET_PATH)\n",
        "print(\"CWD:\",os.getcwd())\n",
        "\n",
        "if not os.path.exists(PREP_PATH):\n",
        "  os.mkdir(PREP_PATH)"
      ]
    },
    {
      "cell_type": "markdown",
      "source": [
        "### Dataset Download"
      ],
      "metadata": {
        "id": "QNwZ7LwPlyVt"
      }
    },
    {
      "cell_type": "code",
      "source": [
        "# Dataset with already preprocessed images\n",
        "!gdown --id 1TqlyF-VVLcuebqQcWuAKnG7ay3IKjylC\n",
        "!unzip APTOS2019.zip\n",
        "\n",
        "# Parameters\n",
        "DATASET_PATH = '/content/APTOS2019'\n",
        "PREP_PATH = DATASET_PATH + \"/preprocessed/\"\n",
        "MODEL_PATH= '/content/checkpoints/checkpoint.pth'\n",
        "\n",
        "if not os.path.exists(PREP_PATH):\n",
        "  os.mkdir(PREP_PATH)\n",
        "\n",
        "if not os.path.exists(\"/checkpoints\"):\n",
        "  os.mkdir(\"/checkpoints\")"
      ],
      "metadata": {
        "id": "rkDiqk__l2WY"
      },
      "execution_count": null,
      "outputs": []
    },
    {
      "cell_type": "markdown",
      "source": [
        "### Environment Setup"
      ],
      "metadata": {
        "id": "7En8mOAo3LJU"
      }
    },
    {
      "cell_type": "code",
      "source": [
        "!pip install torchinfo"
      ],
      "metadata": {
        "colab": {
          "base_uri": "https://localhost:8080/"
        },
        "id": "Cm_dWwHWWU7U",
        "outputId": "b158cb94-3ebe-4ff4-e798-3eebae5bdc1c"
      },
      "execution_count": 2,
      "outputs": [
        {
          "output_type": "stream",
          "name": "stdout",
          "text": [
            "Looking in indexes: https://pypi.org/simple, https://us-python.pkg.dev/colab-wheels/public/simple/\n",
            "Collecting torchinfo\n",
            "  Downloading torchinfo-1.7.0-py3-none-any.whl (22 kB)\n",
            "Installing collected packages: torchinfo\n",
            "Successfully installed torchinfo-1.7.0\n"
          ]
        }
      ]
    },
    {
      "cell_type": "markdown",
      "source": [
        "## Imports and global parameters"
      ],
      "metadata": {
        "id": "ifpMFFxX2lkS"
      }
    },
    {
      "cell_type": "code",
      "source": [
        "import pandas as pd\n",
        "import cv2\n",
        "import numpy as np\n",
        "import os\n",
        "from sklearn.model_selection import train_test_split\n",
        "import shutil\n",
        "import torch\n",
        "import torchvision\n",
        "from torchvision.models import ConvNeXt_Tiny_Weights\n",
        "from torch import nn\n",
        "from torchvision.io import read_image\n",
        "from torch.utils.data import Dataset\n",
        "from torch.utils.data import DataLoader \n",
        "from torch.utils.data import WeightedRandomSampler\n",
        "from torch.utils.data import random_split\n",
        "import torchvision.transforms as transforms\n",
        "from matplotlib import pyplot as plt \n",
        "\n",
        "device = \"cuda\" if torch.cuda.is_available() else \"cpu\"\n",
        "device"
      ],
      "metadata": {
        "colab": {
          "base_uri": "https://localhost:8080/",
          "height": 37
        },
        "id": "M8h_iHOx2sX5",
        "outputId": "701bfa38-9b49-4574-c055-14cde2f58472"
      },
      "execution_count": 3,
      "outputs": [
        {
          "output_type": "execute_result",
          "data": {
            "text/plain": [
              "'cuda'"
            ],
            "application/vnd.google.colaboratory.intrinsic+json": {
              "type": "string"
            }
          },
          "metadata": {},
          "execution_count": 3
        }
      ]
    },
    {
      "cell_type": "code",
      "source": [
        "IMG_SIZE = 224\n",
        "BATCH_SIZE = 10\n",
        "NUM_EPOCHS = 30\n",
        "NUM_INIT_EPOCHS = 4\n",
        "LR_INIT = 0.001\n",
        "LR = 0.0001\n",
        "DECAY_FACTOR = 0.1\n",
        "PATIENCE = 3\n",
        "LR_TSH = 0.00001\n",
        "TSH_MODE = 'abs'\n",
        "N_CLASSES = 5\n",
        "CLASSES = [ \"No DR\", \"Mild\", \"Moderate\", \"Severe\", \"Proliferative DR\" ]"
      ],
      "metadata": {
        "id": "c4XnQDs22u1c"
      },
      "execution_count": 4,
      "outputs": []
    },
    {
      "cell_type": "markdown",
      "source": [
        "## Dataset Preparation"
      ],
      "metadata": {
        "id": "fIl8zMTjz05Y"
      }
    },
    {
      "cell_type": "code",
      "source": [
        "'''\n",
        "# ref: https://www.kaggle.com/code/ratthachat/aptos-eye-preprocessing-in-diabetic-retinopathy/notebook\n",
        "# ref: https://www.kaggle.com/code/ratthachat/aptos-eye-preprocessing-in-diabetic-retinopathy/notebook\n",
        "# ref for circle crop: https://github.com/debayanmitra1993-data/Blindness-Detection-Diabetic-Retinopathy-/blob/master/research_paper_implementation.ipynb\n",
        "def crop_image_from_gray(img,tol=7):\n",
        "    if img.ndim ==2:\n",
        "        mask = img>tol\n",
        "        return img[np.ix_(mask.any(1),mask.any(0))]\n",
        "    elif img.ndim==3:\n",
        "        gray_img = cv2.cvtColor(img, cv2.COLOR_RGB2GRAY)\n",
        "        mask = gray_img>tol\n",
        "        \n",
        "        check_shape = img[:,:,0][np.ix_(mask.any(1),mask.any(0))].shape[0]\n",
        "        if (check_shape == 0): # image is too dark so that we crop out everything,\n",
        "            return img # return original image\n",
        "        else:\n",
        "            img1=img[:,:,0][np.ix_(mask.any(1),mask.any(0))]\n",
        "            img2=img[:,:,1][np.ix_(mask.any(1),mask.any(0))]\n",
        "            img3=img[:,:,2][np.ix_(mask.any(1),mask.any(0))]\n",
        "            img = np.stack([img1,img2,img3],axis=-1)\n",
        "        return img\n",
        "\n",
        "def circle_crop(img, sigmaX = 30):   \n",
        "    \"\"\"\n",
        "    Create circular crop around image centre    \n",
        "    \"\"\"    \n",
        "    img = crop_image_from_gray(img)    \n",
        "    \n",
        "    height, width, depth = img.shape    \n",
        "    \n",
        "    x = int(width/2)\n",
        "    y = int(height/2)\n",
        "    r = np.amin((x,y))\n",
        "    \n",
        "    circle_img = np.zeros((height, width), np.uint8)\n",
        "    cv2.circle(circle_img, (x,y), int(r), 1, thickness=-1)\n",
        "    img = cv2.bitwise_and(img, img, mask=circle_img)\n",
        "    img = crop_image_from_gray(img)\n",
        "    return img \n",
        "\n",
        "def preprocess(id_code):\n",
        "  path = DATASET_PATH + \"/train_images/\" + id_code + \".png\"\n",
        "\n",
        "  if(os.path.isfile(path) == False):\n",
        "    print(id_code + \" does not exist!\")\n",
        "    return\n",
        "\n",
        "  img = cv2.imread(path)\n",
        "\n",
        "\n",
        "  # Circle crop\n",
        "  img = circle_crop(img)\n",
        "\n",
        "  # Resize the image\n",
        "  img = cv2.resize(img, (224, 224))\n",
        "\n",
        "  # Extract Green Channel\n",
        "  img[:,:,0] = 0\n",
        "  img[:,:,2] = 0\n",
        "\n",
        "  # Convert to Greyscale\n",
        "  img = cv2.cvtColor(img, cv2.COLOR_BGR2GRAY)\n",
        "\n",
        "  # Apply Gaussian Blur\n",
        "  img = cv2.addWeighted(img,4, cv2.GaussianBlur( img , (0,0) , 512/10) ,-4 ,128)\n",
        "  \n",
        "  # Perform histogram equalization\n",
        "\n",
        "  clahe = cv2.createCLAHE(clipLimit=5.0, tileGridSize=(8,8))\n",
        "  img = clahe.apply(img)\n",
        "\n",
        "  cv2.imwrite(PREP_PATH + id_code + \".png\", img)\n",
        "\n",
        "\n",
        "for id_code in dataset[\"id_code\"]:\n",
        "  preprocess(id_code) \n",
        "  '''"
      ],
      "metadata": {
        "id": "IDgCkcf1z0NF",
        "colab": {
          "base_uri": "https://localhost:8080/",
          "height": 140
        },
        "outputId": "0c4a478c-ed86-4f2a-c49f-42919918d4b3"
      },
      "execution_count": null,
      "outputs": [
        {
          "output_type": "execute_result",
          "data": {
            "text/plain": [
              "'\\n# ref: https://www.kaggle.com/code/ratthachat/aptos-eye-preprocessing-in-diabetic-retinopathy/notebook\\n# ref: https://www.kaggle.com/code/ratthachat/aptos-eye-preprocessing-in-diabetic-retinopathy/notebook\\n# ref for circle crop: https://github.com/debayanmitra1993-data/Blindness-Detection-Diabetic-Retinopathy-/blob/master/research_paper_implementation.ipynb\\ndef crop_image_from_gray(img,tol=7):\\n    if img.ndim ==2:\\n        mask = img>tol\\n        return img[np.ix_(mask.any(1),mask.any(0))]\\n    elif img.ndim==3:\\n        gray_img = cv2.cvtColor(img, cv2.COLOR_RGB2GRAY)\\n        mask = gray_img>tol\\n        \\n        check_shape = img[:,:,0][np.ix_(mask.any(1),mask.any(0))].shape[0]\\n        if (check_shape == 0): # image is too dark so that we crop out everything,\\n            return img # return original image\\n        else:\\n            img1=img[:,:,0][np.ix_(mask.any(1),mask.any(0))]\\n            img2=img[:,:,1][np.ix_(mask.any(1),mask.any(0))]\\n            img3=img[:,:,2][np.ix_(mask.any(1),mask.any(0))]\\n            img = np.stack([img1,img2,img3],axis=-1)\\n        return img\\n\\ndef circle_crop(img, sigmaX = 30):   \\n    \"\"\"\\n    Create circular crop around image centre    \\n    \"\"\"    \\n    img = crop_image_from_gray(img)    \\n    \\n    height, width, depth = img.shape    \\n    \\n    x = int(width/2)\\n    y = int(height/2)\\n    r = np.amin((x,y))\\n    \\n    circle_img = np.zeros((height, width), np.uint8)\\n    cv2.circle(circle_img, (x,y), int(r), 1, thickness=-1)\\n    img = cv2.bitwise_and(img, img, mask=circle_img)\\n    img = crop_image_from_gray(img)\\n    return img \\n\\ndef preprocess(id_code):\\n  path = DATASET_PATH + \"/train_images/\" + id_code + \".png\"\\n\\n  if(os.path.isfile(path) == False):\\n    print(id_code + \" does not exist!\")\\n    return\\n\\n  img = cv2.imread(path)\\n\\n\\n  # Circle crop\\n  img = circle_crop(img)\\n\\n  # Resize the image\\n  img = cv2.resize(img, (224, 224))\\n\\n  # Extract Green Channel\\n  img[:,:,0] = 0\\n  img[:,:,2] = 0\\n\\n  # Convert to Greyscale\\n  img = cv2.cvtColor(img, cv2.COLOR_BGR2GRAY)\\n\\n  # Apply Gaussian Blur\\n  img = cv2.addWeighted(img,4, cv2.GaussianBlur( img , (0,0) , 512/10) ,-4 ,128)\\n  \\n  # Perform histogram equalization\\n\\n  clahe = cv2.createCLAHE(clipLimit=5.0, tileGridSize=(8,8))\\n  img = clahe.apply(img)\\n\\n  cv2.imwrite(PREP_PATH + id_code + \".png\", img)\\n\\n\\nfor id_code in dataset[\"id_code\"]:\\n  preprocess(id_code) \\n  '"
            ],
            "application/vnd.google.colaboratory.intrinsic+json": {
              "type": "string"
            }
          },
          "metadata": {},
          "execution_count": 5
        }
      ]
    },
    {
      "cell_type": "code",
      "source": [
        "# https://pytorch.org/tutorials/beginner/data_loading_tutorial.html\n",
        "\n",
        "class DrDetectionDataset(Dataset):\n",
        "    def __init__(self, csv_file, root_dir, transform=None):\n",
        "        self.labels = pd.read_csv(csv_file)\n",
        "        self.root_dir = root_dir\n",
        "        self.transform = transform\n",
        "\n",
        "    def __len__(self):\n",
        "        return len(self.labels)\n",
        "\n",
        "    def __getitem__(self, idx):\n",
        "        path = os.path.join(self.root_dir, self.labels.iloc[idx, 0])\n",
        "        img = read_image(path + \".png\")\n",
        "        lbl = self.labels.iloc[idx, 1]\n",
        "        if self.transform:\n",
        "            img = self.transform(img)\n",
        "        return img, lbl\n",
        "\n",
        "global_transforms = transforms.Compose([\n",
        "    transforms.ToPILImage(),\n",
        "    transforms.Lambda(lambda image: image.convert('RGB')),\n",
        "    transforms.Resize(IMG_SIZE),\n",
        "    transforms.ToTensor(),\n",
        "    transforms.Normalize([0.5413734, 0.5413734, 0.5413734], [0.17313044, 0.17313044, 0.17313044])\n",
        "    ])\n",
        "\n",
        "train_transforms = transforms.Compose([\n",
        "    transforms.ToPILImage(),\n",
        "    transforms.Lambda(lambda image: image.convert('RGB')),\n",
        "    # Data Augmentation\n",
        "    transforms.RandomHorizontalFlip(),\n",
        "    transforms.RandomRotation(20),\n",
        "    transforms.Resize(IMG_SIZE),\n",
        "    transforms.ToTensor(),\n",
        "    transforms.Normalize([0.5413734, 0.5413734, 0.5413734], [0.17313044, 0.17313044, 0.17313044])\n",
        "    ])\n",
        "\n",
        "dataset = DrDetectionDataset(DATASET_PATH + \"/train.csv\", PREP_PATH, transform = global_transforms)"
      ],
      "metadata": {
        "id": "5-jyUfWeQsM1"
      },
      "execution_count": 5,
      "outputs": []
    },
    {
      "cell_type": "code",
      "source": [
        "#Train-test-validation split\n",
        "\n",
        "# Set manual seed for reproducible results\n",
        "torch.manual_seed(42)\n",
        "torch.cuda.manual_seed(42)\n",
        "\n",
        "# 60% train, 20% test, 20% valid\n",
        "train_size = int(0.8 * len(dataset))\n",
        "test_val_size = (len(dataset) - train_size)\n",
        "\n",
        "train_dataset, test_dataset = random_split(dataset, [train_size, test_val_size])\n",
        "\n",
        "train_size = int(len(train_dataset) - test_val_size)\n",
        "train_dataset, valid_dataset = random_split(train_dataset, [train_size, test_val_size])\n",
        "\n",
        "train_dataset.dataset.dataset.transform = train_transforms\n",
        "\n",
        "# Use a Weighted Sampler to fix class imbalances in the training set\n",
        "class_count = np.zeros(5)\n",
        "for image, label in train_dataset:\n",
        "  class_count[label] +=1\n",
        "\n",
        "class_weights = 1. / class_count\n",
        "weights = np.array([])\n",
        "\n",
        "for image, label in train_dataset:\n",
        "  weights = np.append(weights, class_weights[label])\n",
        "  \n",
        "weights = torch.from_numpy(weights)\n",
        "\n",
        "weighted_sampler = WeightedRandomSampler(weights=weights,num_samples=len(train_dataset),replacement=True)\n",
        "\n",
        "print(\"Train size: \", len(train_dataset))\n",
        "print(\"Val size: \", len(valid_dataset))\n",
        "print(\"Test size: \", len(test_dataset))\n",
        "\n",
        "train_loader = DataLoader(train_dataset, batch_size=BATCH_SIZE, sampler=weighted_sampler)\n",
        "valid_loader = DataLoader(valid_dataset, batch_size=BATCH_SIZE, shuffle=True)\n",
        "test_loader = DataLoader(test_dataset, batch_size=BATCH_SIZE, shuffle=True)\n"
      ],
      "metadata": {
        "id": "D1yRiT6ycRw-",
        "colab": {
          "base_uri": "https://localhost:8080/"
        },
        "outputId": "f6d40912-2279-4e43-bd24-bbc67e43f182"
      },
      "execution_count": 6,
      "outputs": [
        {
          "output_type": "stream",
          "name": "stdout",
          "text": [
            "Train size:  2196\n",
            "Val size:  733\n",
            "Test size:  733\n"
          ]
        }
      ]
    },
    {
      "cell_type": "markdown",
      "source": [
        "# Training"
      ],
      "metadata": {
        "id": "6y1Ocn4xUOWP"
      }
    },
    {
      "cell_type": "markdown",
      "source": [
        "## Get Model"
      ],
      "metadata": {
        "id": "uFKc_uo9ontb"
      }
    },
    {
      "cell_type": "code",
      "source": [
        "#https://www.learnpytorch.io/06_pytorch_transfer_learning/\n",
        "from torchinfo import summary\n",
        "\n",
        "# Download pre-trained weights on IMAGENET\n",
        "weights = ConvNeXt_Tiny_Weights.IMAGENET1K_V1\n",
        "\n",
        "model = torchvision.models.convnext_tiny(weights = weights).to(device)\n",
        "print(\"Base Model: \")\n",
        "print(summary(model=model, \n",
        "        input_size=(BATCH_SIZE, 3, 224, 224),\n",
        "        col_names=[\"input_size\", \"output_size\", \"num_params\", \"trainable\"],\n",
        "        col_width=20,\n",
        "        row_settings=[\"var_names\"]) )"
      ],
      "metadata": {
        "id": "WV1jVxLtQl5o",
        "colab": {
          "base_uri": "https://localhost:8080/",
          "height": 1000,
          "referenced_widgets": [
            "7ad44e80acf4453d8a7f7eec6326fc0b",
            "85bdcf0d6dc848c3b0590887a3c75558",
            "32541e8733ce4cc59027969339edcd2f",
            "0230cef369e1434fb5706f2762bb8f23",
            "ff0a850e1ed94af1b55763eecf2e32db",
            "731342da81874d8f98bfe20f02bb40e5",
            "09a70d4c33c44b0ebece765020c2b1ec",
            "ac77c8b664bb4be58d6136c82d9c3e58",
            "931a78f390a941608654c088dd2761b0",
            "2f11b878884a4b749056ab2bb51e74a8",
            "72d8f8f0b5754b3ca62ac60351440a65"
          ]
        },
        "outputId": "c8244945-161e-4c3f-c750-ebd6d03857b4"
      },
      "execution_count": 7,
      "outputs": [
        {
          "output_type": "stream",
          "name": "stderr",
          "text": [
            "Downloading: \"https://download.pytorch.org/models/convnext_tiny-983f1562.pth\" to /root/.cache/torch/hub/checkpoints/convnext_tiny-983f1562.pth\n"
          ]
        },
        {
          "output_type": "display_data",
          "data": {
            "text/plain": [
              "  0%|          | 0.00/109M [00:00<?, ?B/s]"
            ],
            "application/vnd.jupyter.widget-view+json": {
              "version_major": 2,
              "version_minor": 0,
              "model_id": "7ad44e80acf4453d8a7f7eec6326fc0b"
            }
          },
          "metadata": {}
        },
        {
          "output_type": "stream",
          "name": "stdout",
          "text": [
            "Base Model: \n",
            "=======================================================================================================================================\n",
            "Layer (type (var_name))                                 Input Shape          Output Shape         Param #              Trainable\n",
            "=======================================================================================================================================\n",
            "ConvNeXt (ConvNeXt)                                     [10, 3, 224, 224]    [10, 1000]           --                   True\n",
            "├─Sequential (features)                                 [10, 3, 224, 224]    [10, 768, 7, 7]      --                   True\n",
            "│    └─Conv2dNormActivation (0)                         [10, 3, 224, 224]    [10, 96, 56, 56]     --                   True\n",
            "│    │    └─Conv2d (0)                                  [10, 3, 224, 224]    [10, 96, 56, 56]     4,704                True\n",
            "│    │    └─LayerNorm2d (1)                             [10, 96, 56, 56]     [10, 96, 56, 56]     192                  True\n",
            "│    └─Sequential (1)                                   [10, 96, 56, 56]     [10, 96, 56, 56]     --                   True\n",
            "│    │    └─CNBlock (0)                                 [10, 96, 56, 56]     [10, 96, 56, 56]     79,296               True\n",
            "│    │    └─CNBlock (1)                                 [10, 96, 56, 56]     [10, 96, 56, 56]     79,296               True\n",
            "│    │    └─CNBlock (2)                                 [10, 96, 56, 56]     [10, 96, 56, 56]     79,296               True\n",
            "│    └─Sequential (2)                                   [10, 96, 56, 56]     [10, 192, 28, 28]    --                   True\n",
            "│    │    └─LayerNorm2d (0)                             [10, 96, 56, 56]     [10, 96, 56, 56]     192                  True\n",
            "│    │    └─Conv2d (1)                                  [10, 96, 56, 56]     [10, 192, 28, 28]    73,920               True\n",
            "│    └─Sequential (3)                                   [10, 192, 28, 28]    [10, 192, 28, 28]    --                   True\n",
            "│    │    └─CNBlock (0)                                 [10, 192, 28, 28]    [10, 192, 28, 28]    306,048              True\n",
            "│    │    └─CNBlock (1)                                 [10, 192, 28, 28]    [10, 192, 28, 28]    306,048              True\n",
            "│    │    └─CNBlock (2)                                 [10, 192, 28, 28]    [10, 192, 28, 28]    306,048              True\n",
            "│    └─Sequential (4)                                   [10, 192, 28, 28]    [10, 384, 14, 14]    --                   True\n",
            "│    │    └─LayerNorm2d (0)                             [10, 192, 28, 28]    [10, 192, 28, 28]    384                  True\n",
            "│    │    └─Conv2d (1)                                  [10, 192, 28, 28]    [10, 384, 14, 14]    295,296              True\n",
            "│    └─Sequential (5)                                   [10, 384, 14, 14]    [10, 384, 14, 14]    --                   True\n",
            "│    │    └─CNBlock (0)                                 [10, 384, 14, 14]    [10, 384, 14, 14]    1,201,920            True\n",
            "│    │    └─CNBlock (1)                                 [10, 384, 14, 14]    [10, 384, 14, 14]    1,201,920            True\n",
            "│    │    └─CNBlock (2)                                 [10, 384, 14, 14]    [10, 384, 14, 14]    1,201,920            True\n",
            "│    │    └─CNBlock (3)                                 [10, 384, 14, 14]    [10, 384, 14, 14]    1,201,920            True\n",
            "│    │    └─CNBlock (4)                                 [10, 384, 14, 14]    [10, 384, 14, 14]    1,201,920            True\n",
            "│    │    └─CNBlock (5)                                 [10, 384, 14, 14]    [10, 384, 14, 14]    1,201,920            True\n",
            "│    │    └─CNBlock (6)                                 [10, 384, 14, 14]    [10, 384, 14, 14]    1,201,920            True\n",
            "│    │    └─CNBlock (7)                                 [10, 384, 14, 14]    [10, 384, 14, 14]    1,201,920            True\n",
            "│    │    └─CNBlock (8)                                 [10, 384, 14, 14]    [10, 384, 14, 14]    1,201,920            True\n",
            "│    └─Sequential (6)                                   [10, 384, 14, 14]    [10, 768, 7, 7]      --                   True\n",
            "│    │    └─LayerNorm2d (0)                             [10, 384, 14, 14]    [10, 384, 14, 14]    768                  True\n",
            "│    │    └─Conv2d (1)                                  [10, 384, 14, 14]    [10, 768, 7, 7]      1,180,416            True\n",
            "│    └─Sequential (7)                                   [10, 768, 7, 7]      [10, 768, 7, 7]      --                   True\n",
            "│    │    └─CNBlock (0)                                 [10, 768, 7, 7]      [10, 768, 7, 7]      4,763,136            True\n",
            "│    │    └─CNBlock (1)                                 [10, 768, 7, 7]      [10, 768, 7, 7]      4,763,136            True\n",
            "│    │    └─CNBlock (2)                                 [10, 768, 7, 7]      [10, 768, 7, 7]      4,763,136            True\n",
            "├─AdaptiveAvgPool2d (avgpool)                           [10, 768, 7, 7]      [10, 768, 1, 1]      --                   --\n",
            "├─Sequential (classifier)                               [10, 768, 1, 1]      [10, 1000]           --                   True\n",
            "│    └─LayerNorm2d (0)                                  [10, 768, 1, 1]      [10, 768, 1, 1]      1,536                True\n",
            "│    └─Flatten (1)                                      [10, 768, 1, 1]      [10, 768]            --                   --\n",
            "│    └─Linear (2)                                       [10, 768]            [10, 1000]           769,000              True\n",
            "=======================================================================================================================================\n",
            "Total params: 28,589,128\n",
            "Trainable params: 28,589,128\n",
            "Non-trainable params: 0\n",
            "Total mult-adds (G): 3.22\n",
            "=======================================================================================================================================\n",
            "Input size (MB): 6.02\n",
            "Forward/backward pass size (MB): 1312.75\n",
            "Params size (MB): 114.33\n",
            "Estimated Total Size (MB): 1433.10\n",
            "=======================================================================================================================================\n"
          ]
        }
      ]
    },
    {
      "cell_type": "code",
      "source": [
        "from torchinfo import summary\n",
        "\n",
        "# Tune the model parameters to fit our domain\n",
        "# Sets Feature extraction layers as not trainable\n",
        "for param in model.features.parameters():\n",
        "    param.requires_grad = False\n",
        "    \n",
        "model.classifier[2] = torch.nn.Linear(in_features=768, out_features=5, bias=True)\n",
        "\n",
        "print(summary(model=model, \n",
        "        input_size=(32, 3, 224, 224),\n",
        "        col_names=[\"input_size\", \"output_size\", \"num_params\", \"trainable\"],\n",
        "        col_width=20,\n",
        "        row_settings=[\"var_names\"]))"
      ],
      "metadata": {
        "id": "mdFYOdA_ZMVv",
        "colab": {
          "base_uri": "https://localhost:8080/"
        },
        "outputId": "bac14663-18d9-4e55-e50c-e15aee492e6c"
      },
      "execution_count": 8,
      "outputs": [
        {
          "output_type": "stream",
          "name": "stdout",
          "text": [
            "=======================================================================================================================================\n",
            "Layer (type (var_name))                                 Input Shape          Output Shape         Param #              Trainable\n",
            "=======================================================================================================================================\n",
            "ConvNeXt (ConvNeXt)                                     [32, 3, 224, 224]    [32, 5]              --                   Partial\n",
            "├─Sequential (features)                                 [32, 3, 224, 224]    [32, 768, 7, 7]      --                   False\n",
            "│    └─Conv2dNormActivation (0)                         [32, 3, 224, 224]    [32, 96, 56, 56]     --                   False\n",
            "│    │    └─Conv2d (0)                                  [32, 3, 224, 224]    [32, 96, 56, 56]     (4,704)              False\n",
            "│    │    └─LayerNorm2d (1)                             [32, 96, 56, 56]     [32, 96, 56, 56]     (192)                False\n",
            "│    └─Sequential (1)                                   [32, 96, 56, 56]     [32, 96, 56, 56]     --                   False\n",
            "│    │    └─CNBlock (0)                                 [32, 96, 56, 56]     [32, 96, 56, 56]     (79,296)             False\n",
            "│    │    └─CNBlock (1)                                 [32, 96, 56, 56]     [32, 96, 56, 56]     (79,296)             False\n",
            "│    │    └─CNBlock (2)                                 [32, 96, 56, 56]     [32, 96, 56, 56]     (79,296)             False\n",
            "│    └─Sequential (2)                                   [32, 96, 56, 56]     [32, 192, 28, 28]    --                   False\n",
            "│    │    └─LayerNorm2d (0)                             [32, 96, 56, 56]     [32, 96, 56, 56]     (192)                False\n",
            "│    │    └─Conv2d (1)                                  [32, 96, 56, 56]     [32, 192, 28, 28]    (73,920)             False\n",
            "│    └─Sequential (3)                                   [32, 192, 28, 28]    [32, 192, 28, 28]    --                   False\n",
            "│    │    └─CNBlock (0)                                 [32, 192, 28, 28]    [32, 192, 28, 28]    (306,048)            False\n",
            "│    │    └─CNBlock (1)                                 [32, 192, 28, 28]    [32, 192, 28, 28]    (306,048)            False\n",
            "│    │    └─CNBlock (2)                                 [32, 192, 28, 28]    [32, 192, 28, 28]    (306,048)            False\n",
            "│    └─Sequential (4)                                   [32, 192, 28, 28]    [32, 384, 14, 14]    --                   False\n",
            "│    │    └─LayerNorm2d (0)                             [32, 192, 28, 28]    [32, 192, 28, 28]    (384)                False\n",
            "│    │    └─Conv2d (1)                                  [32, 192, 28, 28]    [32, 384, 14, 14]    (295,296)            False\n",
            "│    └─Sequential (5)                                   [32, 384, 14, 14]    [32, 384, 14, 14]    --                   False\n",
            "│    │    └─CNBlock (0)                                 [32, 384, 14, 14]    [32, 384, 14, 14]    (1,201,920)          False\n",
            "│    │    └─CNBlock (1)                                 [32, 384, 14, 14]    [32, 384, 14, 14]    (1,201,920)          False\n",
            "│    │    └─CNBlock (2)                                 [32, 384, 14, 14]    [32, 384, 14, 14]    (1,201,920)          False\n",
            "│    │    └─CNBlock (3)                                 [32, 384, 14, 14]    [32, 384, 14, 14]    (1,201,920)          False\n",
            "│    │    └─CNBlock (4)                                 [32, 384, 14, 14]    [32, 384, 14, 14]    (1,201,920)          False\n",
            "│    │    └─CNBlock (5)                                 [32, 384, 14, 14]    [32, 384, 14, 14]    (1,201,920)          False\n",
            "│    │    └─CNBlock (6)                                 [32, 384, 14, 14]    [32, 384, 14, 14]    (1,201,920)          False\n",
            "│    │    └─CNBlock (7)                                 [32, 384, 14, 14]    [32, 384, 14, 14]    (1,201,920)          False\n",
            "│    │    └─CNBlock (8)                                 [32, 384, 14, 14]    [32, 384, 14, 14]    (1,201,920)          False\n",
            "│    └─Sequential (6)                                   [32, 384, 14, 14]    [32, 768, 7, 7]      --                   False\n",
            "│    │    └─LayerNorm2d (0)                             [32, 384, 14, 14]    [32, 384, 14, 14]    (768)                False\n",
            "│    │    └─Conv2d (1)                                  [32, 384, 14, 14]    [32, 768, 7, 7]      (1,180,416)          False\n",
            "│    └─Sequential (7)                                   [32, 768, 7, 7]      [32, 768, 7, 7]      --                   False\n",
            "│    │    └─CNBlock (0)                                 [32, 768, 7, 7]      [32, 768, 7, 7]      (4,763,136)          False\n",
            "│    │    └─CNBlock (1)                                 [32, 768, 7, 7]      [32, 768, 7, 7]      (4,763,136)          False\n",
            "│    │    └─CNBlock (2)                                 [32, 768, 7, 7]      [32, 768, 7, 7]      (4,763,136)          False\n",
            "├─AdaptiveAvgPool2d (avgpool)                           [32, 768, 7, 7]      [32, 768, 1, 1]      --                   --\n",
            "├─Sequential (classifier)                               [32, 768, 1, 1]      [32, 5]              --                   True\n",
            "│    └─LayerNorm2d (0)                                  [32, 768, 1, 1]      [32, 768, 1, 1]      1,536                True\n",
            "│    └─Flatten (1)                                      [32, 768, 1, 1]      [32, 768]            --                   --\n",
            "│    └─Linear (2)                                       [32, 768]            [32, 5]              3,845                True\n",
            "=======================================================================================================================================\n",
            "Total params: 27,823,973\n",
            "Trainable params: 5,381\n",
            "Non-trainable params: 27,818,592\n",
            "Total mult-adds (G): 10.29\n",
            "=======================================================================================================================================\n",
            "Input size (MB): 19.27\n",
            "Forward/backward pass size (MB): 4200.53\n",
            "Params size (MB): 111.27\n",
            "Estimated Total Size (MB): 4331.07\n",
            "=======================================================================================================================================\n"
          ]
        }
      ]
    },
    {
      "cell_type": "markdown",
      "source": [
        "## Train"
      ],
      "metadata": {
        "id": "adpyl8PApNTH"
      }
    },
    {
      "cell_type": "markdown",
      "source": [
        "### Warmup Training"
      ],
      "metadata": {
        "id": "pzXFwn_6G0wd"
      }
    },
    {
      "cell_type": "code",
      "source": [
        "#https://pytorch.org/tutorials/beginner/blitz/cifar10_tutorial.html\n",
        "#https://www.geeksforgeeks.org/training-neural-networks-with-validation-using-pytorch/\n",
        "\n",
        "loss_fn = torch.nn.CrossEntropyLoss()\n",
        "optimizer = torch.optim.Adam(model.parameters(), lr=LR_INIT)\n",
        "\n",
        "top_accuracy = 0.0\n",
        "\n",
        "# Loop through each epoch\n",
        "for epoch in range(NUM_INIT_EPOCHS):\n",
        "  train_loss = 0.0\n",
        "  \n",
        "  train_correct = 0\n",
        "  train_total = 0\n",
        "\n",
        "  for data, labels in train_loader:\n",
        "    if torch.cuda.is_available():\n",
        "        data, labels = data.cuda(), labels.cuda()\n",
        "\n",
        "    # zero the parameter gradients\n",
        "    optimizer.zero_grad()\n",
        "\n",
        "    # forward + backward + optimize\n",
        "    outputs = model(data)\n",
        "    loss = loss_fn(outputs, labels)\n",
        "    loss.backward()\n",
        "    optimizer.step()\n",
        "\n",
        "    _, predicted = torch.max(outputs.data, 1)\n",
        "    train_total += labels.size(0)\n",
        "    train_correct += (predicted == labels).sum().item()\n",
        "\n",
        "    # print statistics\n",
        "    train_loss += loss.item()\n",
        "    \n",
        "  valid_loss = 0.0\n",
        "  val_correct = 0\n",
        "  val_total = 0\n",
        "\n",
        "  for data, labels in valid_loader:\n",
        "    if torch.cuda.is_available():\n",
        "      data, labels = data.cuda(), labels.cuda()\n",
        "\n",
        "      outputs = model(data)\n",
        "      loss = loss_fn(outputs,labels)\n",
        "      valid_loss = loss.item() * data.size(0)\n",
        "\n",
        "      _, predicted = torch.max(outputs.data, 1)\n",
        "      val_total += labels.size(0)\n",
        "      val_correct += (predicted == labels).sum().item()\n",
        "\n",
        "  val_accuracy = (100 * val_correct) // val_total\n",
        "\n",
        "  print(f'Epoch {epoch+1} \\t\\t Training Loss: {train_loss / len(train_loader)} \\t\\t Training Accuracy: {100 * train_correct // train_total}' )\n",
        "  print(f'\\t\\t Validation Loss: {valid_loss / len(valid_loader)} \\t\\t Validation Accuracy: {val_accuracy}')\n",
        "  if val_accuracy > top_accuracy:\n",
        "      print(f'Validation Accuracy Increased({top_accuracy:.6f}--->{val_accuracy:.6f}) \\t Saving The Model')\n",
        "      top_accuracy = val_accuracy\n",
        "      # Save Model\n",
        "      torch.save(model, MODEL_PATH)\n"
      ],
      "metadata": {
        "id": "sETdkp7jHn1s",
        "colab": {
          "base_uri": "https://localhost:8080/"
        },
        "outputId": "c7a31b20-9aeb-48bb-81c5-23787befbeae"
      },
      "execution_count": 9,
      "outputs": [
        {
          "output_type": "stream",
          "name": "stdout",
          "text": [
            "Epoch 1 \t\t Training Loss: 1.1830828203396364 \t\t Training Accuracy: 50\n",
            "\t\t Validation Loss: 0.04563452907510706 \t\t Validation Accuracy: 62\n",
            "Validation Accuracy Increased(0.000000--->62.000000) \t Saving The Model\n",
            "Epoch 2 \t\t Training Loss: 0.9947020553729751 \t\t Training Accuracy: 59\n",
            "\t\t Validation Loss: 0.02964480100451289 \t\t Validation Accuracy: 71\n",
            "Validation Accuracy Increased(62.000000--->71.000000) \t Saving The Model\n",
            "Epoch 3 \t\t Training Loss: 0.9378219309178266 \t\t Training Accuracy: 60\n",
            "\t\t Validation Loss: 0.0422998715091396 \t\t Validation Accuracy: 70\n",
            "Epoch 4 \t\t Training Loss: 0.9059453876181083 \t\t Training Accuracy: 61\n",
            "\t\t Validation Loss: 0.04271245808214755 \t\t Validation Accuracy: 51\n"
          ]
        }
      ]
    },
    {
      "cell_type": "markdown",
      "source": [
        "### Training"
      ],
      "metadata": {
        "id": "I-6pjfvpIH8Z"
      }
    },
    {
      "cell_type": "code",
      "source": [
        "#https://pytorch.org/tutorials/beginner/blitz/cifar10_tutorial.html\n",
        "#https://www.geeksforgeeks.org/training-neural-networks-with-validation-using-pytorch/\n",
        "#https://stackoverflow.com/questions/71998978/early-stopping-in-pytorch\n",
        "\n",
        "model = torch.load(MODEL_PATH).to(device)\n",
        "\n",
        "# Tune the model parameters to fit our domain\n",
        "# Sets Feature extraction layers as not trainable\n",
        "for param in model.features.parameters():\n",
        "    param.requires_grad = True\n",
        "\n",
        "loss_fn = torch.nn.CrossEntropyLoss()\n",
        "optimizer = torch.optim.Adam(model.parameters(), lr=LR)\n",
        "scheduler = torch.optim.lr_scheduler.ReduceLROnPlateau(optimizer, mode='min', factor=DECAY_FACTOR, patience=0, \n",
        "                                                       threshold=LR_TSH, threshold_mode=TSH_MODE, verbose=True)\n",
        "\n",
        "# Loop through each epoch\n",
        "for epoch in range(NUM_EPOCHS):\n",
        "  train_loss = 0.0\n",
        "\n",
        "  train_correct = 0\n",
        "  train_total = 0\n",
        "\n",
        "  for data, labels in train_loader:\n",
        "\n",
        "    if torch.cuda.is_available():\n",
        "        data, labels = data.cuda(), labels.cuda()\n",
        "\n",
        "    # zero the parameter gradients\n",
        "    optimizer.zero_grad()\n",
        "\n",
        "    # forward + backward + optimize\n",
        "    outputs = model(data)\n",
        "    loss = loss_fn(outputs, labels)\n",
        "    loss.backward()\n",
        "    optimizer.step()\n",
        "\n",
        "    _, predicted = torch.max(outputs.data, 1)\n",
        "    train_total += labels.size(0)\n",
        "    train_correct += (predicted == labels).sum().item()\n",
        "\n",
        "    # print statistics\n",
        "    train_loss += loss.item()\n",
        "    \n",
        "  valid_loss = 0.0\n",
        "  val_correct = 0\n",
        "  val_total = 0\n",
        "\n",
        "  with torch.no_grad():\n",
        "    for data, labels in valid_loader:\n",
        "      if torch.cuda.is_available():\n",
        "        data, labels = data.cuda(), labels.cuda()\n",
        "\n",
        "        outputs = model(data)\n",
        "        loss = loss_fn(outputs,labels)\n",
        "        valid_loss = loss.item() * data.size(0)\n",
        "\n",
        "        _, predicted = torch.max(outputs.data, 1)\n",
        "        val_total += labels.size(0)\n",
        "        val_correct += (predicted == labels).sum().item()\n",
        "  \n",
        "  scheduler.step(valid_loss)\n",
        "\n",
        "  val_accuracy = (100 * val_correct) // val_total\n",
        "\n",
        "  print(f'Epoch {epoch+1} \\t\\t Training Loss: {train_loss / len(train_loader)} \\t\\t Training Accuracy: {100 * train_correct // train_total}' )\n",
        "  print(f'\\t\\t Validation Loss: {valid_loss / len(valid_loader)} \\t\\t Validation Accuracy: {val_accuracy}')\n",
        "  if val_accuracy > top_accuracy:\n",
        "      print(f'Validation Accuracy Increased({top_accuracy:.6f}--->{val_accuracy:.6f}) \\t Saving The Model')\n",
        "      top_accuracy = val_accuracy\n",
        "      # Save Model\n",
        "      torch.save(model, MODEL_PATH)\n"
      ],
      "metadata": {
        "id": "TtjR-IZkaq2i",
        "colab": {
          "base_uri": "https://localhost:8080/"
        },
        "outputId": "ca316b72-f262-4050-baa5-7c0c835dc906"
      },
      "execution_count": 10,
      "outputs": [
        {
          "output_type": "stream",
          "name": "stdout",
          "text": [
            "Epoch 1 \t\t Training Loss: 0.9148769142952833 \t\t Training Accuracy: 61\n",
            "\t\t Validation Loss: 0.011431530117988586 \t\t Validation Accuracy: 73\n",
            "Validation Accuracy Increased(71.000000--->73.000000) \t Saving The Model\n",
            "Epoch 2 \t\t Training Loss: 0.6446896893056956 \t\t Training Accuracy: 74\n",
            "\t\t Validation Loss: 0.008255032872831499 \t\t Validation Accuracy: 76\n",
            "Validation Accuracy Increased(73.000000--->76.000000) \t Saving The Model\n",
            "Epoch 3 \t\t Training Loss: 0.43163681009953675 \t\t Training Accuracy: 83\n",
            "\t\t Validation Loss: 0.00011217485911942817 \t\t Validation Accuracy: 75\n",
            "Epoch 00004: reducing learning rate of group 0 to 1.0000e-05.\n",
            "Epoch 4 \t\t Training Loss: 0.2867325312669643 \t\t Training Accuracy: 89\n",
            "\t\t Validation Loss: 0.09553195334769585 \t\t Validation Accuracy: 77\n",
            "Validation Accuracy Increased(76.000000--->77.000000) \t Saving The Model\n",
            "Epoch 00005: reducing learning rate of group 0 to 1.0000e-06.\n",
            "Epoch 5 \t\t Training Loss: 0.16627686355178328 \t\t Training Accuracy: 95\n",
            "\t\t Validation Loss: 0.09805008849582157 \t\t Validation Accuracy: 78\n",
            "Validation Accuracy Increased(77.000000--->78.000000) \t Saving The Model\n",
            "Epoch 00006: reducing learning rate of group 0 to 1.0000e-07.\n",
            "Epoch 6 \t\t Training Loss: 0.15368743758563969 \t\t Training Accuracy: 95\n",
            "\t\t Validation Loss: 0.06743734108435141 \t\t Validation Accuracy: 79\n",
            "Validation Accuracy Increased(78.000000--->79.000000) \t Saving The Model\n",
            "Epoch 00007: reducing learning rate of group 0 to 1.0000e-08.\n",
            "Epoch 7 \t\t Training Loss: 0.12356667970307171 \t\t Training Accuracy: 96\n",
            "\t\t Validation Loss: 0.07727449487995457 \t\t Validation Accuracy: 79\n",
            "Epoch 8 \t\t Training Loss: 0.14720460674725472 \t\t Training Accuracy: 95\n",
            "\t\t Validation Loss: 0.07637676193907454 \t\t Validation Accuracy: 79\n",
            "Epoch 9 \t\t Training Loss: 0.14757068790072067 \t\t Training Accuracy: 96\n",
            "\t\t Validation Loss: 7.4230884894023874e-06 \t\t Validation Accuracy: 78\n",
            "Epoch 10 \t\t Training Loss: 0.14198164134709673 \t\t Training Accuracy: 95\n",
            "\t\t Validation Loss: 0.0026600980074019047 \t\t Validation Accuracy: 79\n",
            "Epoch 11 \t\t Training Loss: 0.1433557925153185 \t\t Training Accuracy: 95\n",
            "\t\t Validation Loss: 0.013166819069836591 \t\t Validation Accuracy: 79\n",
            "Epoch 12 \t\t Training Loss: 0.13673331377477468 \t\t Training Accuracy: 95\n",
            "\t\t Validation Loss: 0.013766174380843705 \t\t Validation Accuracy: 79\n",
            "Epoch 13 \t\t Training Loss: 0.13392608957365154 \t\t Training Accuracy: 96\n",
            "\t\t Validation Loss: 0.06576175303072543 \t\t Validation Accuracy: 79\n",
            "Epoch 14 \t\t Training Loss: 0.12937580544967203 \t\t Training Accuracy: 96\n",
            "\t\t Validation Loss: 6.936431226849154e-05 \t\t Validation Accuracy: 79\n",
            "Epoch 15 \t\t Training Loss: 0.13807476948608052 \t\t Training Accuracy: 96\n",
            "\t\t Validation Loss: 0.014065647850165496 \t\t Validation Accuracy: 79\n",
            "Epoch 16 \t\t Training Loss: 0.13356531852094286 \t\t Training Accuracy: 96\n",
            "\t\t Validation Loss: 0.007866070882694141 \t\t Validation Accuracy: 79\n",
            "Epoch 17 \t\t Training Loss: 0.1311876665250483 \t\t Training Accuracy: 95\n",
            "\t\t Validation Loss: 0.01583487157886093 \t\t Validation Accuracy: 80\n",
            "Validation Accuracy Increased(79.000000--->80.000000) \t Saving The Model\n",
            "Epoch 18 \t\t Training Loss: 0.11387791489674286 \t\t Training Accuracy: 96\n",
            "\t\t Validation Loss: 0.005409089496006837 \t\t Validation Accuracy: 79\n",
            "Epoch 19 \t\t Training Loss: 0.15001769046383825 \t\t Training Accuracy: 95\n",
            "\t\t Validation Loss: 0.027934436057064985 \t\t Validation Accuracy: 78\n",
            "Epoch 20 \t\t Training Loss: 0.14518390694125133 \t\t Training Accuracy: 95\n",
            "\t\t Validation Loss: 0.007704058208981076 \t\t Validation Accuracy: 78\n",
            "Epoch 21 \t\t Training Loss: 0.1484356727641584 \t\t Training Accuracy: 95\n",
            "\t\t Validation Loss: 0.06846824691102311 \t\t Validation Accuracy: 78\n",
            "Epoch 22 \t\t Training Loss: 0.149855734530667 \t\t Training Accuracy: 95\n",
            "\t\t Validation Loss: 0.0584796522114728 \t\t Validation Accuracy: 79\n",
            "Epoch 23 \t\t Training Loss: 0.12632313174703583 \t\t Training Accuracy: 96\n",
            "\t\t Validation Loss: 0.018394199174803658 \t\t Validation Accuracy: 79\n",
            "Epoch 24 \t\t Training Loss: 0.13283529685259882 \t\t Training Accuracy: 95\n",
            "\t\t Validation Loss: 0.006776703169216981 \t\t Validation Accuracy: 78\n",
            "Epoch 25 \t\t Training Loss: 0.13214647143401884 \t\t Training Accuracy: 96\n",
            "\t\t Validation Loss: 0.07647201177236196 \t\t Validation Accuracy: 79\n",
            "Epoch 26 \t\t Training Loss: 0.14797259201507337 \t\t Training Accuracy: 96\n",
            "\t\t Validation Loss: 0.0013799374872768247 \t\t Validation Accuracy: 79\n",
            "Epoch 27 \t\t Training Loss: 0.12708093103614043 \t\t Training Accuracy: 96\n",
            "\t\t Validation Loss: 0.038870234747190736 \t\t Validation Accuracy: 78\n",
            "Epoch 28 \t\t Training Loss: 0.1386955114843493 \t\t Training Accuracy: 96\n",
            "\t\t Validation Loss: 0.008108761866350431 \t\t Validation Accuracy: 79\n",
            "Epoch 29 \t\t Training Loss: 0.1260996673912318 \t\t Training Accuracy: 96\n",
            "\t\t Validation Loss: 0.025255672835014963 \t\t Validation Accuracy: 78\n",
            "Epoch 30 \t\t Training Loss: 0.1398534526117146 \t\t Training Accuracy: 96\n",
            "\t\t Validation Loss: 0.042025928561751906 \t\t Validation Accuracy: 78\n"
          ]
        }
      ]
    },
    {
      "cell_type": "markdown",
      "source": [
        "# Test on whole test-set"
      ],
      "metadata": {
        "id": "hdh8Dx7-CJSY"
      }
    },
    {
      "cell_type": "code",
      "source": [
        "#https://pytorch.org/tutorials/beginner/blitz/cifar10_tutorial.html\n",
        "model = torch.load(MODEL_PATH).to(device)\n",
        "\n",
        "correct = 0\n",
        "total = 0\n",
        "\n",
        "with torch.no_grad():\n",
        "    for data in test_loader:\n",
        "        images, labels = data\n",
        "        images, labels = images.to(device), labels.to(device)\n",
        "\n",
        "        outputs = model(images)\n",
        "\n",
        "        # the class with the highest value is what we choose as prediction\n",
        "        _, predicted = torch.max(outputs.data, 1)\n",
        "        total += labels.size(0)\n",
        "        correct += (predicted == labels).sum().item()\n",
        "\n",
        "print(f'Accuracy on the 733 test images: {100 * correct // total} %')"
      ],
      "metadata": {
        "id": "ayWihINZBcz7",
        "colab": {
          "base_uri": "https://localhost:8080/"
        },
        "outputId": "b76efea7-effa-4328-a2b8-ff8ee56109ba"
      },
      "execution_count": 11,
      "outputs": [
        {
          "output_type": "stream",
          "name": "stdout",
          "text": [
            "Accuracy on the 733 test images: 78 %\n"
          ]
        }
      ]
    },
    {
      "cell_type": "code",
      "source": [
        "# prepare to count predictions for each class\n",
        "correct_pred = {classname: 0 for classname in CLASSES}\n",
        "total_pred = {classname: 0 for classname in CLASSES}\n",
        "\n",
        "# again no gradients needed\n",
        "with torch.no_grad():\n",
        "    for data in test_loader:\n",
        "        images, labels = data\n",
        "        images, labels = images.to(device), labels.to(device)\n",
        "        \n",
        "        outputs = model(images)\n",
        "        _, predictions = torch.max(outputs, 1)\n",
        "        # collect the correct predictions for each class\n",
        "        for label, prediction in zip(labels, predictions):\n",
        "            if label == prediction:\n",
        "                correct_pred[CLASSES[label]] += 1\n",
        "            total_pred[CLASSES[label]] += 1\n",
        "\n",
        "\n",
        "# print accuracy for each class\n",
        "for classname, correct_count in correct_pred.items():\n",
        "    accuracy = 100 * float(correct_count) / total_pred[classname]\n",
        "    print(f'Accuracy for class: {classname:5s} is {accuracy:.1f} %')"
      ],
      "metadata": {
        "id": "bu3rBoIaB7Ah",
        "colab": {
          "base_uri": "https://localhost:8080/"
        },
        "outputId": "52178188-ccd1-4ac0-98c1-96addc55dfff"
      },
      "execution_count": 12,
      "outputs": [
        {
          "output_type": "stream",
          "name": "stdout",
          "text": [
            "Accuracy for class: No DR is 98.0 %\n",
            "Accuracy for class: Mild  is 56.7 %\n",
            "Accuracy for class: Moderate is 75.1 %\n",
            "Accuracy for class: Severe is 44.7 %\n",
            "Accuracy for class: Proliferative DR is 38.0 %\n"
          ]
        }
      ]
    },
    {
      "cell_type": "code",
      "source": [
        ""
      ],
      "metadata": {
        "id": "PN_D0V55CsRb"
      },
      "execution_count": 12,
      "outputs": []
    }
  ]
}