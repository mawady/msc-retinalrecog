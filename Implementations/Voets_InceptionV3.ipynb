{
  "nbformat": 4,
  "nbformat_minor": 0,
  "metadata": {
    "colab": {
      "name": "Voets_InceptionV3.ipynb",
      "provenance": [],
      "collapsed_sections": [],
      "authorship_tag": "ABX9TyN9hDKl/Kf4w6I+g6AeasxO"
    },
    "kernelspec": {
      "name": "python3",
      "display_name": "Python 3"
    },
    "language_info": {
      "name": "python"
    }
  },
  "cells": [
    {
      "cell_type": "markdown",
      "source": [
        "### Replication of method proposed in: **Development and validation of a deep learning system for diabetic retinopathy and related eye diseases using retinal images from multiethnic populations with diabetes** (*Ting, Cheung, Lim, Tan, Quang, Gan, Hamzah, Garcia-Franco, San Yeo, Lee*) as implemented by *Voets, Møllersen, Bongo*.\n",
        "\n",
        "*   [Original paper](https://jamanetwork.com/journals/jama/fullarticle/2588763), [Replication paper](https://arxiv.org/abs/1803.04337)\n",
        "*   [Code](https://github.com/mikevoets/jama16-retina-replication)\n",
        "\n"
      ],
      "metadata": {
        "id": "FnGoDF1wBzNU"
      }
    },
    {
      "cell_type": "markdown",
      "source": [
        "# Setup"
      ],
      "metadata": {
        "id": "RuQdvt8pEPhF"
      }
    },
    {
      "cell_type": "code",
      "execution_count": 1,
      "metadata": {
        "colab": {
          "base_uri": "https://localhost:8080/"
        },
        "id": "0q6KgzkyBtFD",
        "outputId": "80856bb8-2d03-43ea-bd8e-061b625fb807"
      },
      "outputs": [
        {
          "output_type": "stream",
          "name": "stdout",
          "text": [
            "/usr/local/lib/python3.7/dist-packages/gdown/cli.py:131: FutureWarning: Option `--id` was deprecated in version 4.3.1 and will be removed in 5.0. You don't need to pass it anymore to use a file ID.\n",
            "  category=FutureWarning,\n",
            "Downloading...\n",
            "From: https://drive.google.com/uc?id=1f_2Y7osL_PArEnObpKzyR1MeBhxW6xxU\n",
            "To: /content/jama16-retina-replication-master.zip\n",
            "100% 432k/432k [00:00<00:00, 76.8MB/s]\n",
            "Archive:  jama16-retina-replication-master.zip\n",
            "   creating: jama16-retina-replication-master/\n",
            "  inflating: jama16-retina-replication-master/preprocess_eyepacs.py  \n",
            "  inflating: jama16-retina-replication-master/benchmarks.yaml.jinja.example  \n",
            "  inflating: jama16-retina-replication-master/preprocess_messidor2.py  \n",
            "  inflating: jama16-retina-replication-master/train.py  \n",
            "  inflating: jama16-retina-replication-master/messidor.sh  \n",
            "  inflating: jama16-retina-replication-master/messidor2.sh  \n",
            "  inflating: jama16-retina-replication-master/evaluate.py  \n",
            "  inflating: jama16-retina-replication-master/grading_tool.py  \n",
            "  inflating: jama16-retina-replication-master/eyepacs.sh  \n",
            "  inflating: jama16-retina-replication-master/preprocess_messidor.py  \n",
            "  inflating: jama16-retina-replication-master/LICENSE.md  \n",
            "  inflating: jama16-retina-replication-master/README.md  \n",
            "  inflating: jama16-retina-replication-master/README.zh.md  \n",
            "   creating: jama16-retina-replication-master/data/\n",
            "   creating: jama16-retina-replication-master/data/messidor/\n",
            "   creating: jama16-retina-replication-master/data/messidor2/\n",
            "   creating: jama16-retina-replication-master/data/eyepacs/\n",
            "   creating: jama16-retina-replication-master/lib/\n",
            " extracting: jama16-retina-replication-master/lib/__init__.py  \n",
            "  inflating: jama16-retina-replication-master/lib/preprocess.py  \n",
            "  inflating: jama16-retina-replication-master/lib/common.py  \n",
            "  inflating: jama16-retina-replication-master/lib/dataset.py  \n",
            "  inflating: jama16-retina-replication-master/lib/metrics.py  \n",
            "  inflating: jama16-retina-replication-master/lib/evaluation.py  \n",
            "   creating: jama16-retina-replication-master/create_tfrecords/\n",
            "   creating: jama16-retina-replication-master/vendor/\n",
            "   creating: jama16-retina-replication-master/vendor/messidor/\n",
            "  inflating: jama16-retina-replication-master/vendor/messidor/messidor_gradability_grades.csv  \n",
            "  inflating: jama16-retina-replication-master/vendor/messidor/abramoff-messidor-2-refstandard-jul16.csv  \n",
            "   creating: jama16-retina-replication-master/vendor/eyepacs/\n",
            " extracting: jama16-retina-replication-master/vendor/eyepacs/testLabels.csv.zip  \n",
            "  inflating: jama16-retina-replication-master/vendor/eyepacs/eyepacs_gradability_grades.csv  \n"
          ]
        }
      ],
      "source": [
        "#Download the code repository\n",
        "!gdown --id 1f_2Y7osL_PArEnObpKzyR1MeBhxW6xxU\n",
        "!unzip jama16-retina-replication-master.zip"
      ]
    },
    {
      "cell_type": "code",
      "source": [
        "#Download checkpoints\n",
        "!wget -O checkpoints.zip https://figshare.com/ndownloader/articles/8312183/versions/1\n",
        "!unzip checkpoints -d checkpoints"
      ],
      "metadata": {
        "colab": {
          "base_uri": "https://localhost:8080/"
        },
        "id": "OpSq9jwOCYUp",
        "outputId": "8b37cffd-2dea-442f-c5c9-85044b0e0fd0"
      },
      "execution_count": 6,
      "outputs": [
        {
          "output_type": "stream",
          "name": "stdout",
          "text": [
            "--2022-07-01 09:34:31--  https://figshare.com/ndownloader/articles/8312183/versions/1\n",
            "Resolving figshare.com (figshare.com)... 34.249.108.20, 108.128.50.10, 2a05:d018:1f4:d000:5590:82e3:dd73:804e, ...\n",
            "Connecting to figshare.com (figshare.com)|34.249.108.20|:443... connected.\n",
            "HTTP request sent, awaiting response... 200 OK\n",
            "Length: 2639514478 (2.5G) [application/zip]\n",
            "Saving to: ‘checkpoints.zip’\n",
            "\n",
            "checkpoints.zip     100%[===================>]   2.46G  11.6MB/s    in 3m 49s  \n",
            "\n",
            "2022-07-01 09:38:21 (11.0 MB/s) - ‘checkpoints.zip’ saved [2639514478/2639514478]\n",
            "\n",
            "Archive:  checkpoints.zip\n",
            " extracting: checkpoints/model-9.data-00000-of-00001  \n",
            " extracting: checkpoints/model-3.index  \n",
            " extracting: checkpoints/model-2.meta  \n",
            " extracting: checkpoints/model-1.data-00000-of-00001  \n",
            " extracting: checkpoints/model-4.index  \n",
            " extracting: checkpoints/model-10.meta  \n",
            " extracting: checkpoints/model-4.meta  \n",
            " extracting: checkpoints/model-7.meta  \n",
            " extracting: checkpoints/model-5.data-00000-of-00001  \n",
            " extracting: checkpoints/model-3.meta  \n",
            " extracting: checkpoints/model-10.index  \n",
            " extracting: checkpoints/model-7.data-00000-of-00001  \n",
            " extracting: checkpoints/model-6.meta  \n",
            " extracting: checkpoints/model-1.meta  \n",
            " extracting: checkpoints/model-8.meta  \n",
            " extracting: checkpoints/model-2.index  \n",
            " extracting: checkpoints/model-7.index  \n",
            " extracting: checkpoints/model-5.index  \n",
            " extracting: checkpoints/model-8.index  \n",
            " extracting: checkpoints/model-9.meta  \n",
            " extracting: checkpoints/model-1.index  \n",
            " extracting: checkpoints/model-9.index  \n",
            " extracting: checkpoints/model-6.index  \n",
            " extracting: checkpoints/model-3.data-00000-of-00001  \n",
            " extracting: checkpoints/model-5.meta  \n",
            " extracting: checkpoints/model-6.data-00000-of-00001  \n",
            " extracting: checkpoints/model-8.data-00000-of-00001  \n",
            " extracting: checkpoints/model-2.data-00000-of-00001  \n",
            " extracting: checkpoints/model-10.data-00000-of-00001  \n",
            " extracting: checkpoints/model-4.data-00000-of-00001  \n"
          ]
        }
      ]
    },
    {
      "cell_type": "code",
      "source": [
        ""
      ],
      "metadata": {
        "id": "T4ruPCPpE9_Y"
      },
      "execution_count": null,
      "outputs": []
    }
  ]
}