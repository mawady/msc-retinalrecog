{
  "nbformat": 4,
  "nbformat_minor": 0,
  "metadata": {
    "colab": {
      "name": "ConvNEXT.ipynb",
      "provenance": [],
      "collapsed_sections": [
        "7En8mOAo3LJU"
      ],
      "machine_shape": "hm",
      "authorship_tag": "ABX9TyN6yf6sULngwVpMeBMnAYTf"
    },
    "kernelspec": {
      "name": "python3",
      "display_name": "Python 3"
    },
    "language_info": {
      "name": "python"
    },
    "accelerator": "GPU",
    "gpuClass": "standard"
  },
  "cells": [
    {
      "cell_type": "markdown",
      "source": [
        "# ConvNEXT for DR detection"
      ],
      "metadata": {
        "id": "BqTdYbiDufny"
      }
    },
    {
      "cell_type": "markdown",
      "source": [
        "## Setup"
      ],
      "metadata": {
        "id": "v6T0uIkA2aCq"
      }
    },
    {
      "cell_type": "markdown",
      "source": [
        "### Google Drive Access"
      ],
      "metadata": {
        "id": "FqjI4jX32eZt"
      }
    },
    {
      "cell_type": "code",
      "execution_count": 121,
      "metadata": {
        "colab": {
          "base_uri": "https://localhost:8080/"
        },
        "id": "8wasxZn3ue1t",
        "outputId": "a99c9c60-28c4-420f-bc30-602eb0090555"
      },
      "outputs": [
        {
          "output_type": "stream",
          "name": "stdout",
          "text": [
            "Drive already mounted at /content/drive; to attempt to forcibly remount, call drive.mount(\"/content/drive\", force_remount=True).\n",
            "CWD: /content/drive/My Drive/University Of Stirling/Dissertation/ConvNEXT/APTOS2019\n"
          ]
        }
      ],
      "source": [
        "from google.colab import drive\n",
        "import os\n",
        "\n",
        "# Parameters\n",
        "DATASET_PATH = '/content/drive/My Drive/University Of Stirling/Dissertation/ConvNEXT/APTOS2019'\n",
        "PREP_PATH = DATASET_PATH + \"/preprocessed/\"\n",
        "\n",
        "# Load Dataset From Drive\n",
        "drive.mount('/content/drive')\n",
        "\n",
        "os.chdir(DATASET_PATH)\n",
        "print(\"CWD:\",os.getcwd())\n",
        "\n",
        "if not os.path.exists(PREP_PATH):\n",
        "  os.mkdir(PREP_PATH)"
      ]
    },
    {
      "cell_type": "markdown",
      "source": [
        "### Environment Setup"
      ],
      "metadata": {
        "id": "7En8mOAo3LJU"
      }
    },
    {
      "cell_type": "code",
      "source": [
        "device = \"cuda\" if torch.cuda.is_available() else \"cpu\"\n",
        "device"
      ],
      "metadata": {
        "colab": {
          "base_uri": "https://localhost:8080/",
          "height": 37
        },
        "id": "Bt1_BXOWV7sf",
        "outputId": "f084814e-dc6e-4c10-96ba-de656f4d5ed1"
      },
      "execution_count": 122,
      "outputs": [
        {
          "output_type": "execute_result",
          "data": {
            "text/plain": [
              "'cuda'"
            ],
            "application/vnd.google.colaboratory.intrinsic+json": {
              "type": "string"
            }
          },
          "metadata": {},
          "execution_count": 122
        }
      ]
    },
    {
      "cell_type": "code",
      "source": [
        "!pip install torchinfo"
      ],
      "metadata": {
        "colab": {
          "base_uri": "https://localhost:8080/"
        },
        "id": "Cm_dWwHWWU7U",
        "outputId": "5f1ce771-5277-41be-9f91-3d42348715e1"
      },
      "execution_count": 123,
      "outputs": [
        {
          "output_type": "stream",
          "name": "stdout",
          "text": [
            "Looking in indexes: https://pypi.org/simple, https://us-python.pkg.dev/colab-wheels/public/simple/\n",
            "Requirement already satisfied: torchinfo in /usr/local/lib/python3.7/dist-packages (1.7.0)\n"
          ]
        }
      ]
    },
    {
      "cell_type": "code",
      "source": [
        "'''%%bash\n",
        "\n",
        "pip install torch==1.8.0+cu111 torchvision==0.9.0+cu111 -f https://download.pytorch.org/whl/torch_stable.html\n",
        "git clone https://github.com/facebookresearch/ConvNeXt\n",
        "pip install timm==0.3.2 tensorboardX six\n",
        "pip install submitit\n",
        "'''"
      ],
      "metadata": {
        "id": "6H8RHXnH3N2X"
      },
      "execution_count": null,
      "outputs": []
    },
    {
      "cell_type": "markdown",
      "source": [
        "## Imports and global parameters"
      ],
      "metadata": {
        "id": "ifpMFFxX2lkS"
      }
    },
    {
      "cell_type": "code",
      "source": [
        "import pandas as pd\n",
        "import cv2\n",
        "import numpy as np\n",
        "import os\n",
        "from sklearn.model_selection import train_test_split\n",
        "import shutil\n",
        "import torch\n",
        "import torchvision\n",
        "from torchvision.models import ConvNeXt_Tiny_Weights\n",
        "from torch import nn\n",
        "from torchvision.io import read_image\n",
        "from torch.utils.data import Dataset\n",
        "from torch.utils.data import DataLoader \n",
        "from torch.utils.data import WeightedRandomSampler\n",
        "from torch.utils.data import random_split\n",
        "import torchvision.transforms as transforms"
      ],
      "metadata": {
        "id": "M8h_iHOx2sX5"
      },
      "execution_count": 124,
      "outputs": []
    },
    {
      "cell_type": "code",
      "source": [
        "IMG_SIZE = 224\n",
        "BATCH_SIZE = 10\n",
        "NUM_EPOCHS = 1\n",
        "MODEL_PATH=\"/content/drive/My Drive/University Of Stirling/Dissertation/ConvNEXT/checkpoints/checkpoint.pth\""
      ],
      "metadata": {
        "id": "c4XnQDs22u1c"
      },
      "execution_count": 137,
      "outputs": []
    },
    {
      "cell_type": "markdown",
      "source": [
        "## Dataset Preparation"
      ],
      "metadata": {
        "id": "fIl8zMTjz05Y"
      }
    },
    {
      "cell_type": "code",
      "source": [
        "'''\n",
        "# ref: https://www.kaggle.com/code/ratthachat/aptos-eye-preprocessing-in-diabetic-retinopathy/notebook\n",
        "# ref: https://www.kaggle.com/code/ratthachat/aptos-eye-preprocessing-in-diabetic-retinopathy/notebook\n",
        "# ref for circle crop: https://github.com/debayanmitra1993-data/Blindness-Detection-Diabetic-Retinopathy-/blob/master/research_paper_implementation.ipynb\n",
        "def crop_image_from_gray(img,tol=7):\n",
        "    if img.ndim ==2:\n",
        "        mask = img>tol\n",
        "        return img[np.ix_(mask.any(1),mask.any(0))]\n",
        "    elif img.ndim==3:\n",
        "        gray_img = cv2.cvtColor(img, cv2.COLOR_RGB2GRAY)\n",
        "        mask = gray_img>tol\n",
        "        \n",
        "        check_shape = img[:,:,0][np.ix_(mask.any(1),mask.any(0))].shape[0]\n",
        "        if (check_shape == 0): # image is too dark so that we crop out everything,\n",
        "            return img # return original image\n",
        "        else:\n",
        "            img1=img[:,:,0][np.ix_(mask.any(1),mask.any(0))]\n",
        "            img2=img[:,:,1][np.ix_(mask.any(1),mask.any(0))]\n",
        "            img3=img[:,:,2][np.ix_(mask.any(1),mask.any(0))]\n",
        "            img = np.stack([img1,img2,img3],axis=-1)\n",
        "        return img\n",
        "\n",
        "def circle_crop(img, sigmaX = 30):   \n",
        "    \"\"\"\n",
        "    Create circular crop around image centre    \n",
        "    \"\"\"    \n",
        "    img = crop_image_from_gray(img)    \n",
        "    \n",
        "    height, width, depth = img.shape    \n",
        "    \n",
        "    x = int(width/2)\n",
        "    y = int(height/2)\n",
        "    r = np.amin((x,y))\n",
        "    \n",
        "    circle_img = np.zeros((height, width), np.uint8)\n",
        "    cv2.circle(circle_img, (x,y), int(r), 1, thickness=-1)\n",
        "    img = cv2.bitwise_and(img, img, mask=circle_img)\n",
        "    img = crop_image_from_gray(img)\n",
        "    return img \n",
        "\n",
        "def preprocess(id_code):\n",
        "  path = DATASET_PATH + \"/train_images/\" + id_code + \".png\"\n",
        "\n",
        "  if(os.path.isfile(path) == False):\n",
        "    print(id_code + \" does not exist!\")\n",
        "    return\n",
        "\n",
        "  img = cv2.imread(path)\n",
        "\n",
        "\n",
        "  # Circle crop\n",
        "  img = circle_crop(img)\n",
        "\n",
        "  # Resize the image\n",
        "  img = cv2.resize(img, (224, 224))\n",
        "\n",
        "  # Extract Green Channel\n",
        "  img[:,:,0] = 0\n",
        "  img[:,:,2] = 0\n",
        "\n",
        "  # Convert to Greyscale\n",
        "  img = cv2.cvtColor(img, cv2.COLOR_BGR2GRAY)\n",
        "\n",
        "  # Apply Gaussian Blur\n",
        "  img = cv2.addWeighted(img,4, cv2.GaussianBlur( img , (0,0) , 512/10) ,-4 ,128)\n",
        "  \n",
        "  # Perform histogram equalization\n",
        "\n",
        "  clahe = cv2.createCLAHE(clipLimit=5.0, tileGridSize=(8,8))\n",
        "  img = clahe.apply(img)\n",
        "\n",
        "  cv2.imwrite(PREP_PATH + id_code + \".png\", img)\n",
        "\n",
        "\n",
        "for id_code in dataset[\"id_code\"]:\n",
        "  preprocess(id_code) \n",
        "  '''"
      ],
      "metadata": {
        "id": "IDgCkcf1z0NF"
      },
      "execution_count": 6,
      "outputs": []
    },
    {
      "cell_type": "code",
      "source": [
        "# https://pytorch.org/tutorials/beginner/data_loading_tutorial.html\n",
        "\n",
        "class DrDetectionDataset(Dataset):\n",
        "    def __init__(self, csv_file, root_dir, transform=None):\n",
        "        self.labels = pd.read_csv(csv_file)\n",
        "        self.root_dir = root_dir\n",
        "        self.transform = transform\n",
        "\n",
        "    def __len__(self):\n",
        "        return len(self.labels)\n",
        "\n",
        "    def __getitem__(self, idx):\n",
        "        path = os.path.join(self.root_dir, self.labels.iloc[idx, 0])\n",
        "        img = read_image(path + \".png\")\n",
        "        lbl = self.labels.iloc[idx, 1]\n",
        "        if self.transform:\n",
        "            img = self.transform(img)\n",
        "        return img, lbl\n",
        "\n",
        "global_transforms = transforms.Compose([\n",
        "    transforms.ToPILImage(),\n",
        "    transforms.Lambda(lambda image: image.convert('RGB')),\n",
        "    # Data Augmentation\n",
        "    #transforms.RandomHorizontalFlip(),\n",
        "    #transforms.RandomRotation(20),\n",
        "    transforms.Resize(IMG_SIZE),\n",
        "    transforms.ToTensor(),\n",
        "    #transforms.Normalize([0.5413734, 0.5413734, 0.5413734], [0.17313044, 0.17313044, 0.17313044])\n",
        "    ])\n",
        "\n",
        "\n",
        "dataset = DrDetectionDataset(DATASET_PATH + \"/train.csv\", PREP_PATH, transform = global_transforms)"
      ],
      "metadata": {
        "id": "5-jyUfWeQsM1"
      },
      "execution_count": 126,
      "outputs": []
    },
    {
      "cell_type": "code",
      "source": [
        "#Train-test-validation split\n",
        "\n",
        "# Set manual seed for reproducible results\n",
        "torch.manual_seed(42)\n",
        "torch.cuda.manual_seed(42)\n",
        "\n",
        "# 60% train, 20% test, 20% valid\n",
        "train_size = int(0.8 * len(dataset))\n",
        "test_val_size = (len(dataset) - train_size)\n",
        "\n",
        "train_dataset, test_dataset = random_split(dataset, [train_size, test_val_size])\n",
        "\n",
        "train_size = int(len(train_dataset) - test_val_size)\n",
        "train_dataset, valid_dataset = random_split(train_dataset, [train_size, test_val_size])\n",
        "\n",
        "print(\"Train size: \", len(train_dataset))\n",
        "print(\"Val size: \", len(valid_dataset))\n",
        "print(\"Test size: \", len(test_dataset))\n",
        "\n",
        "train_loader = DataLoader(train_dataset, batch_size=BATCH_SIZE, shuffle=False)\n",
        "valid_loader = DataLoader(valid_dataset, batch_size=BATCH_SIZE, shuffle=True)\n",
        "test_loader = DataLoader(test_dataset, batch_size=BATCH_SIZE, shuffle=True)"
      ],
      "metadata": {
        "colab": {
          "base_uri": "https://localhost:8080/"
        },
        "id": "D1yRiT6ycRw-",
        "outputId": "1b03e231-e9c4-46d7-d990-b4cb70df7079"
      },
      "execution_count": 127,
      "outputs": [
        {
          "output_type": "stream",
          "name": "stdout",
          "text": [
            "Train size:  2196\n",
            "Val size:  733\n",
            "Test size:  733\n"
          ]
        }
      ]
    },
    {
      "cell_type": "code",
      "source": [
        "'''\n",
        "# Use a Weighted Sampler to fix class imbalances\n",
        "\n",
        "class_count = np.zeros(5)\n",
        "for image, label in train_dataset:\n",
        "  class_count[label] +=1\n",
        "\n",
        "class_weights = 1. / class_count\n",
        "weights = np.array([])\n",
        "\n",
        "for image, label in train_dataset:\n",
        "  weights = np.append(weights, class_weights[label])\n",
        "  \n",
        "weights = torch.from_numpy(weights)\n",
        "weighted_sampler = WeightedRandomSampler(weights=weights,num_samples=len(train_dataset),replacement=True)\n",
        "\n",
        "train_loader = DataLoader(train_dataset, batch_size=4, sampler = weighted_sampler)\n",
        "valid_loader = DataLoader(valid_dataset, batch_size=4, shuffle=True)\n",
        "test_loader = DataLoader(test_dataset, batch_size=4, shuffle=True)\n",
        "'''"
      ],
      "metadata": {
        "id": "Sf_I-FPGn0eP"
      },
      "execution_count": null,
      "outputs": []
    },
    {
      "cell_type": "markdown",
      "source": [
        "# Training"
      ],
      "metadata": {
        "id": "6y1Ocn4xUOWP"
      }
    },
    {
      "cell_type": "markdown",
      "source": [
        "## Get Model"
      ],
      "metadata": {
        "id": "uFKc_uo9ontb"
      }
    },
    {
      "cell_type": "code",
      "source": [
        "#https://www.learnpytorch.io/06_pytorch_transfer_learning/\n",
        "from torchinfo import summary\n",
        "\n",
        "# Download pre-trained weights on IMAGENET\n",
        "weights = ConvNeXt_Tiny_Weights.IMAGENET1K_V1\n",
        "\n",
        "model = torchvision.models.convnext_tiny(weights = weights).to(device)\n",
        "print(\"Base Model: \")\n",
        "print(summary(model=model, \n",
        "        input_size=(BATCH_SIZE, 3, 224, 224),\n",
        "        col_names=[\"input_size\", \"output_size\", \"num_params\", \"trainable\"],\n",
        "        col_width=20,\n",
        "        row_settings=[\"var_names\"]) )"
      ],
      "metadata": {
        "colab": {
          "base_uri": "https://localhost:8080/"
        },
        "id": "WV1jVxLtQl5o",
        "outputId": "cec1592b-191f-4141-a54d-f728ef2c21f5"
      },
      "execution_count": 128,
      "outputs": [
        {
          "output_type": "stream",
          "name": "stdout",
          "text": [
            "Base Model: \n",
            "=======================================================================================================================================\n",
            "Layer (type (var_name))                                 Input Shape          Output Shape         Param #              Trainable\n",
            "=======================================================================================================================================\n",
            "ConvNeXt (ConvNeXt)                                     [10, 3, 224, 224]    [10, 1000]           --                   True\n",
            "├─Sequential (features)                                 [10, 3, 224, 224]    [10, 768, 7, 7]      --                   True\n",
            "│    └─Conv2dNormActivation (0)                         [10, 3, 224, 224]    [10, 96, 56, 56]     --                   True\n",
            "│    │    └─Conv2d (0)                                  [10, 3, 224, 224]    [10, 96, 56, 56]     4,704                True\n",
            "│    │    └─LayerNorm2d (1)                             [10, 96, 56, 56]     [10, 96, 56, 56]     192                  True\n",
            "│    └─Sequential (1)                                   [10, 96, 56, 56]     [10, 96, 56, 56]     --                   True\n",
            "│    │    └─CNBlock (0)                                 [10, 96, 56, 56]     [10, 96, 56, 56]     79,296               True\n",
            "│    │    └─CNBlock (1)                                 [10, 96, 56, 56]     [10, 96, 56, 56]     79,296               True\n",
            "│    │    └─CNBlock (2)                                 [10, 96, 56, 56]     [10, 96, 56, 56]     79,296               True\n",
            "│    └─Sequential (2)                                   [10, 96, 56, 56]     [10, 192, 28, 28]    --                   True\n",
            "│    │    └─LayerNorm2d (0)                             [10, 96, 56, 56]     [10, 96, 56, 56]     192                  True\n",
            "│    │    └─Conv2d (1)                                  [10, 96, 56, 56]     [10, 192, 28, 28]    73,920               True\n",
            "│    └─Sequential (3)                                   [10, 192, 28, 28]    [10, 192, 28, 28]    --                   True\n",
            "│    │    └─CNBlock (0)                                 [10, 192, 28, 28]    [10, 192, 28, 28]    306,048              True\n",
            "│    │    └─CNBlock (1)                                 [10, 192, 28, 28]    [10, 192, 28, 28]    306,048              True\n",
            "│    │    └─CNBlock (2)                                 [10, 192, 28, 28]    [10, 192, 28, 28]    306,048              True\n",
            "│    └─Sequential (4)                                   [10, 192, 28, 28]    [10, 384, 14, 14]    --                   True\n",
            "│    │    └─LayerNorm2d (0)                             [10, 192, 28, 28]    [10, 192, 28, 28]    384                  True\n",
            "│    │    └─Conv2d (1)                                  [10, 192, 28, 28]    [10, 384, 14, 14]    295,296              True\n",
            "│    └─Sequential (5)                                   [10, 384, 14, 14]    [10, 384, 14, 14]    --                   True\n",
            "│    │    └─CNBlock (0)                                 [10, 384, 14, 14]    [10, 384, 14, 14]    1,201,920            True\n",
            "│    │    └─CNBlock (1)                                 [10, 384, 14, 14]    [10, 384, 14, 14]    1,201,920            True\n",
            "│    │    └─CNBlock (2)                                 [10, 384, 14, 14]    [10, 384, 14, 14]    1,201,920            True\n",
            "│    │    └─CNBlock (3)                                 [10, 384, 14, 14]    [10, 384, 14, 14]    1,201,920            True\n",
            "│    │    └─CNBlock (4)                                 [10, 384, 14, 14]    [10, 384, 14, 14]    1,201,920            True\n",
            "│    │    └─CNBlock (5)                                 [10, 384, 14, 14]    [10, 384, 14, 14]    1,201,920            True\n",
            "│    │    └─CNBlock (6)                                 [10, 384, 14, 14]    [10, 384, 14, 14]    1,201,920            True\n",
            "│    │    └─CNBlock (7)                                 [10, 384, 14, 14]    [10, 384, 14, 14]    1,201,920            True\n",
            "│    │    └─CNBlock (8)                                 [10, 384, 14, 14]    [10, 384, 14, 14]    1,201,920            True\n",
            "│    └─Sequential (6)                                   [10, 384, 14, 14]    [10, 768, 7, 7]      --                   True\n",
            "│    │    └─LayerNorm2d (0)                             [10, 384, 14, 14]    [10, 384, 14, 14]    768                  True\n",
            "│    │    └─Conv2d (1)                                  [10, 384, 14, 14]    [10, 768, 7, 7]      1,180,416            True\n",
            "│    └─Sequential (7)                                   [10, 768, 7, 7]      [10, 768, 7, 7]      --                   True\n",
            "│    │    └─CNBlock (0)                                 [10, 768, 7, 7]      [10, 768, 7, 7]      4,763,136            True\n",
            "│    │    └─CNBlock (1)                                 [10, 768, 7, 7]      [10, 768, 7, 7]      4,763,136            True\n",
            "│    │    └─CNBlock (2)                                 [10, 768, 7, 7]      [10, 768, 7, 7]      4,763,136            True\n",
            "├─AdaptiveAvgPool2d (avgpool)                           [10, 768, 7, 7]      [10, 768, 1, 1]      --                   --\n",
            "├─Sequential (classifier)                               [10, 768, 1, 1]      [10, 1000]           --                   True\n",
            "│    └─LayerNorm2d (0)                                  [10, 768, 1, 1]      [10, 768, 1, 1]      1,536                True\n",
            "│    └─Flatten (1)                                      [10, 768, 1, 1]      [10, 768]            --                   --\n",
            "│    └─Linear (2)                                       [10, 768]            [10, 1000]           769,000              True\n",
            "=======================================================================================================================================\n",
            "Total params: 28,589,128\n",
            "Trainable params: 28,589,128\n",
            "Non-trainable params: 0\n",
            "Total mult-adds (G): 3.22\n",
            "=======================================================================================================================================\n",
            "Input size (MB): 6.02\n",
            "Forward/backward pass size (MB): 1312.75\n",
            "Params size (MB): 114.33\n",
            "Estimated Total Size (MB): 1433.10\n",
            "=======================================================================================================================================\n"
          ]
        }
      ]
    },
    {
      "cell_type": "code",
      "source": [
        "from torchinfo import summary\n",
        "\n",
        "# Tune the model parameters to fit our domain\n",
        "# Sets Feature extraction layers as not trainable\n",
        "for param in model.features.parameters():\n",
        "    param.requires_grad = False\n",
        "    \n",
        "model.classifier[2] = torch.nn.Linear(in_features=768, out_features=5, bias=True)\n",
        "\n",
        "print(summary(model=model, \n",
        "        input_size=(32, 3, 224, 224),\n",
        "        col_names=[\"input_size\", \"output_size\", \"num_params\", \"trainable\"],\n",
        "        col_width=20,\n",
        "        row_settings=[\"var_names\"]))"
      ],
      "metadata": {
        "colab": {
          "base_uri": "https://localhost:8080/"
        },
        "id": "mdFYOdA_ZMVv",
        "outputId": "8b4d5ac3-335a-422a-de79-f60298e36ff3"
      },
      "execution_count": 129,
      "outputs": [
        {
          "output_type": "stream",
          "name": "stdout",
          "text": [
            "=======================================================================================================================================\n",
            "Layer (type (var_name))                                 Input Shape          Output Shape         Param #              Trainable\n",
            "=======================================================================================================================================\n",
            "ConvNeXt (ConvNeXt)                                     [32, 3, 224, 224]    [32, 5]              --                   Partial\n",
            "├─Sequential (features)                                 [32, 3, 224, 224]    [32, 768, 7, 7]      --                   False\n",
            "│    └─Conv2dNormActivation (0)                         [32, 3, 224, 224]    [32, 96, 56, 56]     --                   False\n",
            "│    │    └─Conv2d (0)                                  [32, 3, 224, 224]    [32, 96, 56, 56]     (4,704)              False\n",
            "│    │    └─LayerNorm2d (1)                             [32, 96, 56, 56]     [32, 96, 56, 56]     (192)                False\n",
            "│    └─Sequential (1)                                   [32, 96, 56, 56]     [32, 96, 56, 56]     --                   False\n",
            "│    │    └─CNBlock (0)                                 [32, 96, 56, 56]     [32, 96, 56, 56]     (79,296)             False\n",
            "│    │    └─CNBlock (1)                                 [32, 96, 56, 56]     [32, 96, 56, 56]     (79,296)             False\n",
            "│    │    └─CNBlock (2)                                 [32, 96, 56, 56]     [32, 96, 56, 56]     (79,296)             False\n",
            "│    └─Sequential (2)                                   [32, 96, 56, 56]     [32, 192, 28, 28]    --                   False\n",
            "│    │    └─LayerNorm2d (0)                             [32, 96, 56, 56]     [32, 96, 56, 56]     (192)                False\n",
            "│    │    └─Conv2d (1)                                  [32, 96, 56, 56]     [32, 192, 28, 28]    (73,920)             False\n",
            "│    └─Sequential (3)                                   [32, 192, 28, 28]    [32, 192, 28, 28]    --                   False\n",
            "│    │    └─CNBlock (0)                                 [32, 192, 28, 28]    [32, 192, 28, 28]    (306,048)            False\n",
            "│    │    └─CNBlock (1)                                 [32, 192, 28, 28]    [32, 192, 28, 28]    (306,048)            False\n",
            "│    │    └─CNBlock (2)                                 [32, 192, 28, 28]    [32, 192, 28, 28]    (306,048)            False\n",
            "│    └─Sequential (4)                                   [32, 192, 28, 28]    [32, 384, 14, 14]    --                   False\n",
            "│    │    └─LayerNorm2d (0)                             [32, 192, 28, 28]    [32, 192, 28, 28]    (384)                False\n",
            "│    │    └─Conv2d (1)                                  [32, 192, 28, 28]    [32, 384, 14, 14]    (295,296)            False\n",
            "│    └─Sequential (5)                                   [32, 384, 14, 14]    [32, 384, 14, 14]    --                   False\n",
            "│    │    └─CNBlock (0)                                 [32, 384, 14, 14]    [32, 384, 14, 14]    (1,201,920)          False\n",
            "│    │    └─CNBlock (1)                                 [32, 384, 14, 14]    [32, 384, 14, 14]    (1,201,920)          False\n",
            "│    │    └─CNBlock (2)                                 [32, 384, 14, 14]    [32, 384, 14, 14]    (1,201,920)          False\n",
            "│    │    └─CNBlock (3)                                 [32, 384, 14, 14]    [32, 384, 14, 14]    (1,201,920)          False\n",
            "│    │    └─CNBlock (4)                                 [32, 384, 14, 14]    [32, 384, 14, 14]    (1,201,920)          False\n",
            "│    │    └─CNBlock (5)                                 [32, 384, 14, 14]    [32, 384, 14, 14]    (1,201,920)          False\n",
            "│    │    └─CNBlock (6)                                 [32, 384, 14, 14]    [32, 384, 14, 14]    (1,201,920)          False\n",
            "│    │    └─CNBlock (7)                                 [32, 384, 14, 14]    [32, 384, 14, 14]    (1,201,920)          False\n",
            "│    │    └─CNBlock (8)                                 [32, 384, 14, 14]    [32, 384, 14, 14]    (1,201,920)          False\n",
            "│    └─Sequential (6)                                   [32, 384, 14, 14]    [32, 768, 7, 7]      --                   False\n",
            "│    │    └─LayerNorm2d (0)                             [32, 384, 14, 14]    [32, 384, 14, 14]    (768)                False\n",
            "│    │    └─Conv2d (1)                                  [32, 384, 14, 14]    [32, 768, 7, 7]      (1,180,416)          False\n",
            "│    └─Sequential (7)                                   [32, 768, 7, 7]      [32, 768, 7, 7]      --                   False\n",
            "│    │    └─CNBlock (0)                                 [32, 768, 7, 7]      [32, 768, 7, 7]      (4,763,136)          False\n",
            "│    │    └─CNBlock (1)                                 [32, 768, 7, 7]      [32, 768, 7, 7]      (4,763,136)          False\n",
            "│    │    └─CNBlock (2)                                 [32, 768, 7, 7]      [32, 768, 7, 7]      (4,763,136)          False\n",
            "├─AdaptiveAvgPool2d (avgpool)                           [32, 768, 7, 7]      [32, 768, 1, 1]      --                   --\n",
            "├─Sequential (classifier)                               [32, 768, 1, 1]      [32, 5]              --                   True\n",
            "│    └─LayerNorm2d (0)                                  [32, 768, 1, 1]      [32, 768, 1, 1]      1,536                True\n",
            "│    └─Flatten (1)                                      [32, 768, 1, 1]      [32, 768]            --                   --\n",
            "│    └─Linear (2)                                       [32, 768]            [32, 5]              3,845                True\n",
            "=======================================================================================================================================\n",
            "Total params: 27,823,973\n",
            "Trainable params: 5,381\n",
            "Non-trainable params: 27,818,592\n",
            "Total mult-adds (G): 10.29\n",
            "=======================================================================================================================================\n",
            "Input size (MB): 19.27\n",
            "Forward/backward pass size (MB): 4200.53\n",
            "Params size (MB): 111.27\n",
            "Estimated Total Size (MB): 4331.07\n",
            "=======================================================================================================================================\n"
          ]
        }
      ]
    },
    {
      "cell_type": "markdown",
      "source": [
        "## Train"
      ],
      "metadata": {
        "id": "adpyl8PApNTH"
      }
    },
    {
      "cell_type": "code",
      "source": [
        "#https://pytorch.org/tutorials/beginner/blitz/cifar10_tutorial.html\n",
        "\n",
        "loss_fn = torch.nn.CrossEntropyLoss()\n",
        "optimizer = torch.optim.Adam(model.parameters(), lr=0.001)\n",
        "\n",
        "# Loop through each epoch\n",
        "for epoch in range(NUM_EPOCHS):\n",
        "  running_loss = 0.0\n",
        "\n",
        "  for i, data in enumerate(train_loader, 0):\n",
        "    # get the inputs; data is a list of [inputs, labels]\n",
        "    inputs, labels = data \n",
        "    inputs, labels = inputs.to(device), labels.to(device)\n",
        "\n",
        "    # zero the parameter gradients\n",
        "    optimizer.zero_grad()\n",
        "\n",
        "    # forward + backward + optimize\n",
        "    outputs = model(inputs)\n",
        "    loss = loss_fn(outputs, labels)\n",
        "    loss.backward()\n",
        "    optimizer.step()\n",
        "\n",
        "    # print statistics\n",
        "    running_loss += loss.item()\n",
        "    if i % 2000 == 1999:    # print every 2000 mini-batches\n",
        "        print(f'[{epoch + 1}, {i + 1:5d}] loss: {running_loss / 2000:.3f}')\n",
        "        running_loss = 0.0\n",
        "\n",
        "torch.save(model.state_dict(), MODEL_PATH)\n"
      ],
      "metadata": {
        "id": "TtjR-IZkaq2i"
      },
      "execution_count": 132,
      "outputs": []
    },
    {
      "cell_type": "code",
      "source": [
        "dataiter = iter(test_loader)\n",
        "inputs, labels = dataiter.next()\n",
        "inputs, labels = inputs.to(device), labels.to(device)\n",
        "\n",
        "print('GroundTruth: ', ' '.join(f'{labels[j]}' for j in range(4))) \n",
        "model.load_state_dict(torch.load(MODEL_PATH))\n",
        "outputs = model(inputs)\n",
        "_, predicted = torch.max(outputs, 1)\n",
        "\n",
        "print('Predicted: ', ' '.join(f'{predicted[j]}'\n",
        "                              for j in range(4)))"
      ],
      "metadata": {
        "colab": {
          "base_uri": "https://localhost:8080/"
        },
        "id": "xv2xR_6iBFx5",
        "outputId": "6c3ee34e-63d6-418d-8afd-369917aca837"
      },
      "execution_count": 144,
      "outputs": [
        {
          "output_type": "stream",
          "name": "stdout",
          "text": [
            "GroundTruth:  0 4 0 0\n",
            "Predicted:  0 2 0 0\n"
          ]
        }
      ]
    },
    {
      "cell_type": "code",
      "source": [
        "correct = 0\n",
        "total = 0\n",
        "# since we're not training, we don't need to calculate the gradients for our outputs\n",
        "with torch.no_grad():\n",
        "    for data in test_loader:\n",
        "        images, labels = data\n",
        "        images, labels = images.to(device), labels.to(device)\n",
        "        # calculate outputs by running images through the network\n",
        "        outputs = model(images)\n",
        "        # the class with the highest energy is what we choose as prediction\n",
        "        _, predicted = torch.max(outputs.data, 1)\n",
        "        total += labels.size(0)\n",
        "        correct += (predicted == labels).sum().item()\n",
        "\n",
        "print(f'Accuracy of the network on the 733 test images: {100 * correct // total} %')"
      ],
      "metadata": {
        "colab": {
          "base_uri": "https://localhost:8080/"
        },
        "id": "ayWihINZBcz7",
        "outputId": "fe0520e7-f65d-456d-c43c-d576e80e4d38"
      },
      "execution_count": 145,
      "outputs": [
        {
          "output_type": "stream",
          "name": "stdout",
          "text": [
            "Accuracy of the network on the 733 test images: 73 %\n"
          ]
        }
      ]
    },
    {
      "cell_type": "code",
      "source": [
        ""
      ],
      "metadata": {
        "id": "bu3rBoIaB7Ah"
      },
      "execution_count": null,
      "outputs": []
    }
  ]
}