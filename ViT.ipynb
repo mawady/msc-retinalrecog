{
  "nbformat": 4,
  "nbformat_minor": 0,
  "metadata": {
    "colab": {
      "name": "ViT.ipynb",
      "provenance": [],
      "collapsed_sections": [],
      "machine_shape": "hm",
      "authorship_tag": "ABX9TyOQr1iQ7CXyRV6u3C5X5Kw3"
    },
    "kernelspec": {
      "name": "python3",
      "display_name": "Python 3"
    },
    "language_info": {
      "name": "python"
    },
    "accelerator": "GPU",
    "gpuClass": "standard"
  },
  "cells": [
    {
      "cell_type": "markdown",
      "source": [
        "# Setup"
      ],
      "metadata": {
        "id": "AEWsvkmgxbIw"
      }
    },
    {
      "cell_type": "code",
      "execution_count": 1,
      "metadata": {
        "colab": {
          "base_uri": "https://localhost:8080/"
        },
        "id": "6vE2k6wBxIs-",
        "outputId": "4afa466c-15ac-4812-9824-93854e4330a5"
      },
      "outputs": [
        {
          "output_type": "stream",
          "name": "stdout",
          "text": [
            "Mounted at /content/drive\n",
            "CWD: /content/drive/My Drive/University Of Stirling/Dissertation/Online Implementations/ViT/APTOS2019\n"
          ]
        }
      ],
      "source": [
        "from google.colab import drive\n",
        "import os\n",
        "\n",
        "# Parameters\n",
        "DATASET_PATH = '/content/drive/My Drive/University Of Stirling/Dissertation/Online Implementations/ViT/APTOS2019'\n",
        "\n",
        "drive.mount('/content/drive')\n",
        "\n",
        "os.chdir(DATASET_PATH)\n",
        "print(\"CWD:\",os.getcwd())"
      ]
    },
    {
      "cell_type": "code",
      "source": [
        "!pip install -U tensorflow-addons"
      ],
      "metadata": {
        "colab": {
          "base_uri": "https://localhost:8080/"
        },
        "id": "zpTyVDo8gaam",
        "outputId": "84b5d2d0-e782-45fe-9a1a-719d5a4d26ff"
      },
      "execution_count": 2,
      "outputs": [
        {
          "output_type": "stream",
          "name": "stdout",
          "text": [
            "Looking in indexes: https://pypi.org/simple, https://us-python.pkg.dev/colab-wheels/public/simple/\n",
            "Collecting tensorflow-addons\n",
            "  Downloading tensorflow_addons-0.17.1-cp37-cp37m-manylinux_2_17_x86_64.manylinux2014_x86_64.whl (1.1 MB)\n",
            "\u001b[K     |████████████████████████████████| 1.1 MB 5.1 MB/s \n",
            "\u001b[?25hRequirement already satisfied: typeguard>=2.7 in /usr/local/lib/python3.7/dist-packages (from tensorflow-addons) (2.7.1)\n",
            "Requirement already satisfied: packaging in /usr/local/lib/python3.7/dist-packages (from tensorflow-addons) (21.3)\n",
            "Requirement already satisfied: pyparsing!=3.0.5,>=2.0.2 in /usr/local/lib/python3.7/dist-packages (from packaging->tensorflow-addons) (3.0.9)\n",
            "Installing collected packages: tensorflow-addons\n",
            "Successfully installed tensorflow-addons-0.17.1\n"
          ]
        }
      ]
    },
    {
      "cell_type": "code",
      "source": [
        "import math\n",
        "import numpy as np\n",
        "import pandas as pd\n",
        "import cv2\n",
        "import tensorflow as tf\n",
        "from tensorflow import keras\n",
        "from tensorflow.keras import layers\n",
        "from keras.preprocessing.image import ImageDataGenerator\n",
        "import tensorflow_addons as tfa\n",
        "%matplotlib inline\n",
        "import matplotlib.pyplot as plt\n",
        "from sklearn.model_selection import train_test_split"
      ],
      "metadata": {
        "id": "VQWjct9fyd5H"
      },
      "execution_count": 4,
      "outputs": []
    },
    {
      "cell_type": "code",
      "source": [
        "'''\n",
        "This function reads data from the respective train and test directories\n",
        "'''\n",
        "\n",
        "def load_data():\n",
        "    train = pd.read_csv('train.csv')\n",
        "    \n",
        "    train_dir = os.path.join('./','train_images/')\n",
        "    \n",
        "    train['file_path'] = train['id_code'].map(lambda x: os.path.join(train_dir,'{}.png'.format(x)))\n",
        "  \n",
        "    train['file_name'] = train[\"id_code\"].apply(lambda x: x + \".png\")\n",
        "    \n",
        "    train['diagnosis'] = train['diagnosis'].astype(str)\n",
        "    \n",
        "    return train\n",
        "\n",
        "df_train = load_data()\n",
        "print(df_train.shape,'\\n')\n",
        "\n",
        "df_train_train,df_train_test = train_test_split(df_train,test_size = 0.2)\n"
      ],
      "metadata": {
        "colab": {
          "base_uri": "https://localhost:8080/"
        },
        "id": "KY58hjUjfydm",
        "outputId": "cedad673-8ab7-404c-d7b7-ab027a2e4f3f"
      },
      "execution_count": 6,
      "outputs": [
        {
          "output_type": "stream",
          "name": "stdout",
          "text": [
            "(3662, 4) \n",
            "\n"
          ]
        }
      ]
    },
    {
      "cell_type": "code",
      "source": [
        "learning_rate = 0.001\n",
        "weight_decay = 0.0001\n",
        "batch_size = 256\n",
        "num_epochs = 100\n",
        "image_size = 64  # We'll resize input images to this size\n",
        "patch_size = 6  # Size of the patches to be extract from the input images\n",
        "num_patches = (image_size // patch_size) ** 2\n",
        "projection_dim = 64\n",
        "num_heads = 4\n",
        "transformer_units = [\n",
        "    projection_dim * 2,\n",
        "    projection_dim,\n",
        "]  # Size of the transformer layers\n",
        "transformer_layers = 8\n",
        "mlp_head_units = [2048, 1024]  # Size of the dense layers of the final classifier"
      ],
      "metadata": {
        "id": "QcoibM-mg3vz"
      },
      "execution_count": 7,
      "outputs": []
    },
    {
      "cell_type": "code",
      "source": [
        "def img_generator(train,test):\n",
        "    train_datagen=ImageDataGenerator(rescale=1./255, validation_split=0.2, horizontal_flip=True)\n",
        "    \n",
        "    train_generator=train_datagen.flow_from_dataframe(dataframe=train,\n",
        "                                                      directory=\"./train_images_resized_preprocessed/\",\n",
        "                                                      x_col=\"file_name\",\n",
        "                                                      y_col=\"diagnosis\",\n",
        "                                                      batch_size=batch_size,\n",
        "                                                      class_mode=\"categorical\",\n",
        "                                                      target_size=(image_size, image_size),\n",
        "                                                      subset='training')\n",
        "    \n",
        "    test_generator=train_datagen.flow_from_dataframe(dataframe=train,\n",
        "                                                      directory=\"./train_images_resized_preprocessed/\",\n",
        "                                                      x_col=\"file_name\",\n",
        "                                                      y_col=\"diagnosis\",\n",
        "                                                      batch_size=batch_size,\n",
        "                                                      class_mode=\"categorical\",    \n",
        "                                                      target_size=(image_size, image_size),\n",
        "                                                      subset='validation')\n",
        "    \n",
        "    return train_generator, test_generator"
      ],
      "metadata": {
        "id": "D-7tnstziNEu"
      },
      "execution_count": 8,
      "outputs": []
    },
    {
      "cell_type": "code",
      "source": [
        "train_generator, test_generator = img_generator(df_train_train,df_train_test)"
      ],
      "metadata": {
        "colab": {
          "base_uri": "https://localhost:8080/"
        },
        "id": "uXNorIuEjIO5",
        "outputId": "a8dfbd8c-6068-4419-a453-ebea730fe0ed"
      },
      "execution_count": 9,
      "outputs": [
        {
          "output_type": "stream",
          "name": "stderr",
          "text": [
            "/usr/local/lib/python3.7/dist-packages/keras_preprocessing/image/dataframe_iterator.py:282: UserWarning: Found 592 invalid image filename(s) in x_col=\"file_name\". These filename(s) will be ignored.\n",
            "  .format(n_invalid, x_col)\n"
          ]
        },
        {
          "output_type": "stream",
          "name": "stdout",
          "text": [
            "Found 1870 validated image filenames belonging to 5 classes.\n",
            "Found 467 validated image filenames belonging to 5 classes.\n"
          ]
        }
      ]
    },
    {
      "cell_type": "code",
      "source": [
        "def mlp(x, hidden_units, dropout_rate):\n",
        "    for units in hidden_units:\n",
        "        x = layers.Dense(units, activation=tf.nn.gelu)(x)\n",
        "        x = layers.Dropout(dropout_rate)(x)\n",
        "    return x"
      ],
      "metadata": {
        "id": "43iwuTfKhB0e"
      },
      "execution_count": 10,
      "outputs": []
    },
    {
      "cell_type": "code",
      "source": [
        "\n",
        "class Patches(layers.Layer):\n",
        "    def __init__(self, patch_size):\n",
        "        super(Patches, self).__init__()\n",
        "        self.patch_size = patch_size\n",
        "\n",
        "    def call(self, images):\n",
        "        batch_size = tf.shape(images)[0]\n",
        "        patches = tf.image.extract_patches(\n",
        "            images=images,\n",
        "            sizes=[1, self.patch_size, self.patch_size, 1],\n",
        "            strides=[1, self.patch_size, self.patch_size, 1],\n",
        "            rates=[1, 1, 1, 1],\n",
        "            padding=\"VALID\",\n",
        "        )\n",
        "        patch_dims = patches.shape[-1]\n",
        "        patches = tf.reshape(patches, [batch_size, -1, patch_dims])\n",
        "        return patches\n"
      ],
      "metadata": {
        "id": "wZAKei7thNS8"
      },
      "execution_count": 23,
      "outputs": []
    },
    {
      "cell_type": "code",
      "source": [
        "import matplotlib.pyplot as plt\n",
        "\n",
        "img, label = train_generator.next()\n",
        "\n",
        "image = img[0]\n",
        "plt.figure(figsize=(4, 4))\n",
        "plt.imshow(image)\n",
        "plt.show()"
      ],
      "metadata": {
        "colab": {
          "base_uri": "https://localhost:8080/",
          "height": 1000
        },
        "id": "8YnGFQ1mhtgL",
        "outputId": "c9d60321-9a03-40f7-c87f-97840ebe2e87"
      },
      "execution_count": 14,
      "outputs": [
        {
          "output_type": "display_data",
          "data": {
            "text/plain": [
              "<Figure size 288x288 with 1 Axes>"
            ],
            "image/png": "[encoded data removed]"
          },
          "metadata": {
            "needs_background": "light"
          }
        },
        {
          "output_type": "stream",
          "name": "stdout",
          "text": [
            "tf.Tensor(\n",
            "[[[[0.5019608  0.5019608  0.5019608 ]\n",
            "   [0.5019608  0.5019608  0.5019608 ]\n",
            "   [0.5019608  0.5019608  0.5019608 ]\n",
            "   ...\n",
            "   [0.5019608  0.5019608  0.5019608 ]\n",
            "   [0.5019608  0.5019608  0.5019608 ]\n",
            "   [0.5019608  0.5019608  0.5019608 ]]\n",
            "\n",
            "  [[0.5019608  0.5019608  0.5019608 ]\n",
            "   [0.5019608  0.5019608  0.5019608 ]\n",
            "   [0.5019608  0.5019608  0.4901961 ]\n",
            "   ...\n",
            "   [0.5019608  0.5019608  0.4901961 ]\n",
            "   [0.5019608  0.5019608  0.5019608 ]\n",
            "   [0.5019608  0.5019608  0.5019608 ]]\n",
            "\n",
            "  [[0.5019608  0.5019608  0.5019608 ]\n",
            "   [0.5019608  0.5019608  0.48627454]\n",
            "   [0.5019608  0.5019608  0.48627454]\n",
            "   ...\n",
            "   [0.5019608  0.5019608  0.48627454]\n",
            "   [0.5019608  0.5019608  0.48627454]\n",
            "   [0.5019608  0.5019608  0.5019608 ]]\n",
            "\n",
            "  ...\n",
            "\n",
            "  [[0.5019608  0.5019608  0.5019608 ]\n",
            "   [0.5019608  0.5019608  0.5019608 ]\n",
            "   [0.5019608  0.5019608  0.48627454]\n",
            "   ...\n",
            "   [0.5019608  0.5019608  0.48627454]\n",
            "   [0.5019608  0.5019608  0.5019608 ]\n",
            "   [0.5019608  0.5019608  0.5019608 ]]\n",
            "\n",
            "  [[0.5019608  0.5019608  0.5019608 ]\n",
            "   [0.5019608  0.5019608  0.5019608 ]\n",
            "   [0.5019608  0.5019608  0.5019608 ]\n",
            "   ...\n",
            "   [0.5019608  0.5019608  0.5019608 ]\n",
            "   [0.5019608  0.5019608  0.5019608 ]\n",
            "   [0.5019608  0.5019608  0.5019608 ]]\n",
            "\n",
            "  [[0.5019608  0.5019608  0.5019608 ]\n",
            "   [0.5019608  0.5019608  0.5019608 ]\n",
            "   [0.5019608  0.5019608  0.5019608 ]\n",
            "   ...\n",
            "   [0.5019608  0.5019608  0.5019608 ]\n",
            "   [0.5019608  0.5019608  0.5019608 ]\n",
            "   [0.5019608  0.5019608  0.5019608 ]]]], shape=(1, 64, 64, 3), dtype=float32) tf.Tensor(1, shape=(), dtype=int32)\n",
            "Image size: 64 X 64\n",
            "Patch size: 6 X 6\n",
            "Patches per image: 100\n",
            "Elements per patch: 108\n"
          ]
        },
        {
          "output_type": "display_data",
          "data": {
            "text/plain": [
              "<Figure size 288x288 with 100 Axes>"
            ],
            "image/png": "[encoded data removed]"
          },
          "metadata": {
            "needs_background": "light"
          }
        }
      ]
    },
    {
      "cell_type": "code",
      "source": [
        "resized_image = tf.image.resize(\n",
        "    tf.convert_to_tensor([image]), size=(image_size, image_size)\n",
        ")\n",
        "\n",
        "patches = Patches(patch_size)(resized_image)\n",
        "print(f\"Image size: {image_size} X {image_size}\")\n",
        "print(f\"Patch size: {patch_size} X {patch_size}\")\n",
        "print(f\"Patches per image: {patches.shape[1]}\")\n",
        "print(f\"Elements per patch: {patches.shape[-1]}\")\n",
        "\n",
        "n = int(np.sqrt(patches.shape[1]))\n",
        "plt.figure(figsize=(4, 4))\n",
        "for i, patch in enumerate(patches[0]):\n",
        "    ax = plt.subplot(n, n, i + 1)\n",
        "    patch_img = tf.reshape(patch, (patch_size, patch_size, 3))\n",
        "    plt.imshow(patch_img)\n",
        "    plt.axis(\"off\")"
      ],
      "metadata": {
        "colab": {
          "base_uri": "https://localhost:8080/",
          "height": 316
        },
        "id": "uKarqd2clJPz",
        "outputId": "51df6e17-a6d3-4478-98bc-440aff6f2784"
      },
      "execution_count": 26,
      "outputs": [
        {
          "output_type": "stream",
          "name": "stdout",
          "text": [
            "Image size: 64 X 64\n",
            "Patch size: 6 X 6\n",
            "Patches per image: 100\n",
            "Elements per patch: 108\n"
          ]
        },
        {
          "output_type": "display_data",
          "data": {
            "text/plain": [
              "<Figure size 288x288 with 100 Axes>"
            ],
            "image/png": "[encoded data removed]"
          },
          "metadata": {
            "needs_background": "light"
          }
        }
      ]
    },
    {
      "cell_type": "code",
      "source": [
        ""
      ],
      "metadata": {
        "id": "fffSc9ZXT0AR"
      },
      "execution_count": null,
      "outputs": []
    }
  ]
}